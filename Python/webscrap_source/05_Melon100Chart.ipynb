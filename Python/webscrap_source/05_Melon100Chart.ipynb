{
 "cells": [
  {
   "cell_type": "markdown",
   "source": [
    "### Melon100 Chart\n",
    "* 100곡의 노래의 제목과 SongID 추출해서 list에 저장하기\n",
    "* 100곡 노래의 상세정보를 추출해서 list와 dict에 저장해서 json 파일로 저장하기\n",
    "* json 파일을 load하여 Pandas의 DataFrame에 저장하기\n",
    "* DataFrame 객체를 DB의 Table에 저장하기"
   ],
   "metadata": {
    "collapsed": false,
    "pycharm": {
     "name": "#%% md\n"
    }
   }
  },
  {
   "cell_type": "code",
   "execution_count": 1,
   "outputs": [],
   "source": [
    "import requests\n",
    "from bs4 import BeautifulSoup\n",
    "import re"
   ],
   "metadata": {
    "collapsed": false,
    "pycharm": {
     "name": "#%%\n"
    }
   }
  },
  {
   "cell_type": "code",
   "source": [
    "url = 'https://www.melon.com/chart/index.htm'\n",
    "req_header_dict = {\n",
    "    # 요청헤더 : 브라우저정보\n",
    "    'user-agent': 'Mozilla/5.0 (Windows NT 10.0; Win64; x64) AppleWebKit/537.36 (KHTML, like Gecko) Chrome/97.0.4692.99 Safari/537.36'\n",
    "}\n",
    "res = requests.get(url, headers=req_header_dict)\n",
    "print(res.status_code)\n",
    "\n",
    "if res.ok:\n",
    "    # 소스보기의 텍스트\n",
    "    html = res.text\n",
    "    soup = BeautifulSoup(html, 'html.parser')\n",
    "    #<div id=\"tb_list\"><tr><a>\n",
    "    print(len(soup.select(\"div#tb_list tr a[href*='playSong']\")))\n",
    "    a_tags = soup.select(\"div#tb_list tr a[href*='playSong']\")\n",
    "\n",
    "    #노래 100곡의 정보를 저장할 list 선언\n",
    "    song_list = []\n",
    "    for idx,a_tag in enumerate(a_tags,1):\n",
    "        #노래 1곡의 정보를 저장할 dict 선언\n",
    "        song_dict = {}\n",
    "        #<a href=\"\">노래제목</a>\n",
    "        song_title = a_tag.text\n",
    "        song_dict['song_title'] = song_title\n",
    "\n",
    "        #a태그의 href 속성의 값을 추출하기 javascript:melon.play.playSong('1000002721',34535898);\n",
    "        href_value = a_tag['href']\n",
    "        #Song ID를 찾기 위한 정규표현식\n",
    "        matched = re.search(r'(\\d+)\\);', href_value)\n",
    "        if matched:\n",
    "            song_id = matched.group(1) # group(0) : 34535898);  group(1) : 34535898\n",
    "            song_dict['song_id'] = song_id\n",
    "            song_detail_url = f'https://www.melon.com/song/detail.htm?songId={song_id}'\n",
    "            song_dict['song_detail_url'] = song_detail_url\n",
    "            #print(song_dict)\n",
    "            song_list.append(song_dict)\n",
    "\n",
    "print(len(song_list))\n",
    "print(song_list[0])"
   ],
   "metadata": {
    "collapsed": false,
    "pycharm": {
     "name": "#%%\n"
    }
   },
   "execution_count": 25,
   "outputs": [
    {
     "name": "stdout",
     "output_type": "stream",
     "text": [
      "200\n",
      "100\n",
      "100\n"
     ]
    }
   ]
  },
  {
   "cell_type": "code",
   "execution_count": 38,
   "outputs": [
    {
     "name": "stdout",
     "output_type": "stream",
     "text": [
      "200\n",
      "1 사랑은 늘 도망가\n",
      "[<dd><a href=\"javascript:melon.link.goAlbumDetail('10735654');\">신사와 아가씨 OST Part.2</a></dd>, <dd>2021.10.11</dd>, <dd>발라드, 국내드라마</dd>, <dd>Flac 16/24bit</dd>]\n",
      "123990\n",
      "200\n",
      "2 취중고백\n",
      "[<dd><a href=\"javascript:melon.link.goAlbumDetail('10816959');\">취중고백</a></dd>, <dd>2021.12.19</dd>, <dd>발라드</dd>, <dd>Flac 16bit</dd>]\n",
      "68684\n",
      "200\n",
      "3 호랑수월가\n",
      "[<dd><a href=\"javascript:melon.link.goAlbumDetail('10842005');\">호랑수월가</a></dd>, <dd>2022.01.15</dd>, <dd>발라드</dd>, <dd>Flac 16bit</dd>]\n",
      "35285\n",
      "200\n",
      "4 Step Back\n",
      "[<dd><a href=\"javascript:melon.link.goAlbumDetail('10830791');\">Step Back</a></dd>, <dd>2022.01.03</dd>, <dd>댄스</dd>, <dd>Flac 16bit</dd>]\n",
      "65658\n",
      "200\n",
      "5 회전목마 (Feat. Zion.T, 원슈타인) (Prod. Slom)\n",
      "[<dd><a href=\"javascript:melon.link.goAlbumDetail('10775252');\">쇼미더머니 10 Episode 2</a></dd>, <dd>2021.11.13</dd>, <dd>랩/힙합</dd>, <dd>Flac 16/24bit</dd>]\n",
      "186557\n",
      "200\n",
      "6 ELEVEN\n",
      "[<dd><a href=\"javascript:melon.link.goAlbumDetail('10798794');\">ELEVEN</a></dd>, <dd>2021.12.01</dd>, <dd>댄스</dd>, <dd>Flac 16bit</dd>]\n",
      "103233\n",
      "200\n",
      "7 리무진 (Feat. MINO) (Prod. GRAY)\n",
      "[<dd><a href=\"javascript:melon.link.goAlbumDetail('10784974');\">쇼미더머니 10 Episode 3</a></dd>, <dd>2021.11.20</dd>, <dd>랩/힙합</dd>, <dd>Flac 16/24bit</dd>]\n",
      "162366\n",
      "200\n",
      "8 Counting Stars (Feat. Beenzino)\n",
      "[<dd><a href=\"javascript:melon.link.goAlbumDetail('10810162');\">Counting Stars</a></dd>, <dd>2021.12.12</dd>, <dd>랩/힙합</dd>, <dd>Flac 16/24bit</dd>]\n",
      "147753\n",
      "200\n",
      "9 Dreams Come True\n",
      "[<dd><a href=\"javascript:melon.link.goAlbumDetail('10818396');\">Dreams Come True - SM STATION</a></dd>, <dd>2021.12.20</dd>, <dd>댄스</dd>, <dd>Flac 16bit</dd>]\n",
      "74889\n",
      "200\n",
      "10 눈이 오잖아(Feat.헤이즈)\n",
      "[<dd><a href=\"javascript:melon.link.goAlbumDetail('10801677');\">눈이 오잖아(Feat.헤이즈)</a></dd>, <dd>2021.12.03</dd>, <dd>발라드</dd>, <dd>Flac 16bit</dd>]\n",
      "61575\n",
      "200\n",
      "11 이제 나만 믿어요\n",
      "[<dd><a href=\"javascript:melon.link.goAlbumDetail('10412319');\">내일은 미스터트롯 우승자 특전곡</a></dd>, <dd>2020.04.03</dd>, <dd>성인가요</dd>, <dd>Flac 16bit</dd>]\n",
      "146420\n",
      "200\n",
      "12 Can't Control Myself\n",
      "[<dd><a href=\"javascript:melon.link.goAlbumDetail('10843164');\">Can't Control Myself</a></dd>, <dd>2022.01.17</dd>, <dd>발라드</dd>, <dd>Flac 16bit</dd>]\n",
      "47543\n",
      "200\n",
      "13 겨울잠\n",
      "[<dd><a href=\"javascript:melon.link.goAlbumDetail('10827816');\">조각집</a></dd>, <dd>2021.12.29</dd>, <dd>발라드</dd>, <dd>Flac 16bit</dd>]\n",
      "89258\n",
      "200\n",
      "14 다정히 내 이름을 부르면\n",
      "[<dd><a href=\"javascript:melon.link.goAlbumDetail('10610525');\">다정히 내 이름을 부르면 (경서예지 x 전건호)</a></dd>, <dd>2021.05.19</dd>, <dd>발라드</dd>, <dd>Flac 16/24bit</dd>]\n",
      "109305\n",
      "200\n",
      "15 신호등\n",
      "[<dd><a href=\"javascript:melon.link.goAlbumDetail('10607796');\">신호등</a></dd>, <dd>2021.05.14</dd>, <dd>록/메탈</dd>, <dd>Flac 16/24bit</dd>]\n",
      "256451\n",
      "200\n",
      "16 만남은 쉽고 이별은 어려워 (Feat. Leellamarz) (Prod. TOIL)\n",
      "[<dd><a href=\"javascript:melon.link.goAlbumDetail('10784974');\">쇼미더머니 10 Episode 3</a></dd>, <dd>2021.11.20</dd>, <dd>랩/힙합</dd>, <dd>Flac 16/24bit</dd>]\n",
      "107153\n",
      "200\n",
      "17 STAY\n",
      "[<dd><a href=\"javascript:melon.link.goAlbumDetail('10646395');\">Stay</a></dd>, <dd>2021.07.09</dd>, <dd>POP</dd>, <dd>Flac 16bit</dd>]\n",
      "202790\n",
      "200\n",
      "18 다시 사랑한다면 (김필 Ver.)\n",
      "[<dd><a href=\"javascript:melon.link.goAlbumDetail('10614238');\">사랑의 콜센타 PART56</a></dd>, <dd>2021.05.25</dd>, <dd>성인가요</dd>, <dd>Flac 16bit</dd>]\n",
      "40774\n",
      "200\n",
      "19 그대라는 사치\n",
      "[<dd><a href=\"javascript:melon.link.goAlbumDetail('10644845');\">사랑의 콜센타 PART62</a></dd>, <dd>2021.07.06</dd>, <dd>발라드</dd>, <dd>Flac 16bit</dd>]\n",
      "36831\n",
      "200\n",
      "20 Next Level\n",
      "[<dd><a href=\"javascript:melon.link.goAlbumDetail('10609232');\">Next Level</a></dd>, <dd>2021.05.17</dd>, <dd>댄스</dd>, <dd>Flac 16bit</dd>]\n",
      "235360\n",
      "200\n",
      "21 strawberry moon\n",
      "[<dd><a href=\"javascript:melon.link.goAlbumDetail('10743453');\">strawberry moon</a></dd>, <dd>2021.10.19</dd>, <dd>록/메탈</dd>, <dd>Flac 16/24bit</dd>]\n",
      "179840\n",
      "200\n",
      "22 SMILEY (Feat. BIBI)\n",
      "[<dd><a href=\"javascript:melon.link.goAlbumDetail('10842611');\">ˣ‿ˣ (SMiLEY)</a></dd>, <dd>2022.01.17</dd>, <dd>댄스</dd>, <dd>Flac 16/24bit</dd>]\n",
      "44487\n",
      "200\n",
      "23 Christmas Tree\n",
      "[<dd><a href=\"javascript:melon.link.goAlbumDetail('10823566');\">그 해 우리는 OST Part.5</a></dd>, <dd>2021.12.24</dd>, <dd>발라드, 국내드라마</dd>, <dd>Flac 16/24bit</dd>]\n",
      "74539\n",
      "200\n",
      "24 별빛 같은 나의 사랑아\n",
      "[<dd><a href=\"javascript:melon.link.goAlbumDetail('10575005');\">별빛 같은 나의 사랑아</a></dd>, <dd>2021.03.09</dd>, <dd>성인가요</dd>, <dd>Flac 16bit</dd>]\n",
      "69703\n",
      "200\n",
      "25 드라마\n",
      "[<dd><a href=\"javascript:melon.link.goAlbumDetail('10827816');\">조각집</a></dd>, <dd>2021.12.29</dd>, <dd>발라드</dd>, <dd>Flac 16bit</dd>]\n",
      "79888\n",
      "200\n",
      "26 잊었니\n",
      "[<dd><a href=\"javascript:melon.link.goAlbumDetail('10633915');\">사랑의 콜센타 PART60</a></dd>, <dd>2021.06.22</dd>, <dd>성인가요</dd>, <dd>Flac 16bit</dd>]\n",
      "36020\n",
      "200\n",
      "27 Savage\n",
      "[<dd><a href=\"javascript:melon.link.goAlbumDetail('10731792');\">Savage - The 1st Mini Album</a></dd>, <dd>2021.10.05</dd>, <dd>댄스</dd>, <dd>Flac 16bit</dd>]\n",
      "139539\n",
      "200\n",
      "28 언덕나무\n",
      "[<dd><a href=\"javascript:melon.link.goAlbumDetail('10831160');\">그 해 우리는 OST Part.7</a></dd>, <dd>2022.01.04</dd>, <dd>발라드, 국내드라마</dd>, <dd>Flac 16/24bit</dd>]\n",
      "37772\n",
      "200\n",
      "29 HERO\n",
      "[<dd><a href=\"javascript:melon.link.goAlbumDetail('10513079');\">HERO</a></dd>, <dd>2020.11.04</dd>, <dd>성인가요</dd>, <dd>Flac 16bit</dd>]\n",
      "69936\n",
      "200\n",
      "30 끝사랑\n",
      "[<dd><a href=\"javascript:melon.link.goAlbumDetail('10639384');\">사랑의 콜센타 PART61</a></dd>, <dd>2021.06.29</dd>, <dd>성인가요</dd>, <dd>Flac 16bit</dd>]\n",
      "33317\n",
      "200\n",
      "31 우리가 헤어져야 했던 이유\n",
      "[<dd><a href=\"javascript:melon.link.goAlbumDetail('10810337');\">그 해 우리는 OST Part.2</a></dd>, <dd>2021.12.13</dd>, <dd>발라드, 국내드라마</dd>, <dd>Flac 16/24bit</dd>]\n",
      "41663\n",
      "200\n",
      "32 서랍\n",
      "[<dd><a href=\"javascript:melon.link.goAlbumDetail('10804190');\">그 해 우리는 OST Part.1</a></dd>, <dd>2021.12.07</dd>, <dd>발라드, 국내드라마</dd>, <dd>Flac 16/24bit</dd>]\n",
      "38414\n",
      "200\n",
      "33 Bk Love\n",
      "[<dd><a href=\"javascript:melon.link.goAlbumDetail('10632758');\">뽕숭아학당 PART23</a></dd>, <dd>2021.06.21</dd>, <dd>랩/힙합</dd>, <dd>Flac 16bit</dd>]\n",
      "33012\n",
      "200\n",
      "34 흰눈\n",
      "[<dd><a href=\"javascript:melon.link.goAlbumDetail('10809753');\">흰눈</a></dd>, <dd>2021.12.12</dd>, <dd>발라드</dd>, <dd>Flac 16bit</dd>]\n",
      "28341\n",
      "200\n",
      "35 너 아니면 안돼\n",
      "[<dd><a href=\"javascript:melon.link.goAlbumDetail('10856183');\">너 아니면 안돼</a></dd>, <dd>2022.02.03</dd>, <dd>발라드</dd>, <dd>Flac 16bit</dd>]\n",
      "6517\n",
      "200\n",
      "36 Butter\n",
      "[<dd><a href=\"javascript:melon.link.goAlbumDetail('10612483');\">Butter</a></dd>, <dd>2021.05.21</dd>, <dd>댄스</dd>, <dd>Flac 16bit</dd>]\n",
      "263255\n",
      "200\n",
      "37 너를 생각해\n",
      "[<dd><a href=\"javascript:melon.link.goAlbumDetail('10716399');\">너를 생각해</a></dd>, <dd>2021.09.22</dd>, <dd>R&amp;B/Soul, 인디음악</dd>, <dd>Flac 16bit</dd>]\n",
      "96631\n",
      "200\n",
      "38 사랑이 아니었다고 말하지 마요\n",
      "[<dd><a href=\"javascript:melon.link.goAlbumDetail('10836232');\">사랑이 아니었다고 말하지 마요</a></dd>, <dd>2022.01.09</dd>, <dd>발라드</dd>, <dd>Flac 16bit</dd>]\n",
      "17741\n",
      "200\n",
      "39 abcdefu\n",
      "[<dd><a href=\"javascript:melon.link.goAlbumDetail('10681625');\">abcdefu</a></dd>, <dd>2021.08.13</dd>, <dd>POP</dd>, <dd>Flac 16bit</dd>]\n",
      "48016\n",
      "200\n",
      "40 Child\n",
      "[<dd><a href=\"javascript:melon.link.goAlbumDetail('10857610');\">Child - SM STATION : NCT LAB</a></dd>, <dd>2022.02.04</dd>, <dd>랩/힙합</dd>, <dd>Flac 16bit</dd>]\n",
      "47796\n",
      "200\n",
      "41 OHAYO MY NIGHT\n",
      "[<dd><a href=\"javascript:melon.link.goAlbumDetail('10447520');\">OHAYO MY NIGHT</a></dd>, <dd>2020.06.20</dd>, <dd>랩/힙합</dd>, <dd>Flac 16/24bit</dd>]\n",
      "172686\n",
      "200\n",
      "42 Dynamite\n",
      "[<dd><a href=\"javascript:melon.link.goAlbumDetail('10479150');\">Dynamite (DayTime Version)</a></dd>, <dd>2020.08.24</dd>, <dd>댄스</dd>, <dd>Flac 16bit</dd>]\n",
      "428692\n",
      "200\n",
      "43 계단말고 엘리베이터\n",
      "[<dd><a href=\"javascript:melon.link.goAlbumDetail('10195495');\">계단말고 엘리베이터</a></dd>, <dd>2018.08.20</dd>, <dd>성인가요</dd>, <dd>Flac 16/24bit</dd>]\n",
      "56703\n",
      "200\n",
      "44 네가 없는 밤 (Feat. ASH ISLAND) (Prod. GRAY)\n",
      "[<dd><a href=\"javascript:melon.link.goAlbumDetail('10802694');\">쇼미더머니 10 Final</a></dd>, <dd>2021.12.04</dd>, <dd>랩/힙합</dd>, <dd>Flac 16/24bit</dd>]\n",
      "57094\n",
      "200\n",
      "45 불협화음 (Feat. AKMU) (Prod. GRAY)\n",
      "[<dd><a href=\"javascript:melon.link.goAlbumDetail('10793912');\">쇼미더머니 10 Semi Final</a></dd>, <dd>2021.11.27</dd>, <dd>랩/힙합</dd>, <dd>Flac 16/24bit</dd>]\n",
      "73893\n",
      "200\n",
      "46 Permission to Dance\n",
      "[<dd><a href=\"javascript:melon.link.goAlbumDetail('10648182');\">Butter / Permission to Dance</a></dd>, <dd>2021.07.09</dd>, <dd>댄스</dd>, <dd>Flac 16bit</dd>]\n",
      "195014\n",
      "200\n",
      "47 문득\n",
      "[<dd><a href=\"javascript:melon.link.goAlbumDetail('10601149');\">Bipolar</a></dd>, <dd>2021.05.02</dd>, <dd>랩/힙합</dd>, <dd>Flac 16/24bit</dd>]\n",
      "82327\n",
      "200\n",
      "48 여름비\n",
      "[<dd><a href=\"javascript:melon.link.goAlbumDetail('10836345');\">그 해 우리는 OST Part.8</a></dd>, <dd>2022.01.10</dd>, <dd>포크/블루스, 국내드라마</dd>, <dd>Flac 16/24bit</dd>]\n",
      "25666\n",
      "200\n",
      "49 바라만 본다\n",
      "[<dd><a href=\"javascript:melon.link.goAlbumDetail('10638275');\">MSG워너비 1집</a></dd>, <dd>2021.06.26</dd>, <dd>발라드</dd>, <dd>Flac 16/24bit</dd>]\n",
      "168910\n",
      "200\n",
      "50 My Universe\n",
      "[<dd><a href=\"javascript:melon.link.goAlbumDetail('10720913');\">My Universe</a></dd>, <dd>2021.09.24</dd>, <dd>POP</dd>, <dd>Flac 16bit</dd>]\n",
      "147798\n",
      "200\n",
      "51 Weekend\n",
      "[<dd><a href=\"javascript:melon.link.goAlbumDetail('10645654');\">Weekend</a></dd>, <dd>2021.07.06</dd>, <dd>댄스</dd>, <dd>Flac 16bit</dd>]\n",
      "159195\n",
      "200\n",
      "52 쉬어 (Feat. MINO) (Prod. GRAY)\n",
      "[<dd><a href=\"javascript:melon.link.goAlbumDetail('10765081');\">쇼미더머니 10 Episode 1</a></dd>, <dd>2021.11.06</dd>, <dd>랩/힙합</dd>, <dd>Flac 16/24bit</dd>]\n",
      "95759\n",
      "200\n",
      "53 Celebrity\n",
      "[<dd><a href=\"javascript:melon.link.goAlbumDetail('10554246');\">IU 5th Album 'LILAC'</a></dd>, <dd>2021.03.25</dd>, <dd>댄스</dd>, <dd>Flac 16/24bit</dd>]\n",
      "312340\n",
      "200\n",
      "54 낙하 (with 아이유)\n",
      "[<dd><a href=\"javascript:melon.link.goAlbumDetail('10661658');\">NEXT EPISODE</a></dd>, <dd>2021.07.26</dd>, <dd>록/메탈</dd>, <dd>Flac 16/24bit</dd>]\n",
      "164606\n",
      "200\n",
      "55 Wake Up (Prod. 코드 쿤스트)\n",
      "[<dd><a href=\"javascript:melon.link.goAlbumDetail('10765081');\">쇼미더머니 10 Episode 1</a></dd>, <dd>2021.11.06</dd>, <dd>랩/힙합</dd>, <dd>Flac 16/24bit</dd>]\n",
      "78620\n",
      "200\n",
      "56 그게 더 편할 것 같아 (N번째 연애 X 멜로망스)\n",
      "[<dd><a href=\"javascript:melon.link.goAlbumDetail('10792490');\">그게 더 편할 것 같아 (N번째 연애 X 멜로망스)</a></dd>, <dd>2021.11.26</dd>, <dd>발라드</dd>, <dd>Flac 16/24bit</dd>]\n",
      "26825\n",
      "200\n",
      "57 Good Night (Feat. BE'O)\n",
      "[<dd><a href=\"javascript:melon.link.goAlbumDetail('10848667');\">RE:UP</a></dd>, <dd>2022.01.24</dd>, <dd>랩/힙합</dd>, <dd>Flac 16/24bit</dd>]\n",
      "20160\n",
      "200\n",
      "58 이별후회\n",
      "[<dd><a href=\"javascript:melon.link.goAlbumDetail('10818493');\">그 해 우리는 OST Part.4</a></dd>, <dd>2021.12.21</dd>, <dd>발라드, 국내드라마</dd>, <dd>Flac 16/24bit</dd>]\n",
      "25990\n",
      "200\n",
      "59 라일락\n",
      "[<dd><a href=\"javascript:melon.link.goAlbumDetail('10554246');\">IU 5th Album 'LILAC'</a></dd>, <dd>2021.03.25</dd>, <dd>댄스</dd>, <dd>Flac 16/24bit</dd>]\n",
      "230177\n",
      "200\n",
      "60 밤하늘의 별을(2020)\n",
      "[<dd><a href=\"javascript:melon.link.goAlbumDetail('10518234');\">밤하늘의 별을(2020)</a></dd>, <dd>2020.11.14</dd>, <dd>발라드</dd>, <dd>Flac 16/24bit</dd>]\n",
      "179973\n",
      "200\n",
      "61 헤픈 우연\n",
      "[<dd><a href=\"javascript:melon.link.goAlbumDetail('10611845');\">HAPPEN</a></dd>, <dd>2021.05.20</dd>, <dd>R&amp;B/Soul</dd>, <dd>Flac 16/24bit</dd>]\n",
      "168424\n",
      "200\n",
      "62 Bad Habits\n",
      "[<dd><a href=\"javascript:melon.link.goAlbumDetail('10637411');\">=</a></dd>, <dd>2021.08.19</dd>, <dd>POP</dd>, <dd>Flac 16bit</dd>]\n",
      "100068\n",
      "200\n",
      "63 사이렌 Remix (Feat. UNEDUCATED KID, Paul Blanco)\n",
      "[<dd><a href=\"javascript:melon.link.goAlbumDetail('10580227');\">사이렌 Remix</a></dd>, <dd>2021.03.20</dd>, <dd>랩/힙합</dd>, <dd>Flac 16bit</dd>]\n",
      "130256\n",
      "200\n",
      "64 강변북로\n",
      "[<dd><a href=\"javascript:melon.link.goAlbumDetail('10857450');\">강변북로</a></dd>, <dd>2022.02.06</dd>, <dd>발라드</dd>, <dd>Flac 16bit</dd>]\n",
      "3335\n",
      "200\n",
      "65 찰나가 영원이 될 때 (The Eternal Moment)\n",
      "[<dd><a href=\"javascript:melon.link.goAlbumDetail('10716174');\">Red Moon : Beyond The Light</a></dd>, <dd>2021.09.19</dd>, <dd>R&amp;B/Soul, 인디음악</dd>, <dd>Flac 16bit</dd>]\n",
      "45795\n",
      "200\n",
      "66 어떻게 이별까지 사랑하겠어, 널 사랑하는 거지\n",
      "[<dd><a href=\"javascript:melon.link.goAlbumDetail('10331947');\">항해</a></dd>, <dd>2019.09.25</dd>, <dd>발라드</dd>, <dd>Flac 16bit</dd>]\n",
      "373840\n",
      "200\n",
      "67 모든 날, 모든 순간 (Every day, Every Moment)\n",
      "[<dd><a href=\"javascript:melon.link.goAlbumDetail('10149492');\">'키스 먼저 할까요?' OST Part.3</a></dd>, <dd>2018.03.20</dd>, <dd>발라드, 국내드라마</dd>, <dd>Flac 16bit</dd>]\n",
      "385891\n",
      "200\n",
      "68 고백\n",
      "[<dd><a href=\"javascript:melon.link.goAlbumDetail('10695590');\">세 번째 '고백'</a></dd>, <dd>2021.08.29</dd>, <dd>발라드, 인디음악</dd>, <dd>Flac 16/24bit</dd>]\n",
      "66607\n",
      "200\n",
      "69 내 손을 잡아\n",
      "[<dd><a href=\"javascript:melon.link.goAlbumDetail('1286252');\">최고의 사랑 OST Part.4</a></dd>, <dd>2011.05.25</dd>, <dd>발라드, 국내드라마</dd>]\n",
      "180666\n",
      "200\n",
      "70 DM\n",
      "[<dd><a href=\"javascript:melon.link.goAlbumDetail('10842783');\">Midnight Guest</a></dd>, <dd>2022.01.17</dd>, <dd>댄스</dd>, <dd>Flac 16bit</dd>]\n",
      "20917\n",
      "200\n",
      "71 대낮에 한 이별\n",
      "[<dd><a href=\"javascript:melon.link.goAlbumDetail('10856822');\">대낮에 한 이별</a></dd>, <dd>2022.02.04</dd>, <dd>발라드</dd>, <dd>Flac 16bit</dd>]\n",
      "4216\n",
      "200\n",
      "72 Off My Face\n",
      "[<dd><a href=\"javascript:melon.link.goAlbumDetail('10580103');\">Justice (The Complete Edition)</a></dd>, <dd>2021.10.08</dd>, <dd>POP</dd>, <dd>Flac 16bit</dd>]\n",
      "104098\n",
      "200\n",
      "73 안녕 우린 헤어져야만 해\n",
      "[<dd><a href=\"javascript:melon.link.goAlbumDetail('10824307');\">안녕 우린 헤어져야만 해</a></dd>, <dd>2021.12.26</dd>, <dd>발라드</dd>, <dd>Flac 16bit</dd>]\n",
      "17986\n",
      "200\n",
      "74 너의 모든 순간\n",
      "[<dd><a href=\"javascript:melon.link.goAlbumDetail('2232505');\">별에서 온 그대 OST Part.7</a></dd>, <dd>2014.02.12</dd>, <dd>발라드, 국내드라마</dd>, <dd>Flac 16bit</dd>]\n",
      "189486\n",
      "200\n",
      "75 추억은 만남보다 이별에 남아\n",
      "[<dd><a href=\"javascript:melon.link.goAlbumDetail('10556610');\">추억은 만남보다 이별에 남아</a></dd>, <dd>2021.01.31</dd>, <dd>발라드</dd>, <dd>Flac 16bit</dd>]\n",
      "77600\n",
      "200\n",
      "76 Because\n",
      "[<dd><a href=\"javascript:melon.link.goAlbumDetail('10849216');\">Because</a></dd>, <dd>2022.01.25</dd>, <dd>랩/힙합</dd>, <dd>Flac 16bit</dd>]\n",
      "22723\n",
      "200\n",
      "77 롤린 (Rollin')\n",
      "[<dd><a href=\"javascript:melon.link.goAlbumDetail('10043575');\">Rollin'</a></dd>, <dd>2017.03.07</dd>, <dd>댄스</dd>, <dd>Flac 16bit</dd>]\n",
      "290787\n",
      "200\n",
      "78 봄날\n",
      "[<dd><a href=\"javascript:melon.link.goAlbumDetail('10037969');\">YOU NEVER WALK ALONE</a></dd>, <dd>2017.02.13</dd>, <dd>랩/힙합</dd>, <dd>Flac 16bit</dd>]\n",
      "555843\n",
      "200\n",
      "79 Dun Dun Dance\n",
      "[<dd><a href=\"javascript:melon.link.goAlbumDetail('10604729');\">Dear OHMYGIRL</a></dd>, <dd>2021.05.10</dd>, <dd>댄스</dd>, <dd>Flac 16/24bit</dd>]\n",
      "151767\n",
      "200\n",
      "80 밝게 빛나는 별이 되어 비춰줄게\n",
      "[<dd><a href=\"javascript:melon.link.goAlbumDetail('10540298');\">밝게 빛나는 별이 되어 비춰줄게</a></dd>, <dd>2020.12.29</dd>, <dd>R&amp;B/Soul</dd>, <dd>Flac 16bit</dd>]\n",
      "111272\n",
      "200\n",
      "81 Blueming\n",
      "[<dd><a href=\"javascript:melon.link.goAlbumDetail('10346650');\">Love poem</a></dd>, <dd>2019.11.18</dd>, <dd>록/메탈</dd>, <dd>Flac 16/24bit</dd>]\n",
      "328419\n",
      "200\n",
      "82 오늘도 빛나는 너에게 (To You My Light) (Feat.이라온)\n",
      "[<dd><a href=\"javascript:melon.link.goAlbumDetail('10294603');\">Red Moon : To You My Light</a></dd>, <dd>2019.06.09</dd>, <dd>R&amp;B/Soul, 인디음악</dd>, <dd>Flac 16bit</dd>]\n",
      "255436\n",
      "200\n",
      "83 작은 것들을 위한 시 (Boy With Luv) (Feat. Halsey)\n",
      "[<dd><a href=\"javascript:melon.link.goAlbumDetail('10273641');\">MAP OF THE SOUL : PERSONA</a></dd>, <dd>2019.04.12</dd>, <dd>댄스</dd>, <dd>Flac 16bit</dd>]\n",
      "431668\n",
      "200\n",
      "84 검정색하트 (Feat. Leellamarz, BE'O)\n",
      "[<dd><a href=\"javascript:melon.link.goAlbumDetail('10854834');\">Between Sat &amp; Sun</a></dd>, <dd>2022.01.30</dd>, <dd>랩/힙합</dd>, <dd>Flac 16bit</dd>]\n",
      "16359\n",
      "200\n",
      "85 취기를 빌려 (취향저격 그녀 X 산들)\n",
      "[<dd><a href=\"javascript:melon.link.goAlbumDetail('10463600');\">취기를 빌려 (취향저격 그녀 X 산들)</a></dd>, <dd>2020.07.20</dd>, <dd>발라드</dd>, <dd>Flac 16/24bit</dd>]\n",
      "209290\n",
      "200\n",
      "86 그날에 나는 맘이 편했을까\n",
      "[<dd><a href=\"javascript:melon.link.goAlbumDetail('10527955');\">그날에 나는 맘이 편했을까</a></dd>, <dd>2020.12.03</dd>, <dd>발라드</dd>, <dd>Flac 16/24bit</dd>]\n",
      "75610\n",
      "200\n",
      "87 시간을 거슬러 (낮에 뜨는 달 X 케이윌)\n",
      "[<dd><a href=\"javascript:melon.link.goAlbumDetail('10698116');\">시간을 거슬러 (낮에 뜨는 달 X 케이윌)</a></dd>, <dd>2021.08.31</dd>, <dd>발라드</dd>, <dd>Flac 16bit</dd>]\n",
      "63866\n",
      "200\n",
      "88 오묘해\n",
      "[<dd><a href=\"javascript:melon.link.goAlbumDetail('10842079');\">WHEE</a></dd>, <dd>2022.01.16</dd>, <dd>R&amp;B/Soul</dd>, <dd>Flac 16/24bit</dd>]\n",
      "15880\n",
      "200\n",
      "89 Savage Love (Laxed - Siren Beat) (BTS Remix)\n",
      "[<dd><a href=\"javascript:melon.link.goAlbumDetail('10498123');\">Savage Love (Laxed - Siren Beat) [BTS Remix]</a></dd>, <dd>2020.10.02</dd>, <dd>POP</dd>, <dd>Flac 16bit</dd>]\n",
      "192769\n",
      "200\n",
      "90 비가 오는 날엔 (2021)\n",
      "[<dd><a href=\"javascript:melon.link.goAlbumDetail('10670618');\">비가 오는 날엔 (2021)</a></dd>, <dd>2021.08.04</dd>, <dd>발라드, 국내드라마</dd>, <dd>Flac 16bit</dd>]\n",
      "63928\n",
      "200\n",
      "91 Queendom\n",
      "[<dd><a href=\"javascript:melon.link.goAlbumDetail('10680450');\">Queendom - The 6th Mini Album</a></dd>, <dd>2021.08.16</dd>, <dd>댄스</dd>, <dd>Flac 16bit</dd>]\n",
      "108445\n",
      "200\n",
      "92 WA DA DA\n",
      "[<dd><a href=\"javascript:melon.link.goAlbumDetail('10830226');\">FIRST IMPACT</a></dd>, <dd>2022.01.03</dd>, <dd>댄스</dd>, <dd>Flac 16bit</dd>]\n",
      "21627\n",
      "200\n",
      "93 멜로디\n",
      "[<dd><a href=\"javascript:melon.link.goAlbumDetail('10570193');\">멜로디</a></dd>, <dd>2021.02.25</dd>, <dd>랩/힙합</dd>, <dd>Flac 16bit</dd>]\n",
      "125376\n",
      "200\n",
      "94 못해준 게 많아서\n",
      "[<dd><a href=\"javascript:melon.link.goAlbumDetail('10857428');\">못해준 게 많아서</a></dd>, <dd>2022.02.05</dd>, <dd>발라드</dd>, <dd>Flac 16bit</dd>]\n",
      "3130\n",
      "200\n",
      "95 Life Goes On\n",
      "[<dd><a href=\"javascript:melon.link.goAlbumDetail('10521521');\">BE</a></dd>, <dd>2020.11.20</dd>, <dd>랩/힙합</dd>, <dd>Flac 16bit</dd>]\n",
      "233287\n",
      "200\n",
      "96 좋아좋아\n",
      "[<dd><a href=\"javascript:melon.link.goAlbumDetail('10653694');\">슬기로운 의사생활 시즌2 OST Part 5</a></dd>, <dd>2021.07.16</dd>, <dd>발라드, 국내드라마</dd>, <dd>Flac 16/24bit</dd>]\n",
      "83250\n",
      "200\n",
      "97 나 그댈위해 시 한편을 쓰겠어\n",
      "[<dd><a href=\"javascript:melon.link.goAlbumDetail('10754229');\">옛이야기</a></dd>, <dd>2021.10.28</dd>, <dd>발라드</dd>, <dd>Flac 16bit</dd>]\n",
      "31440\n",
      "200\n",
      "98 깨우지 마\n",
      "[<dd><a href=\"javascript:melon.link.goAlbumDetail('10846611');\">X by X [ 꿈 ]</a></dd>, <dd>2022.01.21</dd>, <dd>랩/힙합</dd>, <dd>Flac 16bit</dd>]\n",
      "7704\n",
      "200\n",
      "99 Still I Love You\n",
      "[<dd><a href=\"javascript:melon.link.goAlbumDetail('10817102');\">Still I Love You</a></dd>, <dd>2021.12.18</dd>, <dd>R&amp;B/Soul</dd>, <dd>Flac 16/24bit</dd>]\n",
      "31471\n",
      "200\n",
      "100 MBTI (Feat. 쿠기 & 로꼬) (Prod. GRAY)\n",
      "[<dd><a href=\"javascript:melon.link.goAlbumDetail('10793912');\">쇼미더머니 10 Semi Final</a></dd>, <dd>2021.11.27</dd>, <dd>랩/힙합</dd>, <dd>Flac 16/24bit</dd>]\n",
      "45093\n",
      "100\n"
     ]
    },
    {
     "data": {
      "text/plain": "[{'곡명': '사랑은 늘 도망가',\n  '가수': '임영웅',\n  '앨범': '신사와 아가씨 OST Part.2',\n  '발매일': '2021.10.11',\n  '장르': '발라드, 국내드라마',\n  '좋아요': 123990,\n  '가사': '눈물이 난다 이 길을 걸으면그 사람 손길이 자꾸 생각이 난다붙잡지 못하고 가슴만 떨었지내 아름답던 사람아사랑이란 게 참 쓰린 거더라잡으려 할수록 더 멀어지더라이별이란 게 참 쉬운 거더라내 잊지 못할 사람아사랑아 왜 도망가수줍은 아이처럼행여 놓아버릴까 봐꼭 움켜쥐지만그리움이 쫓아 사랑은 늘 도망가잠시 쉬어가면 좋을 텐데바람이 분다 옷깃을 세워도차가운 이별의 눈물이 차올라잊지 못해서 가슴에 사무친내 소중했던 사람아사랑아 왜 도망가수줍은 아이처럼행여 놓아버릴까 봐꼭 움켜쥐지만그리움이 쫓아 사랑은 늘 도망가잠시 쉬어가면 좋을 텐데기다림도 애태움도 다 버려야 하는데무얼 찾아 이 길을 서성일까무얼 찾아 여기 있나사랑아 왜 도망가수줍은 아이처럼행여 놓아버릴까 봐꼭 움켜쥐지만그리움이 쫓아 사랑은 늘 도망가잠시 쉬어가면 좋을 텐데잠시 쉬어가면 좋을 텐데'},\n {'곡명': '취중고백',\n  '가수': '김민석 (멜로망스)',\n  '앨범': '취중고백',\n  '발매일': '2021.12.19',\n  '장르': '발라드',\n  '좋아요': 68684,\n  '가사': '뭐하고 있었니 늦었지만잠시 나올래너의 집 골목에 있는놀이터에 앉아 있어친구들 만나서 오랜만에술을 좀 했는데자꾸만 니 얼굴 떠올라무작정 달려왔어이 맘 모르겠니요즘 난 미친 사람처럼너만 생각해대책없이 네가 점점 좋아져아냐 안 취했어 진짜야널 정말 사랑해눈물이 날만큼 원하고 있어정말로 몰랐니가끔 전화해 장난치듯주말엔 뭐할거냐며너의 관심 끌던 나를그리고 한번씩 누나 주려 샀는데너 그냥 준다고생색 낸 선물도 너 때문에 산거야이 맘 모르겠니요즘 난 미친 사람처럼너만 생각해대책없이 네가 점점 좋아져아냐 안 취했어 진짜야널 정말 사랑해진심이야 믿어줘갑자기 이런 말 놀랐다면 미안해부담이 되는게 당연해이해해 널하지만 내 고백도 이해해 주겠니 oh지금 당장 대답하진마나와 일주일만 사귀어줄래후회없이 잘 해주고 싶은데그 후에도 니가 싫다면나 그때 포기할게귀찮게 안할게 혼자 아플게진심이야 너를 사랑하고 있어'},\n {'곡명': '호랑수월가',\n  '가수': '탑현',\n  '앨범': '호랑수월가',\n  '발매일': '2022.01.15',\n  '장르': '발라드',\n  '좋아요': 35285,\n  '가사': '흐르는 저 하늘을 물어 채는 범처럼태산에 날아들어 숨어드는 새처럼동산을 뛰고 뛰어가는 강아지처럼온 산에 풍물 막을 내리네바람은 지친 끝에 밤에 몸을 뉘이네별빛은 아뜩하니 은하수를 내리네차가운 밤하늘에 세상이 젖어 가네그리워 홀로 타령을 하자흘러가라 사랑사랑아덧없이 피고 떨어지는 꽃송아애닯구나 가락가락아눈물에 떨어진 별을 헤네푸른 달아 오랜 고운 내 달아비친 내 손에 내려다오은색 소매 내 곁에 두른 채로한 번만 타는 입을 축여다오푸른 달아 다시 없을 내 달아뻗은 손끝에 닿아다오달빛만이 흘러 바다가 되고지쳐 전하지 못하는 수월가고요한 바다 위로 내 노래가 떠 간다소리도 부끄러워 숨죽이고 떠 간다달빛에 젖은 몸을 내놓고서 떠 간다한낮이 비쳐 오를 때까지달아 달아 애달픈 달아피었다 이내 숨어 버릴 허상아시리구나 세월세월아나날을 헤면서 현을 뜯네푸른 달아 오랜 고운 내 달아비친 내 손에 내려다오은색 소매 내 곁에 두른 채로한 번만 타는 입을 축여다오푸른 달아 다시 없을 내 달아뻗은 손끝에 닿아다오달빛만이 흘러 바다가 되고지쳐 전하지 못하는 수월가서로 가자 굽이굽이 쳐 가자하늘에 닿을 너머까지밤아 가라 훠이훠이 가거라산 위에 걸린 저 달은 태평가서로 가자 굽이굽이 쳐 가자새벽에 닿을 너머까지달빛만이 흘러 바다가 되고지쳐 전하지 못하는 수월가하늘을 보며 그리는 풍류가손으로 잡을 수 없는 수월가'},\n {'곡명': 'Step Back',\n  '가수': 'GOT the beat',\n  '앨범': 'Step Back',\n  '발매일': '2022.01.03',\n  '장르': '댄스',\n  '좋아요': 65658,\n  '가사': 'You must step back어델 어델 봐너 감히 누구라고 날 제껴이쯤에서 물러나고입 닫는게 좋을걸아님 어디 한번기어 올라와 보던가널 짝사랑을 했었니소꿉장난처럼 어릴 때엔간히 끼를 좀 끼를 좀 끼를 좀네가 부렸겠니소싯적 추억 팔이그리 재밌니내 남잔 지금 Another level너 따윈 꿈도 못 꿀 Level날 가진 그런 Next level보다시피 Another levelDon’t bring it to me 꺼져줘내 거에서 손 떼 너Step back Step back다시 태어나도 안될걸Step back Step back착한 남자들에게너는 독배 같은 것마실수록 외로워He’s sick and tired everyday넘지 말아 Border lineStep back Step back네가 비빌 곳이 아니야Step back Step back저울질로 가린 건참지 못할 가벼운네 마음일걸He’s sick and tired everyday그런다고 네게 되나 들어봐상상보다 너 같은 애들이 많긴 많아그러거나 말거나세상은 너를 빼고 돌아가 돌아가You gotta get a good mindAre you looking for fun재미를 또 찾니호의로 다가와이미 계산 끝나공해상의 보물선을 보기라도 한 듯막 들이대시작해 Transaction넌 좀 감당 못할 Level세계가 무대인 Our Level내 곁에서야 가능 Level보다시피 Another levelDon’t bring it to me 꺼져줘내 거에서 손 떼 너Step back Step back다시 태어나도 안될걸Step back Step back착한 남자들에게너는 독배 같은 것마실수록 외로워He’s sick and tired everyday넘지 말아 Border lineStep back Step back네가 비빌 곳이 아니야Step back Step back저울질로 가린 건참지 못할 가벼운네 마음일걸He’s sick and tired everyday그와 함께했던 수많은 날들네 장난 같은 유혹에흔들리지 않아사랑이란 감정을거래하는 건 Too much이제 그만 꺼져돌아가 네 세계다시는 착각은 말고남자들 다 똑같아내가 뜨면 시선집중여기저기 Flash 터져찍어라 찍어라 찍어라상상은 너의 Freedom가지가지 하기 전에속부터 Build up더 나가면 넌 좀 다쳐Girls Bring it onStep back Step back Step backSilly girlThe only girl who live in a dreamStep back Step back Step backSilly girl내 앞에서 좀 비켜줘 YeahDon’t bring it to me 꺼져줘내 거에서 손 떼 너Step back Step back다시 태어나도 안될걸Step back Step back착한 남자들에게너는 독배 같은 것마실수록 외로워He’s sick and tired everyday넘지 말아 Border lineStep back Step back네가 비빌 곳이 아니야Step back Step back저울질로 가린 건참지 못할 가벼운네 마음일걸He’s sick and tired everyday'},\n {'곡명': '회전목마 (Feat. Zion.T, 원슈타인) (Prod. Slom)',\n  '가수': 'sokodomo',\n  '앨범': '쇼미더머니 10 Episode 2',\n  '발매일': '2021.11.13',\n  '장르': '랩/힙합',\n  '좋아요': 186557,\n  '가사': \"내가 슬플 때마다이 노래가 찾아와세상이 둥근 것처럼 우린 동글동글인생은 회전목마우린 매일 달려가언제쯤 끝나 난 잘 몰라어머, 벌써 정신없이 달려왔어Speed up 어제로 돌아가는 시곌 보다가어려워 어른이 되어가는 과정이 Uh huhOn the road, 24 시간이 아까워 Uh huhBig noise, Everything brand new어렸을 때처럼 바뀌지 않는 걸찾아 나섰단 말야 왜냐면 그때가 더 좋았어 난So let me go back타임머신 타고 I'll go back승호가 좋았을 때처럼만내가 슬플 때마다이 노래가 찾아와세상이 둥근 것처럼 우리인생은 회전목마우린 매일 달려가언제쯤 끝나 난 잘 몰라빙빙 돌아가는 회전목마처럼영원히 계속될 것처럼빙빙 돌아올 우리의 시간처럼인생은 회전목마어머 벌써 정신없이 달려왔어Speed up 어제로 돌아가는 시곌 보다가청춘까지 뺏은 현재 탓할 곳은 어디 없네Twenty two 세에게 너무 큰 벽그게 말로 하고 싶어도 어려웠어가끔은 어렸을 때로 돌아가불가능하단 건 나도 잘 알아그 순간만 고칠 수 있다면지금의 나는 더 나았을까달려가는 미터기 돈은 올라가기사님과 어색하게 눈이 맞아창문을 열어보지만 기분은 좋아지지 않아그래서 손을 밖으로 쭉 뻗어 쭉 뻗어흔들리는 택시는 어느새 목적지에 도달했다고 해방 하나 있는 내 집 안의 손에 있던 짐들은 내가 힘들 때마다이 노래가 찾아와세상이 둥근 것처럼 우리인생은 회전목마우린 계속 달려가언제쯤 끝날지 잘 몰라빙빙 돌아가는 회전목마처럼영원히 계속될 것처럼빙빙 돌아올 우리의 시간처럼인생은 회전목마I'm on a TV showYou would never even know사실 얼마나 많이불안했는지정신없이 돌아서 어딜 봐야 할지 모르겠어들리나요 여길 보란 말이빙빙 돌아가는 회전목마처럼영원히 계속될 것처럼빙빙 돌아올 우리의 시간처럼인생은 회전목마빙빙 돌아가는 회전목마처럼영원히 계속될 것처럼빙빙 돌아올 우리의 시간처럼인생은 회전목마\"}]"
     },
     "execution_count": 38,
     "metadata": {},
     "output_type": "execute_result"
    }
   ],
   "source": [
    "import requests\n",
    "from bs4 import BeautifulSoup\n",
    "import re\n",
    "\n",
    "req_header_dict = {\n",
    "    # 요청헤더 : 브라우저정보\n",
    "    'user-agent': 'Mozilla/5.0 (Windows NT 10.0; Win64; x64) AppleWebKit/537.36 (KHTML, like Gecko) Chrome/97.0.4692.99 Safari/537.36'\n",
    "}\n",
    "\n",
    "song_detail_list = []\n",
    "for idx,song in enumerate(song_list,1):\n",
    "    #노래1곡의 상세정보를 저장할 dict\n",
    "    song_detail_dict = {}\n",
    "    song_detail_url = song['song_detail_url']\n",
    "\n",
    "    res = requests.get(song_detail_url, headers=req_header_dict)\n",
    "    print(res.status_code)\n",
    "    if res.ok:\n",
    "        soup = BeautifulSoup(res.text, 'html.parser')\n",
    "        print(idx, song['song_title'])\n",
    "        song_detail_dict['곡명'] = song['song_title']\n",
    "        # [<span>임영웅</span>, <span></span>]\n",
    "        singer_span = soup.select(\"a[href*='goArtistDetail'] span\")\n",
    "        if singer_span:\n",
    "            song_detail_dict['가수'] = singer_span[0].text\n",
    "\n",
    "        #<div class=\"meta\"><dd></dd>\n",
    "        song_dd = soup.select(\"div.meta dd\")\n",
    "        if song_dd:\n",
    "            #print(song_dd[0].text)\n",
    "            song_detail_dict['앨범'] = song_dd[0].text\n",
    "            song_detail_dict['발매일'] = song_dd[1].text\n",
    "            song_detail_dict['장르'] = song_dd[2].text\n",
    "\n",
    "        song_id = song['song_id']\n",
    "        like_url = f'https://www.melon.com/commonlike/getSongLike.json?contsIds={song_id}'\n",
    "        like_res = requests.get(like_url, headers=req_header_dict)\n",
    "        if like_res.ok:\n",
    "            #print(like_res.status_code)\n",
    "            #{\"contsLike\":[{\"CONTSID\":34061322,\"LIKEYN\":\"N\",\"SUMMCNT\":123931}],\"httpDomain\":\"http://www.melon.com\",\"httpsDomain\":\"https://www.melon.com\",\"staticDomain\":\"https://static.melon.co.kr\"}\n",
    "            #print(like_res.json()['contsLike'][0]['SUMMCNT'])\n",
    "            song_detail_dict['좋아요'] = like_res.json()['contsLike'][0]['SUMMCNT']\n",
    "\n",
    "        #<div class=\"lyric\" id=\"d_video_summary\">\n",
    "        lyric_div = soup.select(\"div#d_video_summary\")\n",
    "        if lyric_div:\n",
    "            lyric_temp = lyric_div[0].text\n",
    "            # \\r\\n\\t 특수문자를 찾아주는 Pattern 객체생성\n",
    "            pattern = re.compile(r'[\\r\\n\\t]')\n",
    "            # \\r\\n\\t 특수문자를 ''(empty string)으로 대체(substitute)해라\n",
    "            lyric = pattern.sub('', lyric_temp.strip())\n",
    "        else:\n",
    "            lyric = ''\n",
    "        song_detail_dict['가사'] = lyric\n",
    "\n",
    "        #print(song_detail_dict)\n",
    "        song_detail_list.append(song_detail_dict)\n",
    "\n",
    "print(len(song_detail_list))\n",
    "song_detail_list[:3]"
   ],
   "metadata": {
    "collapsed": false,
    "pycharm": {
     "name": "#%%\n"
    }
   }
  },
  {
   "cell_type": "code",
   "execution_count": 44,
   "outputs": [],
   "source": [
    "import json\n",
    "\n",
    "with open('data/songs.json','w', encoding='utf-8') as file:\n",
    "    json.dump(song_detail_list, file)"
   ],
   "metadata": {
    "collapsed": false,
    "pycharm": {
     "name": "#%%\n"
    }
   }
  },
  {
   "cell_type": "code",
   "execution_count": 45,
   "outputs": [],
   "source": [
    "with open('data/songs.json',encoding='utf-8') as file:\n",
    "    song_json= json.loads(file.read())\n",
    "\n",
    "#print(song_json)"
   ],
   "metadata": {
    "collapsed": false,
    "pycharm": {
     "name": "#%%\n"
    }
   }
  },
  {
   "cell_type": "markdown",
   "source": [
    "### Pandas 의 DataFrame 객체 사용하기"
   ],
   "metadata": {
    "collapsed": false,
    "pycharm": {
     "name": "#%% md\n"
    }
   }
  },
  {
   "cell_type": "code",
   "execution_count": 53,
   "outputs": [
    {
     "name": "stdout",
     "output_type": "stream",
     "text": [
      "<class 'pandas.core.frame.DataFrame'>\n"
     ]
    },
    {
     "data": {
      "text/plain": "                                       곡명            가수                  앨범  \\\n0                               사랑은 늘 도망가           임영웅  신사와 아가씨 OST Part.2   \n1                                    취중고백    김민석 (멜로망스)                취중고백   \n2                                   호랑수월가            탑현               호랑수월가   \n3                               Step Back  GOT the beat           Step Back   \n4  회전목마 (Feat. Zion.T, 원슈타인) (Prod. Slom)      sokodomo  쇼미더머니 10 Episode 2   \n\n          발매일          장르     좋아요  \\\n0  2021.10.11  발라드, 국내드라마  123990   \n1  2021.12.19         발라드   68684   \n2  2022.01.15         발라드   35285   \n3  2022.01.03          댄스   65658   \n4  2021.11.13        랩/힙합  186557   \n\n                                                  가사  \n0  눈물이 난다 이 길을 걸으면그 사람 손길이 자꾸 생각이 난다붙잡지 못하고 가슴만 떨...  \n1  뭐하고 있었니 늦었지만잠시 나올래너의 집 골목에 있는놀이터에 앉아 있어친구들 만나서...  \n2  흐르는 저 하늘을 물어 채는 범처럼태산에 날아들어 숨어드는 새처럼동산을 뛰고 뛰어가...  \n3  You must step back어델 어델 봐너 감히 누구라고 날 제껴이쯤에서 물러...  \n4  내가 슬플 때마다이 노래가 찾아와세상이 둥근 것처럼 우린 동글동글인생은 회전목마우린...  ",
      "text/html": "<div>\n<style scoped>\n    .dataframe tbody tr th:only-of-type {\n        vertical-align: middle;\n    }\n\n    .dataframe tbody tr th {\n        vertical-align: top;\n    }\n\n    .dataframe thead th {\n        text-align: right;\n    }\n</style>\n<table border=\"1\" class=\"dataframe\">\n  <thead>\n    <tr style=\"text-align: right;\">\n      <th></th>\n      <th>곡명</th>\n      <th>가수</th>\n      <th>앨범</th>\n      <th>발매일</th>\n      <th>장르</th>\n      <th>좋아요</th>\n      <th>가사</th>\n    </tr>\n  </thead>\n  <tbody>\n    <tr>\n      <th>0</th>\n      <td>사랑은 늘 도망가</td>\n      <td>임영웅</td>\n      <td>신사와 아가씨 OST Part.2</td>\n      <td>2021.10.11</td>\n      <td>발라드, 국내드라마</td>\n      <td>123990</td>\n      <td>눈물이 난다 이 길을 걸으면그 사람 손길이 자꾸 생각이 난다붙잡지 못하고 가슴만 떨...</td>\n    </tr>\n    <tr>\n      <th>1</th>\n      <td>취중고백</td>\n      <td>김민석 (멜로망스)</td>\n      <td>취중고백</td>\n      <td>2021.12.19</td>\n      <td>발라드</td>\n      <td>68684</td>\n      <td>뭐하고 있었니 늦었지만잠시 나올래너의 집 골목에 있는놀이터에 앉아 있어친구들 만나서...</td>\n    </tr>\n    <tr>\n      <th>2</th>\n      <td>호랑수월가</td>\n      <td>탑현</td>\n      <td>호랑수월가</td>\n      <td>2022.01.15</td>\n      <td>발라드</td>\n      <td>35285</td>\n      <td>흐르는 저 하늘을 물어 채는 범처럼태산에 날아들어 숨어드는 새처럼동산을 뛰고 뛰어가...</td>\n    </tr>\n    <tr>\n      <th>3</th>\n      <td>Step Back</td>\n      <td>GOT the beat</td>\n      <td>Step Back</td>\n      <td>2022.01.03</td>\n      <td>댄스</td>\n      <td>65658</td>\n      <td>You must step back어델 어델 봐너 감히 누구라고 날 제껴이쯤에서 물러...</td>\n    </tr>\n    <tr>\n      <th>4</th>\n      <td>회전목마 (Feat. Zion.T, 원슈타인) (Prod. Slom)</td>\n      <td>sokodomo</td>\n      <td>쇼미더머니 10 Episode 2</td>\n      <td>2021.11.13</td>\n      <td>랩/힙합</td>\n      <td>186557</td>\n      <td>내가 슬플 때마다이 노래가 찾아와세상이 둥근 것처럼 우린 동글동글인생은 회전목마우린...</td>\n    </tr>\n  </tbody>\n</table>\n</div>"
     },
     "execution_count": 53,
     "metadata": {},
     "output_type": "execute_result"
    }
   ],
   "source": [
    "#song_detail_list을 읽어서 DataFrame 객체를 생성하는 방법\n",
    "#DataFrame 객체를 생성\n",
    "import pandas as pd\n",
    "\n",
    "song_df2 = pd.DataFrame(columns=['곡명','가수','앨범','발매일','장르','좋아요','가사'])\n",
    "\n",
    "#1개의 row = Series 객체, 1개의 column = Series 객체\n",
    "for song_detail in song_detail_list:\n",
    "    # dict <=> Series\n",
    "    series_obj = pd.Series(song_detail)\n",
    "    # list <=> DataFrame\n",
    "    song_df2 = song_df2.append(series_obj, ignore_index=True)\n",
    "\n",
    "song_df2.head()"
   ],
   "metadata": {
    "collapsed": false,
    "pycharm": {
     "name": "#%%\n"
    }
   }
  },
  {
   "cell_type": "code",
   "execution_count": 55,
   "outputs": [
    {
     "name": "stdout",
     "output_type": "stream",
     "text": [
      "<class 'pandas.core.frame.DataFrame'>\n"
     ]
    },
    {
     "data": {
      "text/plain": "                                       곡명            가수                  앨범  \\\n0                               사랑은 늘 도망가           임영웅  신사와 아가씨 OST Part.2   \n1                                    취중고백    김민석 (멜로망스)                취중고백   \n2                                   호랑수월가            탑현               호랑수월가   \n3                               Step Back  GOT the beat           Step Back   \n4  회전목마 (Feat. Zion.T, 원슈타인) (Prod. Slom)      sokodomo  쇼미더머니 10 Episode 2   \n\n          발매일          장르     좋아요  \\\n0  2021.10.11  발라드, 국내드라마  123990   \n1  2021.12.19         발라드   68684   \n2  2022.01.15         발라드   35285   \n3  2022.01.03          댄스   65658   \n4  2021.11.13        랩/힙합  186557   \n\n                                                  가사  \n0  눈물이 난다 이 길을 걸으면그 사람 손길이 자꾸 생각이 난다붙잡지 못하고 가슴만 떨...  \n1  뭐하고 있었니 늦었지만잠시 나올래너의 집 골목에 있는놀이터에 앉아 있어친구들 만나서...  \n2  흐르는 저 하늘을 물어 채는 범처럼태산에 날아들어 숨어드는 새처럼동산을 뛰고 뛰어가...  \n3  You must step back어델 어델 봐너 감히 누구라고 날 제껴이쯤에서 물러...  \n4  내가 슬플 때마다이 노래가 찾아와세상이 둥근 것처럼 우린 동글동글인생은 회전목마우린...  ",
      "text/html": "<div>\n<style scoped>\n    .dataframe tbody tr th:only-of-type {\n        vertical-align: middle;\n    }\n\n    .dataframe tbody tr th {\n        vertical-align: top;\n    }\n\n    .dataframe thead th {\n        text-align: right;\n    }\n</style>\n<table border=\"1\" class=\"dataframe\">\n  <thead>\n    <tr style=\"text-align: right;\">\n      <th></th>\n      <th>곡명</th>\n      <th>가수</th>\n      <th>앨범</th>\n      <th>발매일</th>\n      <th>장르</th>\n      <th>좋아요</th>\n      <th>가사</th>\n    </tr>\n  </thead>\n  <tbody>\n    <tr>\n      <th>0</th>\n      <td>사랑은 늘 도망가</td>\n      <td>임영웅</td>\n      <td>신사와 아가씨 OST Part.2</td>\n      <td>2021.10.11</td>\n      <td>발라드, 국내드라마</td>\n      <td>123990</td>\n      <td>눈물이 난다 이 길을 걸으면그 사람 손길이 자꾸 생각이 난다붙잡지 못하고 가슴만 떨...</td>\n    </tr>\n    <tr>\n      <th>1</th>\n      <td>취중고백</td>\n      <td>김민석 (멜로망스)</td>\n      <td>취중고백</td>\n      <td>2021.12.19</td>\n      <td>발라드</td>\n      <td>68684</td>\n      <td>뭐하고 있었니 늦었지만잠시 나올래너의 집 골목에 있는놀이터에 앉아 있어친구들 만나서...</td>\n    </tr>\n    <tr>\n      <th>2</th>\n      <td>호랑수월가</td>\n      <td>탑현</td>\n      <td>호랑수월가</td>\n      <td>2022.01.15</td>\n      <td>발라드</td>\n      <td>35285</td>\n      <td>흐르는 저 하늘을 물어 채는 범처럼태산에 날아들어 숨어드는 새처럼동산을 뛰고 뛰어가...</td>\n    </tr>\n    <tr>\n      <th>3</th>\n      <td>Step Back</td>\n      <td>GOT the beat</td>\n      <td>Step Back</td>\n      <td>2022.01.03</td>\n      <td>댄스</td>\n      <td>65658</td>\n      <td>You must step back어델 어델 봐너 감히 누구라고 날 제껴이쯤에서 물러...</td>\n    </tr>\n    <tr>\n      <th>4</th>\n      <td>회전목마 (Feat. Zion.T, 원슈타인) (Prod. Slom)</td>\n      <td>sokodomo</td>\n      <td>쇼미더머니 10 Episode 2</td>\n      <td>2021.11.13</td>\n      <td>랩/힙합</td>\n      <td>186557</td>\n      <td>내가 슬플 때마다이 노래가 찾아와세상이 둥근 것처럼 우린 동글동글인생은 회전목마우린...</td>\n    </tr>\n  </tbody>\n</table>\n</div>"
     },
     "execution_count": 55,
     "metadata": {},
     "output_type": "execute_result"
    }
   ],
   "source": [
    "\n",
    "import pandas as pd\n",
    "\n",
    "#json file을 읽어서 DataFrame 객체를 생성하는 방법\n",
    "song_df = pd.read_json('data/songs.json')\n",
    "print(type(song_df))\n",
    "song_df.head()"
   ],
   "metadata": {
    "collapsed": false,
    "pycharm": {
     "name": "#%%\n"
    }
   }
  },
  {
   "cell_type": "code",
   "execution_count": 64,
   "outputs": [
    {
     "data": {
      "text/plain": "                                   곡명           가수                        앨범  \\\n95                               좋아좋아          조정석  슬기로운 의사생활 시즌2 OST Part 5   \n96                   나 그댈위해 시 한편을 쓰겠어  케이시 (Kassy)                      옛이야기   \n97                              깨우지 마          MC몽              X by X [ 꿈 ]   \n98                   Still I Love You          토요태          Still I Love You   \n99  MBTI (Feat. 쿠기 & 로꼬) (Prod. GRAY)    BE'O (비오)       쇼미더머니 10 Semi Final   \n\n           발매일          장르    좋아요  \\\n95  2021.07.16  발라드, 국내드라마  83250   \n96  2021.10.28         발라드  31440   \n97  2022.01.21        랩/힙합   7704   \n98  2021.12.18    R&B/Soul  31471   \n99  2021.11.27        랩/힙합  45093   \n\n                                                   가사  \n95  처음 널 만나는 날노란 세 송이 장미를 들고룰루랄라 신촌을 향하는내 가슴은 마냥 두...  \n96  나 그댈 위해 시 한 편을 쓰겠어나 그대에게 못다 한 얘기 많아차마 그때 하지 못 ...  \n97  깨우지 마 꿈속으로도망치듯 잠에 든 날하루 중 내가 유일하게무책임해도 되는 시간날 ...  \n98  여보세요어 잘 지내지오빠 전화하지 말랬잖아아 그치 어우 야 밖에 많이 춥다따뜻하게 ...  \n99  Million 내 몸값을 더 올려Billion 내 몸값을 더 올려Trillion 내...  ",
      "text/html": "<div>\n<style scoped>\n    .dataframe tbody tr th:only-of-type {\n        vertical-align: middle;\n    }\n\n    .dataframe tbody tr th {\n        vertical-align: top;\n    }\n\n    .dataframe thead th {\n        text-align: right;\n    }\n</style>\n<table border=\"1\" class=\"dataframe\">\n  <thead>\n    <tr style=\"text-align: right;\">\n      <th></th>\n      <th>곡명</th>\n      <th>가수</th>\n      <th>앨범</th>\n      <th>발매일</th>\n      <th>장르</th>\n      <th>좋아요</th>\n      <th>가사</th>\n    </tr>\n  </thead>\n  <tbody>\n    <tr>\n      <th>95</th>\n      <td>좋아좋아</td>\n      <td>조정석</td>\n      <td>슬기로운 의사생활 시즌2 OST Part 5</td>\n      <td>2021.07.16</td>\n      <td>발라드, 국내드라마</td>\n      <td>83250</td>\n      <td>처음 널 만나는 날노란 세 송이 장미를 들고룰루랄라 신촌을 향하는내 가슴은 마냥 두...</td>\n    </tr>\n    <tr>\n      <th>96</th>\n      <td>나 그댈위해 시 한편을 쓰겠어</td>\n      <td>케이시 (Kassy)</td>\n      <td>옛이야기</td>\n      <td>2021.10.28</td>\n      <td>발라드</td>\n      <td>31440</td>\n      <td>나 그댈 위해 시 한 편을 쓰겠어나 그대에게 못다 한 얘기 많아차마 그때 하지 못 ...</td>\n    </tr>\n    <tr>\n      <th>97</th>\n      <td>깨우지 마</td>\n      <td>MC몽</td>\n      <td>X by X [ 꿈 ]</td>\n      <td>2022.01.21</td>\n      <td>랩/힙합</td>\n      <td>7704</td>\n      <td>깨우지 마 꿈속으로도망치듯 잠에 든 날하루 중 내가 유일하게무책임해도 되는 시간날 ...</td>\n    </tr>\n    <tr>\n      <th>98</th>\n      <td>Still I Love You</td>\n      <td>토요태</td>\n      <td>Still I Love You</td>\n      <td>2021.12.18</td>\n      <td>R&amp;B/Soul</td>\n      <td>31471</td>\n      <td>여보세요어 잘 지내지오빠 전화하지 말랬잖아아 그치 어우 야 밖에 많이 춥다따뜻하게 ...</td>\n    </tr>\n    <tr>\n      <th>99</th>\n      <td>MBTI (Feat. 쿠기 &amp; 로꼬) (Prod. GRAY)</td>\n      <td>BE'O (비오)</td>\n      <td>쇼미더머니 10 Semi Final</td>\n      <td>2021.11.27</td>\n      <td>랩/힙합</td>\n      <td>45093</td>\n      <td>Million 내 몸값을 더 올려Billion 내 몸값을 더 올려Trillion 내...</td>\n    </tr>\n  </tbody>\n</table>\n</div>"
     },
     "execution_count": 64,
     "metadata": {},
     "output_type": "execute_result"
    }
   ],
   "source": [
    "song_df.tail()"
   ],
   "metadata": {
    "collapsed": false,
    "pycharm": {
     "name": "#%%\n"
    }
   }
  },
  {
   "cell_type": "code",
   "execution_count": 62,
   "outputs": [],
   "source": [
    "print('shape', song_df.shape)\n",
    "print('columns', song_df.columns)\n",
    "print('index', song_df.index)\n",
    "print('values', type(song_df.values)) #2차원배열"
   ],
   "metadata": {
    "collapsed": false,
    "pycharm": {
     "name": "#%%\n"
    }
   }
  },
  {
   "cell_type": "code",
   "execution_count": 63,
   "outputs": [
    {
     "data": {
      "text/plain": "                    곡명   가수                  앨범         발매일          장르  \\\n0            사랑은 늘 도망가  임영웅  신사와 아가씨 OST Part.2  2021.10.11  발라드, 국내드라마   \n10           이제 나만 믿어요  임영웅   내일은 미스터트롯 우승자 특전곡  2020.04.03        성인가요   \n17  다시 사랑한다면 (김필 Ver.)  임영웅      사랑의 콜센타 PART56  2021.05.25        성인가요   \n18             그대라는 사치  임영웅      사랑의 콜센타 PART62  2021.07.06         발라드   \n23        별빛 같은 나의 사랑아  임영웅        별빛 같은 나의 사랑아  2021.03.09        성인가요   \n25                 잊었니  임영웅      사랑의 콜센타 PART60  2021.06.22        성인가요   \n28                HERO  임영웅                HERO  2020.11.04        성인가요   \n29                 끝사랑  임영웅      사랑의 콜센타 PART61  2021.06.29        성인가요   \n32             Bk Love  임영웅        뽕숭아학당 PART23  2021.06.21        랩/힙합   \n42          계단말고 엘리베이터  임영웅          계단말고 엘리베이터  2018.08.20        성인가요   \n\n       좋아요  \n0   123990  \n10  146420  \n17   40774  \n18   36831  \n23   69703  \n25   36020  \n28   69936  \n29   33317  \n32   33012  \n42   56703  ",
      "text/html": "<div>\n<style scoped>\n    .dataframe tbody tr th:only-of-type {\n        vertical-align: middle;\n    }\n\n    .dataframe tbody tr th {\n        vertical-align: top;\n    }\n\n    .dataframe thead th {\n        text-align: right;\n    }\n</style>\n<table border=\"1\" class=\"dataframe\">\n  <thead>\n    <tr style=\"text-align: right;\">\n      <th></th>\n      <th>곡명</th>\n      <th>가수</th>\n      <th>앨범</th>\n      <th>발매일</th>\n      <th>장르</th>\n      <th>좋아요</th>\n    </tr>\n  </thead>\n  <tbody>\n    <tr>\n      <th>0</th>\n      <td>사랑은 늘 도망가</td>\n      <td>임영웅</td>\n      <td>신사와 아가씨 OST Part.2</td>\n      <td>2021.10.11</td>\n      <td>발라드, 국내드라마</td>\n      <td>123990</td>\n    </tr>\n    <tr>\n      <th>10</th>\n      <td>이제 나만 믿어요</td>\n      <td>임영웅</td>\n      <td>내일은 미스터트롯 우승자 특전곡</td>\n      <td>2020.04.03</td>\n      <td>성인가요</td>\n      <td>146420</td>\n    </tr>\n    <tr>\n      <th>17</th>\n      <td>다시 사랑한다면 (김필 Ver.)</td>\n      <td>임영웅</td>\n      <td>사랑의 콜센타 PART56</td>\n      <td>2021.05.25</td>\n      <td>성인가요</td>\n      <td>40774</td>\n    </tr>\n    <tr>\n      <th>18</th>\n      <td>그대라는 사치</td>\n      <td>임영웅</td>\n      <td>사랑의 콜센타 PART62</td>\n      <td>2021.07.06</td>\n      <td>발라드</td>\n      <td>36831</td>\n    </tr>\n    <tr>\n      <th>23</th>\n      <td>별빛 같은 나의 사랑아</td>\n      <td>임영웅</td>\n      <td>별빛 같은 나의 사랑아</td>\n      <td>2021.03.09</td>\n      <td>성인가요</td>\n      <td>69703</td>\n    </tr>\n    <tr>\n      <th>25</th>\n      <td>잊었니</td>\n      <td>임영웅</td>\n      <td>사랑의 콜센타 PART60</td>\n      <td>2021.06.22</td>\n      <td>성인가요</td>\n      <td>36020</td>\n    </tr>\n    <tr>\n      <th>28</th>\n      <td>HERO</td>\n      <td>임영웅</td>\n      <td>HERO</td>\n      <td>2020.11.04</td>\n      <td>성인가요</td>\n      <td>69936</td>\n    </tr>\n    <tr>\n      <th>29</th>\n      <td>끝사랑</td>\n      <td>임영웅</td>\n      <td>사랑의 콜센타 PART61</td>\n      <td>2021.06.29</td>\n      <td>성인가요</td>\n      <td>33317</td>\n    </tr>\n    <tr>\n      <th>32</th>\n      <td>Bk Love</td>\n      <td>임영웅</td>\n      <td>뽕숭아학당 PART23</td>\n      <td>2021.06.21</td>\n      <td>랩/힙합</td>\n      <td>33012</td>\n    </tr>\n    <tr>\n      <th>42</th>\n      <td>계단말고 엘리베이터</td>\n      <td>임영웅</td>\n      <td>계단말고 엘리베이터</td>\n      <td>2018.08.20</td>\n      <td>성인가요</td>\n      <td>56703</td>\n    </tr>\n  </tbody>\n</table>\n</div>"
     },
     "execution_count": 63,
     "metadata": {},
     "output_type": "execute_result"
    }
   ],
   "source": [
    "song_df.info()"
   ],
   "metadata": {
    "collapsed": false,
    "pycharm": {
     "name": "#%%\n"
    }
   }
  },
  {
   "cell_type": "code",
   "execution_count": 65,
   "outputs": [
    {
     "name": "stdout",
     "output_type": "stream",
     "text": [
      "<class 'pandas.core.series.Series'>\n"
     ]
    },
    {
     "data": {
      "text/plain": "                                           곡명     가수  \\\n35                                     Butter  방탄소년단   \n41                                   Dynamite  방탄소년단   \n45                        Permission to Dance  방탄소년단   \n77                                         봄날  방탄소년단   \n82  작은 것들을 위한 시 (Boy With Luv) (Feat. Halsey)  방탄소년단   \n94                               Life Goes On  방탄소년단   \n\n                              앨범         발매일    장르     좋아요  \\\n35                        Butter  2021.05.21    댄스  263255   \n41    Dynamite (DayTime Version)  2020.08.24    댄스  428692   \n45  Butter / Permission to Dance  2021.07.09    댄스  195014   \n77          YOU NEVER WALK ALONE  2017.02.13  랩/힙합  555843   \n82     MAP OF THE SOUL : PERSONA  2019.04.12    댄스  431668   \n94                            BE  2020.11.20  랩/힙합  233287   \n\n                                                   가사  \n35  Smooth like butterLike a criminal undercoverGo...  \n41  Cos ah ahI’m in the stars tonightSo watch me b...  \n45  It’s the thought of being youngWhen your heart...  \n77  보고 싶다이렇게 말하니까 더 보고 싶다너희 사진을 보고 있어도보고 싶다너무 야속한 ...  \n82  모든 게 궁금해How’s your dayOh tell me뭐가 널 행복하게 하는지O...  \n94  어느 날 세상이 멈췄어아무런 예고도 하나 없이봄은 기다림을 몰라서눈치 없이 와버렸어...  ",
      "text/html": "<div>\n<style scoped>\n    .dataframe tbody tr th:only-of-type {\n        vertical-align: middle;\n    }\n\n    .dataframe tbody tr th {\n        vertical-align: top;\n    }\n\n    .dataframe thead th {\n        text-align: right;\n    }\n</style>\n<table border=\"1\" class=\"dataframe\">\n  <thead>\n    <tr style=\"text-align: right;\">\n      <th></th>\n      <th>곡명</th>\n      <th>가수</th>\n      <th>앨범</th>\n      <th>발매일</th>\n      <th>장르</th>\n      <th>좋아요</th>\n      <th>가사</th>\n    </tr>\n  </thead>\n  <tbody>\n    <tr>\n      <th>35</th>\n      <td>Butter</td>\n      <td>방탄소년단</td>\n      <td>Butter</td>\n      <td>2021.05.21</td>\n      <td>댄스</td>\n      <td>263255</td>\n      <td>Smooth like butterLike a criminal undercoverGo...</td>\n    </tr>\n    <tr>\n      <th>41</th>\n      <td>Dynamite</td>\n      <td>방탄소년단</td>\n      <td>Dynamite (DayTime Version)</td>\n      <td>2020.08.24</td>\n      <td>댄스</td>\n      <td>428692</td>\n      <td>Cos ah ahI’m in the stars tonightSo watch me b...</td>\n    </tr>\n    <tr>\n      <th>45</th>\n      <td>Permission to Dance</td>\n      <td>방탄소년단</td>\n      <td>Butter / Permission to Dance</td>\n      <td>2021.07.09</td>\n      <td>댄스</td>\n      <td>195014</td>\n      <td>It’s the thought of being youngWhen your heart...</td>\n    </tr>\n    <tr>\n      <th>77</th>\n      <td>봄날</td>\n      <td>방탄소년단</td>\n      <td>YOU NEVER WALK ALONE</td>\n      <td>2017.02.13</td>\n      <td>랩/힙합</td>\n      <td>555843</td>\n      <td>보고 싶다이렇게 말하니까 더 보고 싶다너희 사진을 보고 있어도보고 싶다너무 야속한 ...</td>\n    </tr>\n    <tr>\n      <th>82</th>\n      <td>작은 것들을 위한 시 (Boy With Luv) (Feat. Halsey)</td>\n      <td>방탄소년단</td>\n      <td>MAP OF THE SOUL : PERSONA</td>\n      <td>2019.04.12</td>\n      <td>댄스</td>\n      <td>431668</td>\n      <td>모든 게 궁금해How’s your dayOh tell me뭐가 널 행복하게 하는지O...</td>\n    </tr>\n    <tr>\n      <th>94</th>\n      <td>Life Goes On</td>\n      <td>방탄소년단</td>\n      <td>BE</td>\n      <td>2020.11.20</td>\n      <td>랩/힙합</td>\n      <td>233287</td>\n      <td>어느 날 세상이 멈췄어아무런 예고도 하나 없이봄은 기다림을 몰라서눈치 없이 와버렸어...</td>\n    </tr>\n  </tbody>\n</table>\n</div>"
     },
     "execution_count": 65,
     "metadata": {},
     "output_type": "execute_result"
    }
   ],
   "source": [
    "# 가수 컬럼의 값을 선택하기\n",
    "print(type(song_df['가수']))\n",
    "song_df['가수'].head()\n",
    "\n",
    "# 가수 컬럼의 값별로 Row Counting\n",
    "song_df['가수'].value_counts()\n",
    "\n",
    "# unique한(중복제거) 가수 컬럼의 값을 가져오기\n",
    "song_df['가수'].unique()\n",
    "\n",
    "song_df['장르'].unique()\n",
    "\n",
    "# 가사 empty string check\n",
    "song_df.loc[song_df['가사'] == '']\n",
    "\n",
    "# 방탄소년단 노래 선택하기\n",
    "song_df['가수'] == '방탄소년단'\n",
    "\n",
    "song_df.loc[song_df['가수'] == '방탄소년단']"
   ],
   "metadata": {
    "collapsed": false,
    "pycharm": {
     "name": "#%%\n"
    }
   }
  },
  {
   "cell_type": "code",
   "execution_count": 64,
   "outputs": [],
   "source": [
    "def get_song(singer):\n",
    "    return song_df.loc[song_df['가수'] == singer, '곡명':'좋아요']"
   ],
   "metadata": {
    "collapsed": false,
    "pycharm": {
     "name": "#%%\n"
    }
   }
  },
  {
   "cell_type": "code",
   "execution_count": null,
   "outputs": [],
   "source": [
    "get_song('임영웅')"
   ],
   "metadata": {
    "collapsed": false,
    "pycharm": {
     "name": "#%%\n"
    }
   }
  },
  {
   "cell_type": "markdown",
   "source": [
    "#### 특정 행과 열을 선택하기\n",
    "* loc[], iloc[] 사용한다.\n",
    "1. Slicing 을 사용함으로 구간을 주어서 행과 열을 선택\n",
    "2. <pre>[ ](list) 를 사용해서 특정행과 열을 선택</pre>\n",
    "3. 조건식을 만족하는 행과 열을 선택"
   ],
   "metadata": {
    "collapsed": false
   }
  },
  {
   "cell_type": "code",
   "execution_count": 67,
   "outputs": [
    {
     "data": {
      "text/plain": "                                       곡명            가수                  앨범  \\\n0                               사랑은 늘 도망가           임영웅  신사와 아가씨 OST Part.2   \n1                                    취중고백    김민석 (멜로망스)                취중고백   \n2                                   호랑수월가            탑현               호랑수월가   \n3                               Step Back  GOT the beat           Step Back   \n4  회전목마 (Feat. Zion.T, 원슈타인) (Prod. Slom)      sokodomo  쇼미더머니 10 Episode 2   \n5                                  ELEVEN     IVE (아이브)              ELEVEN   \n\n          발매일          장르     좋아요  \\\n0  2021.10.11  발라드, 국내드라마  123990   \n1  2021.12.19         발라드   68684   \n2  2022.01.15         발라드   35285   \n3  2022.01.03          댄스   65658   \n4  2021.11.13        랩/힙합  186557   \n5  2021.12.01          댄스  103233   \n\n                                                  가사  \n0  눈물이 난다 이 길을 걸으면그 사람 손길이 자꾸 생각이 난다붙잡지 못하고 가슴만 떨...  \n1  뭐하고 있었니 늦었지만잠시 나올래너의 집 골목에 있는놀이터에 앉아 있어친구들 만나서...  \n2  흐르는 저 하늘을 물어 채는 범처럼태산에 날아들어 숨어드는 새처럼동산을 뛰고 뛰어가...  \n3  You must step back어델 어델 봐너 감히 누구라고 날 제껴이쯤에서 물러...  \n4  내가 슬플 때마다이 노래가 찾아와세상이 둥근 것처럼 우린 동글동글인생은 회전목마우린...  \n5  따분한 나의 눈빛이무표정했던 얼굴이널 보며 빛나고 있어널 담은 눈동자는 odd내 안...  ",
      "text/html": "<div>\n<style scoped>\n    .dataframe tbody tr th:only-of-type {\n        vertical-align: middle;\n    }\n\n    .dataframe tbody tr th {\n        vertical-align: top;\n    }\n\n    .dataframe thead th {\n        text-align: right;\n    }\n</style>\n<table border=\"1\" class=\"dataframe\">\n  <thead>\n    <tr style=\"text-align: right;\">\n      <th></th>\n      <th>곡명</th>\n      <th>가수</th>\n      <th>앨범</th>\n      <th>발매일</th>\n      <th>장르</th>\n      <th>좋아요</th>\n      <th>가사</th>\n    </tr>\n  </thead>\n  <tbody>\n    <tr>\n      <th>0</th>\n      <td>사랑은 늘 도망가</td>\n      <td>임영웅</td>\n      <td>신사와 아가씨 OST Part.2</td>\n      <td>2021.10.11</td>\n      <td>발라드, 국내드라마</td>\n      <td>123990</td>\n      <td>눈물이 난다 이 길을 걸으면그 사람 손길이 자꾸 생각이 난다붙잡지 못하고 가슴만 떨...</td>\n    </tr>\n    <tr>\n      <th>1</th>\n      <td>취중고백</td>\n      <td>김민석 (멜로망스)</td>\n      <td>취중고백</td>\n      <td>2021.12.19</td>\n      <td>발라드</td>\n      <td>68684</td>\n      <td>뭐하고 있었니 늦었지만잠시 나올래너의 집 골목에 있는놀이터에 앉아 있어친구들 만나서...</td>\n    </tr>\n    <tr>\n      <th>2</th>\n      <td>호랑수월가</td>\n      <td>탑현</td>\n      <td>호랑수월가</td>\n      <td>2022.01.15</td>\n      <td>발라드</td>\n      <td>35285</td>\n      <td>흐르는 저 하늘을 물어 채는 범처럼태산에 날아들어 숨어드는 새처럼동산을 뛰고 뛰어가...</td>\n    </tr>\n    <tr>\n      <th>3</th>\n      <td>Step Back</td>\n      <td>GOT the beat</td>\n      <td>Step Back</td>\n      <td>2022.01.03</td>\n      <td>댄스</td>\n      <td>65658</td>\n      <td>You must step back어델 어델 봐너 감히 누구라고 날 제껴이쯤에서 물러...</td>\n    </tr>\n    <tr>\n      <th>4</th>\n      <td>회전목마 (Feat. Zion.T, 원슈타인) (Prod. Slom)</td>\n      <td>sokodomo</td>\n      <td>쇼미더머니 10 Episode 2</td>\n      <td>2021.11.13</td>\n      <td>랩/힙합</td>\n      <td>186557</td>\n      <td>내가 슬플 때마다이 노래가 찾아와세상이 둥근 것처럼 우린 동글동글인생은 회전목마우린...</td>\n    </tr>\n    <tr>\n      <th>5</th>\n      <td>ELEVEN</td>\n      <td>IVE (아이브)</td>\n      <td>ELEVEN</td>\n      <td>2021.12.01</td>\n      <td>댄스</td>\n      <td>103233</td>\n      <td>따분한 나의 눈빛이무표정했던 얼굴이널 보며 빛나고 있어널 담은 눈동자는 odd내 안...</td>\n    </tr>\n  </tbody>\n</table>\n</div>"
     },
     "execution_count": 67,
     "metadata": {},
     "output_type": "execute_result"
    }
   ],
   "source": [
    "# Slicing : 인덱스가 0부터 5까지의 행과 모든 열을 선택하기\n",
    "song_df.loc[0:5]      # song_df.loc[0:5,:]"
   ],
   "metadata": {
    "collapsed": false,
    "pycharm": {
     "name": "#%%\n"
    }
   }
  },
  {
   "cell_type": "code",
   "execution_count": 69,
   "outputs": [
    {
     "data": {
      "text/plain": "                                        곡명         가수  \\\n0                                사랑은 늘 도망가        임영웅   \n2                                    호랑수월가         탑현   \n4   회전목마 (Feat. Zion.T, 원슈타인) (Prod. Slom)   sokodomo   \n6            리무진 (Feat. MINO) (Prod. GRAY)  BE'O (비오)   \n8                         Dreams Come True      aespa   \n10                               이제 나만 믿어요        임영웅   \n\n                               앨범         발매일          장르     좋아요  \\\n0              신사와 아가씨 OST Part.2  2021.10.11  발라드, 국내드라마  123990   \n2                           호랑수월가  2022.01.15         발라드   35285   \n4              쇼미더머니 10 Episode 2  2021.11.13        랩/힙합  186557   \n6              쇼미더머니 10 Episode 3  2021.11.20        랩/힙합  162366   \n8   Dreams Come True - SM STATION  2021.12.20          댄스   74889   \n10              내일은 미스터트롯 우승자 특전곡  2020.04.03        성인가요  146420   \n\n                                                   가사  \n0   눈물이 난다 이 길을 걸으면그 사람 손길이 자꾸 생각이 난다붙잡지 못하고 가슴만 떨...  \n2   흐르는 저 하늘을 물어 채는 범처럼태산에 날아들어 숨어드는 새처럼동산을 뛰고 뛰어가...  \n4   내가 슬플 때마다이 노래가 찾아와세상이 둥근 것처럼 우린 동글동글인생은 회전목마우린...  \n6   까만 리무진 보며꿈을 키웠지언젠가는 나도 저걸 갖게 될 거야커다란 리무진에서 내가 ...  \n8   Uh, You wanna feel the vibeThat I’m feeling an...  \n10  무얼 믿은 걸까 부족했던 내게서나조차 못 믿던 내게 여태 머문 사람무얼 봤던 걸까 ...  ",
      "text/html": "<div>\n<style scoped>\n    .dataframe tbody tr th:only-of-type {\n        vertical-align: middle;\n    }\n\n    .dataframe tbody tr th {\n        vertical-align: top;\n    }\n\n    .dataframe thead th {\n        text-align: right;\n    }\n</style>\n<table border=\"1\" class=\"dataframe\">\n  <thead>\n    <tr style=\"text-align: right;\">\n      <th></th>\n      <th>곡명</th>\n      <th>가수</th>\n      <th>앨범</th>\n      <th>발매일</th>\n      <th>장르</th>\n      <th>좋아요</th>\n      <th>가사</th>\n    </tr>\n  </thead>\n  <tbody>\n    <tr>\n      <th>0</th>\n      <td>사랑은 늘 도망가</td>\n      <td>임영웅</td>\n      <td>신사와 아가씨 OST Part.2</td>\n      <td>2021.10.11</td>\n      <td>발라드, 국내드라마</td>\n      <td>123990</td>\n      <td>눈물이 난다 이 길을 걸으면그 사람 손길이 자꾸 생각이 난다붙잡지 못하고 가슴만 떨...</td>\n    </tr>\n    <tr>\n      <th>2</th>\n      <td>호랑수월가</td>\n      <td>탑현</td>\n      <td>호랑수월가</td>\n      <td>2022.01.15</td>\n      <td>발라드</td>\n      <td>35285</td>\n      <td>흐르는 저 하늘을 물어 채는 범처럼태산에 날아들어 숨어드는 새처럼동산을 뛰고 뛰어가...</td>\n    </tr>\n    <tr>\n      <th>4</th>\n      <td>회전목마 (Feat. Zion.T, 원슈타인) (Prod. Slom)</td>\n      <td>sokodomo</td>\n      <td>쇼미더머니 10 Episode 2</td>\n      <td>2021.11.13</td>\n      <td>랩/힙합</td>\n      <td>186557</td>\n      <td>내가 슬플 때마다이 노래가 찾아와세상이 둥근 것처럼 우린 동글동글인생은 회전목마우린...</td>\n    </tr>\n    <tr>\n      <th>6</th>\n      <td>리무진 (Feat. MINO) (Prod. GRAY)</td>\n      <td>BE'O (비오)</td>\n      <td>쇼미더머니 10 Episode 3</td>\n      <td>2021.11.20</td>\n      <td>랩/힙합</td>\n      <td>162366</td>\n      <td>까만 리무진 보며꿈을 키웠지언젠가는 나도 저걸 갖게 될 거야커다란 리무진에서 내가 ...</td>\n    </tr>\n    <tr>\n      <th>8</th>\n      <td>Dreams Come True</td>\n      <td>aespa</td>\n      <td>Dreams Come True - SM STATION</td>\n      <td>2021.12.20</td>\n      <td>댄스</td>\n      <td>74889</td>\n      <td>Uh, You wanna feel the vibeThat I’m feeling an...</td>\n    </tr>\n    <tr>\n      <th>10</th>\n      <td>이제 나만 믿어요</td>\n      <td>임영웅</td>\n      <td>내일은 미스터트롯 우승자 특전곡</td>\n      <td>2020.04.03</td>\n      <td>성인가요</td>\n      <td>146420</td>\n      <td>무얼 믿은 걸까 부족했던 내게서나조차 못 믿던 내게 여태 머문 사람무얼 봤던 걸까 ...</td>\n    </tr>\n  </tbody>\n</table>\n</div>"
     },
     "execution_count": 69,
     "metadata": {},
     "output_type": "execute_result"
    }
   ],
   "source": [
    "# Slicing : 인덱스가 0부터 5까지의 행과 모든 열을 선택하기, 1개의 행르 skip\n",
    "song_df.loc[0:10:2]      # song_df.loc[0:10:2,:]"
   ],
   "metadata": {
    "collapsed": false,
    "pycharm": {
     "name": "#%%\n"
    }
   }
  },
  {
   "cell_type": "code",
   "execution_count": 101,
   "outputs": [
    {
     "data": {
      "text/plain": "                                       곡명            가수                  앨범  \\\n0                               사랑은 늘 도망가           임영웅  신사와 아가씨 OST Part.2   \n1                                    취중고백    김민석 (멜로망스)                취중고백   \n2                                   호랑수월가            탑현               호랑수월가   \n3                               Step Back  GOT the beat           Step Back   \n4  회전목마 (Feat. Zion.T, 원슈타인) (Prod. Slom)      sokodomo  쇼미더머니 10 Episode 2   \n5                                  ELEVEN     IVE (아이브)              ELEVEN   \n\n          발매일          장르  \n0  2021.10.11  발라드, 국내드라마  \n1  2021.12.19         발라드  \n2  2022.01.15         발라드  \n3  2022.01.03          댄스  \n4  2021.11.13        랩/힙합  \n5  2021.12.01          댄스  ",
      "text/html": "<div>\n<style scoped>\n    .dataframe tbody tr th:only-of-type {\n        vertical-align: middle;\n    }\n\n    .dataframe tbody tr th {\n        vertical-align: top;\n    }\n\n    .dataframe thead th {\n        text-align: right;\n    }\n</style>\n<table border=\"1\" class=\"dataframe\">\n  <thead>\n    <tr style=\"text-align: right;\">\n      <th></th>\n      <th>곡명</th>\n      <th>가수</th>\n      <th>앨범</th>\n      <th>발매일</th>\n      <th>장르</th>\n    </tr>\n  </thead>\n  <tbody>\n    <tr>\n      <th>0</th>\n      <td>사랑은 늘 도망가</td>\n      <td>임영웅</td>\n      <td>신사와 아가씨 OST Part.2</td>\n      <td>2021.10.11</td>\n      <td>발라드, 국내드라마</td>\n    </tr>\n    <tr>\n      <th>1</th>\n      <td>취중고백</td>\n      <td>김민석 (멜로망스)</td>\n      <td>취중고백</td>\n      <td>2021.12.19</td>\n      <td>발라드</td>\n    </tr>\n    <tr>\n      <th>2</th>\n      <td>호랑수월가</td>\n      <td>탑현</td>\n      <td>호랑수월가</td>\n      <td>2022.01.15</td>\n      <td>발라드</td>\n    </tr>\n    <tr>\n      <th>3</th>\n      <td>Step Back</td>\n      <td>GOT the beat</td>\n      <td>Step Back</td>\n      <td>2022.01.03</td>\n      <td>댄스</td>\n    </tr>\n    <tr>\n      <th>4</th>\n      <td>회전목마 (Feat. Zion.T, 원슈타인) (Prod. Slom)</td>\n      <td>sokodomo</td>\n      <td>쇼미더머니 10 Episode 2</td>\n      <td>2021.11.13</td>\n      <td>랩/힙합</td>\n    </tr>\n    <tr>\n      <th>5</th>\n      <td>ELEVEN</td>\n      <td>IVE (아이브)</td>\n      <td>ELEVEN</td>\n      <td>2021.12.01</td>\n      <td>댄스</td>\n    </tr>\n  </tbody>\n</table>\n</div>"
     },
     "execution_count": 101,
     "metadata": {},
     "output_type": "execute_result"
    }
   ],
   "source": [
    "# Slicing : 인덱스가 0부터 5까지의 행과 곡명부터 장르까지의 열을 선택하기\n",
    "song_df.loc[0:5,'곡명':'장르']"
   ],
   "metadata": {
    "collapsed": false,
    "pycharm": {
     "name": "#%%\n"
    }
   }
  },
  {
   "cell_type": "code",
   "execution_count": 73,
   "outputs": [
    {
     "data": {
      "text/plain": "                                        곡명         가수                  앨범  \\\n0                                사랑은 늘 도망가        임영웅  신사와 아가씨 OST Part.2   \n4   회전목마 (Feat. Zion.T, 원슈타인) (Prod. Slom)   sokodomo  쇼미더머니 10 Episode 2   \n7          Counting Stars (Feat. Beenzino)  BE'O (비오)      Counting Stars   \n10                               이제 나만 믿어요        임영웅   내일은 미스터트롯 우승자 특전곡   \n\n           발매일          장르     좋아요  \\\n0   2021.10.11  발라드, 국내드라마  123990   \n4   2021.11.13        랩/힙합  186557   \n7   2021.12.12        랩/힙합  147753   \n10  2020.04.03        성인가요  146420   \n\n                                                   가사  \n0   눈물이 난다 이 길을 걸으면그 사람 손길이 자꾸 생각이 난다붙잡지 못하고 가슴만 떨...  \n4   내가 슬플 때마다이 노래가 찾아와세상이 둥근 것처럼 우린 동글동글인생은 회전목마우린...  \n7   Counting stars밤하늘에 펄Better than your LVYour LV...  \n10  무얼 믿은 걸까 부족했던 내게서나조차 못 믿던 내게 여태 머문 사람무얼 봤던 걸까 ...  ",
      "text/html": "<div>\n<style scoped>\n    .dataframe tbody tr th:only-of-type {\n        vertical-align: middle;\n    }\n\n    .dataframe tbody tr th {\n        vertical-align: top;\n    }\n\n    .dataframe thead th {\n        text-align: right;\n    }\n</style>\n<table border=\"1\" class=\"dataframe\">\n  <thead>\n    <tr style=\"text-align: right;\">\n      <th></th>\n      <th>곡명</th>\n      <th>가수</th>\n      <th>앨범</th>\n      <th>발매일</th>\n      <th>장르</th>\n      <th>좋아요</th>\n      <th>가사</th>\n    </tr>\n  </thead>\n  <tbody>\n    <tr>\n      <th>0</th>\n      <td>사랑은 늘 도망가</td>\n      <td>임영웅</td>\n      <td>신사와 아가씨 OST Part.2</td>\n      <td>2021.10.11</td>\n      <td>발라드, 국내드라마</td>\n      <td>123990</td>\n      <td>눈물이 난다 이 길을 걸으면그 사람 손길이 자꾸 생각이 난다붙잡지 못하고 가슴만 떨...</td>\n    </tr>\n    <tr>\n      <th>4</th>\n      <td>회전목마 (Feat. Zion.T, 원슈타인) (Prod. Slom)</td>\n      <td>sokodomo</td>\n      <td>쇼미더머니 10 Episode 2</td>\n      <td>2021.11.13</td>\n      <td>랩/힙합</td>\n      <td>186557</td>\n      <td>내가 슬플 때마다이 노래가 찾아와세상이 둥근 것처럼 우린 동글동글인생은 회전목마우린...</td>\n    </tr>\n    <tr>\n      <th>7</th>\n      <td>Counting Stars (Feat. Beenzino)</td>\n      <td>BE'O (비오)</td>\n      <td>Counting Stars</td>\n      <td>2021.12.12</td>\n      <td>랩/힙합</td>\n      <td>147753</td>\n      <td>Counting stars밤하늘에 펄Better than your LVYour LV...</td>\n    </tr>\n    <tr>\n      <th>10</th>\n      <td>이제 나만 믿어요</td>\n      <td>임영웅</td>\n      <td>내일은 미스터트롯 우승자 특전곡</td>\n      <td>2020.04.03</td>\n      <td>성인가요</td>\n      <td>146420</td>\n      <td>무얼 믿은 걸까 부족했던 내게서나조차 못 믿던 내게 여태 머문 사람무얼 봤던 걸까 ...</td>\n    </tr>\n  </tbody>\n</table>\n</div>"
     },
     "execution_count": 73,
     "metadata": {},
     "output_type": "execute_result"
    }
   ],
   "source": [
    "# 여러개의 0,4,7,10 행과 열을 선택\n",
    "song_df.loc[[0,4,7,10]]"
   ],
   "metadata": {
    "collapsed": false,
    "pycharm": {
     "name": "#%%\n"
    }
   }
  },
  {
   "cell_type": "code",
   "execution_count": 76,
   "outputs": [
    {
     "data": {
      "text/plain": "                                        곡명         가수          장르\n0                                사랑은 늘 도망가        임영웅  발라드, 국내드라마\n4   회전목마 (Feat. Zion.T, 원슈타인) (Prod. Slom)   sokodomo        랩/힙합\n7          Counting Stars (Feat. Beenzino)  BE'O (비오)        랩/힙합\n10                               이제 나만 믿어요        임영웅        성인가요",
      "text/html": "<div>\n<style scoped>\n    .dataframe tbody tr th:only-of-type {\n        vertical-align: middle;\n    }\n\n    .dataframe tbody tr th {\n        vertical-align: top;\n    }\n\n    .dataframe thead th {\n        text-align: right;\n    }\n</style>\n<table border=\"1\" class=\"dataframe\">\n  <thead>\n    <tr style=\"text-align: right;\">\n      <th></th>\n      <th>곡명</th>\n      <th>가수</th>\n      <th>장르</th>\n    </tr>\n  </thead>\n  <tbody>\n    <tr>\n      <th>0</th>\n      <td>사랑은 늘 도망가</td>\n      <td>임영웅</td>\n      <td>발라드, 국내드라마</td>\n    </tr>\n    <tr>\n      <th>4</th>\n      <td>회전목마 (Feat. Zion.T, 원슈타인) (Prod. Slom)</td>\n      <td>sokodomo</td>\n      <td>랩/힙합</td>\n    </tr>\n    <tr>\n      <th>7</th>\n      <td>Counting Stars (Feat. Beenzino)</td>\n      <td>BE'O (비오)</td>\n      <td>랩/힙합</td>\n    </tr>\n    <tr>\n      <th>10</th>\n      <td>이제 나만 믿어요</td>\n      <td>임영웅</td>\n      <td>성인가요</td>\n    </tr>\n  </tbody>\n</table>\n</div>"
     },
     "execution_count": 76,
     "metadata": {},
     "output_type": "execute_result"
    }
   ],
   "source": [
    "# 여러개의 0,4,7,10 행과 곡명, 가수, 장르 열을 선택\n",
    "song_df.loc[[0,4,7,10],['곡명','가수','장르']]"
   ],
   "metadata": {
    "collapsed": false,
    "pycharm": {
     "name": "#%%\n"
    }
   }
  },
  {
   "cell_type": "code",
   "execution_count": 78,
   "outputs": [
    {
     "data": {
      "text/plain": "       좋아요\n0   123990\n4   186557\n7   147753\n10  146420",
      "text/html": "<div>\n<style scoped>\n    .dataframe tbody tr th:only-of-type {\n        vertical-align: middle;\n    }\n\n    .dataframe tbody tr th {\n        vertical-align: top;\n    }\n\n    .dataframe thead th {\n        text-align: right;\n    }\n</style>\n<table border=\"1\" class=\"dataframe\">\n  <thead>\n    <tr style=\"text-align: right;\">\n      <th></th>\n      <th>좋아요</th>\n    </tr>\n  </thead>\n  <tbody>\n    <tr>\n      <th>0</th>\n      <td>123990</td>\n    </tr>\n    <tr>\n      <th>4</th>\n      <td>186557</td>\n    </tr>\n    <tr>\n      <th>7</th>\n      <td>147753</td>\n    </tr>\n    <tr>\n      <th>10</th>\n      <td>146420</td>\n    </tr>\n  </tbody>\n</table>\n</div>"
     },
     "execution_count": 78,
     "metadata": {},
     "output_type": "execute_result"
    }
   ],
   "source": [
    "# 여러개의 0,4,7,10 행과 좋아요 열만 선택\n",
    "song_df.loc[[0,4,7,10],['좋아요']]"
   ],
   "metadata": {
    "collapsed": false,
    "pycharm": {
     "name": "#%%\n"
    }
   }
  },
  {
   "cell_type": "code",
   "execution_count": 82,
   "outputs": [
    {
     "data": {
      "text/plain": "                                                곡명             가수     좋아요\n10                                       이제 나만 믿어요            임영웅  146420\n11                            Can't Control Myself   태연 (TAEYEON)   47543\n12                                             겨울잠            아이유   89258\n13                                   다정히 내 이름을 부르면           경서예지  109305\n14                                             신호등            이무진  256451\n15  만남은 쉽고 이별은 어려워 (Feat. Leellamarz) (Prod. TOIL)   베이식 (Basick)  107153\n16                                            STAY  The Kid LAROI  202790\n17                              다시 사랑한다면 (김필 Ver.)            임영웅   40774\n18                                         그대라는 사치            임영웅   36831\n19                                      Next Level          aespa  235360\n20                                 strawberry moon            아이유  179840",
      "text/html": "<div>\n<style scoped>\n    .dataframe tbody tr th:only-of-type {\n        vertical-align: middle;\n    }\n\n    .dataframe tbody tr th {\n        vertical-align: top;\n    }\n\n    .dataframe thead th {\n        text-align: right;\n    }\n</style>\n<table border=\"1\" class=\"dataframe\">\n  <thead>\n    <tr style=\"text-align: right;\">\n      <th></th>\n      <th>곡명</th>\n      <th>가수</th>\n      <th>좋아요</th>\n    </tr>\n  </thead>\n  <tbody>\n    <tr>\n      <th>10</th>\n      <td>이제 나만 믿어요</td>\n      <td>임영웅</td>\n      <td>146420</td>\n    </tr>\n    <tr>\n      <th>11</th>\n      <td>Can't Control Myself</td>\n      <td>태연 (TAEYEON)</td>\n      <td>47543</td>\n    </tr>\n    <tr>\n      <th>12</th>\n      <td>겨울잠</td>\n      <td>아이유</td>\n      <td>89258</td>\n    </tr>\n    <tr>\n      <th>13</th>\n      <td>다정히 내 이름을 부르면</td>\n      <td>경서예지</td>\n      <td>109305</td>\n    </tr>\n    <tr>\n      <th>14</th>\n      <td>신호등</td>\n      <td>이무진</td>\n      <td>256451</td>\n    </tr>\n    <tr>\n      <th>15</th>\n      <td>만남은 쉽고 이별은 어려워 (Feat. Leellamarz) (Prod. TOIL)</td>\n      <td>베이식 (Basick)</td>\n      <td>107153</td>\n    </tr>\n    <tr>\n      <th>16</th>\n      <td>STAY</td>\n      <td>The Kid LAROI</td>\n      <td>202790</td>\n    </tr>\n    <tr>\n      <th>17</th>\n      <td>다시 사랑한다면 (김필 Ver.)</td>\n      <td>임영웅</td>\n      <td>40774</td>\n    </tr>\n    <tr>\n      <th>18</th>\n      <td>그대라는 사치</td>\n      <td>임영웅</td>\n      <td>36831</td>\n    </tr>\n    <tr>\n      <th>19</th>\n      <td>Next Level</td>\n      <td>aespa</td>\n      <td>235360</td>\n    </tr>\n    <tr>\n      <th>20</th>\n      <td>strawberry moon</td>\n      <td>아이유</td>\n      <td>179840</td>\n    </tr>\n  </tbody>\n</table>\n</div>"
     },
     "execution_count": 82,
     "metadata": {},
     "output_type": "execute_result"
    }
   ],
   "source": [
    "# 10부터 20까지의 행과 곡명, 가수, 좋아요 열을 선택\n",
    "\n",
    "song_df.loc[10:20,['곡명','가수','좋아요']]"
   ],
   "metadata": {
    "collapsed": false,
    "pycharm": {
     "name": "#%%\n"
    }
   }
  },
  {
   "cell_type": "code",
   "execution_count": 85,
   "outputs": [
    {
     "data": {
      "text/plain": "                                           곡명                 가수  \\\n3                                   Step Back       GOT the beat   \n5                                      ELEVEN          IVE (아이브)   \n8                            Dreams Come True              aespa   \n19                                 Next Level              aespa   \n21                        SMILEY (Feat. BIBI)         YENA (최예나)   \n26                                     Savage              aespa   \n35                                     Butter              방탄소년단   \n41                                   Dynamite              방탄소년단   \n45                        Permission to Dance              방탄소년단   \n50                                    Weekend       태연 (TAEYEON)   \n52                                  Celebrity                아이유   \n58                                        라일락                아이유   \n69                                         DM             프로미스나인   \n76                               롤린 (Rollin')             브레이브걸스   \n78                              Dun Dun Dance  오마이걸 (OH MY GIRL)   \n82  작은 것들을 위한 시 (Boy With Luv) (Feat. Halsey)              방탄소년단   \n90                                   Queendom  Red Velvet (레드벨벳)   \n91                                   WA DA DA       Kep1er (케플러)   \n\n                               앨범         발매일  장르     좋아요  \\\n3                       Step Back  2022.01.03  댄스   65658   \n5                          ELEVEN  2021.12.01  댄스  103233   \n8   Dreams Come True - SM STATION  2021.12.20  댄스   74889   \n19                     Next Level  2021.05.17  댄스  235360   \n21                   ˣ‿ˣ (SMiLEY)  2022.01.17  댄스   44487   \n26    Savage - The 1st Mini Album  2021.10.05  댄스  139539   \n35                         Butter  2021.05.21  댄스  263255   \n41     Dynamite (DayTime Version)  2020.08.24  댄스  428692   \n45   Butter / Permission to Dance  2021.07.09  댄스  195014   \n50                        Weekend  2021.07.06  댄스  159195   \n52           IU 5th Album 'LILAC'  2021.03.25  댄스  312340   \n58           IU 5th Album 'LILAC'  2021.03.25  댄스  230177   \n69                 Midnight Guest  2022.01.17  댄스   20917   \n76                        Rollin'  2017.03.07  댄스  290787   \n78                  Dear OHMYGIRL  2021.05.10  댄스  151767   \n82      MAP OF THE SOUL : PERSONA  2019.04.12  댄스  431668   \n90  Queendom - The 6th Mini Album  2021.08.16  댄스  108445   \n91                   FIRST IMPACT  2022.01.03  댄스   21627   \n\n                                                   가사  \n3   You must step back어델 어델 봐너 감히 누구라고 날 제껴이쯤에서 물러...  \n5   따분한 나의 눈빛이무표정했던 얼굴이널 보며 빛나고 있어널 담은 눈동자는 odd내 안...  \n8   Uh, You wanna feel the vibeThat I’m feeling an...  \n19  I’m on the Next Level Yeah절대적 룰을 지켜내 손을 놓지 말아결...  \n21  울지 마 울지 마어린아이같이웃는 게 웃는 게이기는 거라구Youre so cuteYo...  \n26  Oh my gosh!Don't you know I’m a Savage?I’m a K...  \n35  Smooth like butterLike a criminal undercoverGo...  \n41  Cos ah ahI’m in the stars tonightSo watch me b...  \n45  It’s the thought of being youngWhen your heart...  \n50  가장 가까운 바다혼자만의 영화관그냥 이끌리는 대로 해도 괜찮으니까Every morn...  \n52  세상의 모서리구부정하게 커버린골칫거리 outsider걸음걸이, 옷차림, 이어폰 너머...  \n58  나리는 꽃가루에 눈이 따끔해 (아야)눈물이 고여도 꾹 참을래내 마음 한켠 비밀스런 ...  \n69  Hey you 지금 뭐 해잠깐 밖으로 나올래네가 보고 싶다고거울 속의 난 So pe...  \n76  그 날을 잊지 못해 babe날 보며 환히 웃던 너의 미소에홀린 듯 I'm fall ...  \n78  Dun Dun Dance Dun Dun DanceDun Dun DanceJust d...  \n82  모든 게 궁금해How’s your dayOh tell me뭐가 널 행복하게 하는지O...  \n90  QueensAh yeah ah yeahAh yeah ah yeahDururururu...  \n91  HeyIt’s you& ILet’s startN N Now 도착한 이 PlaceWa...  ",
      "text/html": "<div>\n<style scoped>\n    .dataframe tbody tr th:only-of-type {\n        vertical-align: middle;\n    }\n\n    .dataframe tbody tr th {\n        vertical-align: top;\n    }\n\n    .dataframe thead th {\n        text-align: right;\n    }\n</style>\n<table border=\"1\" class=\"dataframe\">\n  <thead>\n    <tr style=\"text-align: right;\">\n      <th></th>\n      <th>곡명</th>\n      <th>가수</th>\n      <th>앨범</th>\n      <th>발매일</th>\n      <th>장르</th>\n      <th>좋아요</th>\n      <th>가사</th>\n    </tr>\n  </thead>\n  <tbody>\n    <tr>\n      <th>3</th>\n      <td>Step Back</td>\n      <td>GOT the beat</td>\n      <td>Step Back</td>\n      <td>2022.01.03</td>\n      <td>댄스</td>\n      <td>65658</td>\n      <td>You must step back어델 어델 봐너 감히 누구라고 날 제껴이쯤에서 물러...</td>\n    </tr>\n    <tr>\n      <th>5</th>\n      <td>ELEVEN</td>\n      <td>IVE (아이브)</td>\n      <td>ELEVEN</td>\n      <td>2021.12.01</td>\n      <td>댄스</td>\n      <td>103233</td>\n      <td>따분한 나의 눈빛이무표정했던 얼굴이널 보며 빛나고 있어널 담은 눈동자는 odd내 안...</td>\n    </tr>\n    <tr>\n      <th>8</th>\n      <td>Dreams Come True</td>\n      <td>aespa</td>\n      <td>Dreams Come True - SM STATION</td>\n      <td>2021.12.20</td>\n      <td>댄스</td>\n      <td>74889</td>\n      <td>Uh, You wanna feel the vibeThat I’m feeling an...</td>\n    </tr>\n    <tr>\n      <th>19</th>\n      <td>Next Level</td>\n      <td>aespa</td>\n      <td>Next Level</td>\n      <td>2021.05.17</td>\n      <td>댄스</td>\n      <td>235360</td>\n      <td>I’m on the Next Level Yeah절대적 룰을 지켜내 손을 놓지 말아결...</td>\n    </tr>\n    <tr>\n      <th>21</th>\n      <td>SMILEY (Feat. BIBI)</td>\n      <td>YENA (최예나)</td>\n      <td>ˣ‿ˣ (SMiLEY)</td>\n      <td>2022.01.17</td>\n      <td>댄스</td>\n      <td>44487</td>\n      <td>울지 마 울지 마어린아이같이웃는 게 웃는 게이기는 거라구Youre so cuteYo...</td>\n    </tr>\n    <tr>\n      <th>26</th>\n      <td>Savage</td>\n      <td>aespa</td>\n      <td>Savage - The 1st Mini Album</td>\n      <td>2021.10.05</td>\n      <td>댄스</td>\n      <td>139539</td>\n      <td>Oh my gosh!Don't you know I’m a Savage?I’m a K...</td>\n    </tr>\n    <tr>\n      <th>35</th>\n      <td>Butter</td>\n      <td>방탄소년단</td>\n      <td>Butter</td>\n      <td>2021.05.21</td>\n      <td>댄스</td>\n      <td>263255</td>\n      <td>Smooth like butterLike a criminal undercoverGo...</td>\n    </tr>\n    <tr>\n      <th>41</th>\n      <td>Dynamite</td>\n      <td>방탄소년단</td>\n      <td>Dynamite (DayTime Version)</td>\n      <td>2020.08.24</td>\n      <td>댄스</td>\n      <td>428692</td>\n      <td>Cos ah ahI’m in the stars tonightSo watch me b...</td>\n    </tr>\n    <tr>\n      <th>45</th>\n      <td>Permission to Dance</td>\n      <td>방탄소년단</td>\n      <td>Butter / Permission to Dance</td>\n      <td>2021.07.09</td>\n      <td>댄스</td>\n      <td>195014</td>\n      <td>It’s the thought of being youngWhen your heart...</td>\n    </tr>\n    <tr>\n      <th>50</th>\n      <td>Weekend</td>\n      <td>태연 (TAEYEON)</td>\n      <td>Weekend</td>\n      <td>2021.07.06</td>\n      <td>댄스</td>\n      <td>159195</td>\n      <td>가장 가까운 바다혼자만의 영화관그냥 이끌리는 대로 해도 괜찮으니까Every morn...</td>\n    </tr>\n    <tr>\n      <th>52</th>\n      <td>Celebrity</td>\n      <td>아이유</td>\n      <td>IU 5th Album 'LILAC'</td>\n      <td>2021.03.25</td>\n      <td>댄스</td>\n      <td>312340</td>\n      <td>세상의 모서리구부정하게 커버린골칫거리 outsider걸음걸이, 옷차림, 이어폰 너머...</td>\n    </tr>\n    <tr>\n      <th>58</th>\n      <td>라일락</td>\n      <td>아이유</td>\n      <td>IU 5th Album 'LILAC'</td>\n      <td>2021.03.25</td>\n      <td>댄스</td>\n      <td>230177</td>\n      <td>나리는 꽃가루에 눈이 따끔해 (아야)눈물이 고여도 꾹 참을래내 마음 한켠 비밀스런 ...</td>\n    </tr>\n    <tr>\n      <th>69</th>\n      <td>DM</td>\n      <td>프로미스나인</td>\n      <td>Midnight Guest</td>\n      <td>2022.01.17</td>\n      <td>댄스</td>\n      <td>20917</td>\n      <td>Hey you 지금 뭐 해잠깐 밖으로 나올래네가 보고 싶다고거울 속의 난 So pe...</td>\n    </tr>\n    <tr>\n      <th>76</th>\n      <td>롤린 (Rollin')</td>\n      <td>브레이브걸스</td>\n      <td>Rollin'</td>\n      <td>2017.03.07</td>\n      <td>댄스</td>\n      <td>290787</td>\n      <td>그 날을 잊지 못해 babe날 보며 환히 웃던 너의 미소에홀린 듯 I'm fall ...</td>\n    </tr>\n    <tr>\n      <th>78</th>\n      <td>Dun Dun Dance</td>\n      <td>오마이걸 (OH MY GIRL)</td>\n      <td>Dear OHMYGIRL</td>\n      <td>2021.05.10</td>\n      <td>댄스</td>\n      <td>151767</td>\n      <td>Dun Dun Dance Dun Dun DanceDun Dun DanceJust d...</td>\n    </tr>\n    <tr>\n      <th>82</th>\n      <td>작은 것들을 위한 시 (Boy With Luv) (Feat. Halsey)</td>\n      <td>방탄소년단</td>\n      <td>MAP OF THE SOUL : PERSONA</td>\n      <td>2019.04.12</td>\n      <td>댄스</td>\n      <td>431668</td>\n      <td>모든 게 궁금해How’s your dayOh tell me뭐가 널 행복하게 하는지O...</td>\n    </tr>\n    <tr>\n      <th>90</th>\n      <td>Queendom</td>\n      <td>Red Velvet (레드벨벳)</td>\n      <td>Queendom - The 6th Mini Album</td>\n      <td>2021.08.16</td>\n      <td>댄스</td>\n      <td>108445</td>\n      <td>QueensAh yeah ah yeahAh yeah ah yeahDururururu...</td>\n    </tr>\n    <tr>\n      <th>91</th>\n      <td>WA DA DA</td>\n      <td>Kep1er (케플러)</td>\n      <td>FIRST IMPACT</td>\n      <td>2022.01.03</td>\n      <td>댄스</td>\n      <td>21627</td>\n      <td>HeyIt’s you&amp; ILet’s startN N Now 도착한 이 PlaceWa...</td>\n    </tr>\n  </tbody>\n</table>\n</div>"
     },
     "execution_count": 85,
     "metadata": {},
     "output_type": "execute_result"
    }
   ],
   "source": [
    "# 장르가 댄스인 행과 모든열을 선택\n",
    "\n",
    "song_df.loc[song_df['장르'] == '댄스']"
   ],
   "metadata": {
    "collapsed": false,
    "pycharm": {
     "name": "#%%\n"
    }
   }
  },
  {
   "cell_type": "code",
   "execution_count": 88,
   "outputs": [
    {
     "data": {
      "text/plain": "                                           곡명                 가수  \\\n0                                   Step Back       GOT the beat   \n1                                      ELEVEN          IVE (아이브)   \n2                            Dreams Come True              aespa   \n3                                  Next Level              aespa   \n4                         SMILEY (Feat. BIBI)         YENA (최예나)   \n5                                      Savage              aespa   \n6                                      Butter              방탄소년단   \n7                                    Dynamite              방탄소년단   \n8                         Permission to Dance              방탄소년단   \n9                                     Weekend       태연 (TAEYEON)   \n10                                  Celebrity                아이유   \n11                                        라일락                아이유   \n12                                         DM             프로미스나인   \n13                               롤린 (Rollin')             브레이브걸스   \n14                              Dun Dun Dance  오마이걸 (OH MY GIRL)   \n15  작은 것들을 위한 시 (Boy With Luv) (Feat. Halsey)              방탄소년단   \n16                                   Queendom  Red Velvet (레드벨벳)   \n17                                   WA DA DA       Kep1er (케플러)   \n\n                               앨범         발매일  장르  \n0                       Step Back  2022.01.03  댄스  \n1                          ELEVEN  2021.12.01  댄스  \n2   Dreams Come True - SM STATION  2021.12.20  댄스  \n3                      Next Level  2021.05.17  댄스  \n4                    ˣ‿ˣ (SMiLEY)  2022.01.17  댄스  \n5     Savage - The 1st Mini Album  2021.10.05  댄스  \n6                          Butter  2021.05.21  댄스  \n7      Dynamite (DayTime Version)  2020.08.24  댄스  \n8    Butter / Permission to Dance  2021.07.09  댄스  \n9                         Weekend  2021.07.06  댄스  \n10           IU 5th Album 'LILAC'  2021.03.25  댄스  \n11           IU 5th Album 'LILAC'  2021.03.25  댄스  \n12                 Midnight Guest  2022.01.17  댄스  \n13                        Rollin'  2017.03.07  댄스  \n14                  Dear OHMYGIRL  2021.05.10  댄스  \n15      MAP OF THE SOUL : PERSONA  2019.04.12  댄스  \n16  Queendom - The 6th Mini Album  2021.08.16  댄스  \n17                   FIRST IMPACT  2022.01.03  댄스  ",
      "text/html": "<div>\n<style scoped>\n    .dataframe tbody tr th:only-of-type {\n        vertical-align: middle;\n    }\n\n    .dataframe tbody tr th {\n        vertical-align: top;\n    }\n\n    .dataframe thead th {\n        text-align: right;\n    }\n</style>\n<table border=\"1\" class=\"dataframe\">\n  <thead>\n    <tr style=\"text-align: right;\">\n      <th></th>\n      <th>곡명</th>\n      <th>가수</th>\n      <th>앨범</th>\n      <th>발매일</th>\n      <th>장르</th>\n    </tr>\n  </thead>\n  <tbody>\n    <tr>\n      <th>0</th>\n      <td>Step Back</td>\n      <td>GOT the beat</td>\n      <td>Step Back</td>\n      <td>2022.01.03</td>\n      <td>댄스</td>\n    </tr>\n    <tr>\n      <th>1</th>\n      <td>ELEVEN</td>\n      <td>IVE (아이브)</td>\n      <td>ELEVEN</td>\n      <td>2021.12.01</td>\n      <td>댄스</td>\n    </tr>\n    <tr>\n      <th>2</th>\n      <td>Dreams Come True</td>\n      <td>aespa</td>\n      <td>Dreams Come True - SM STATION</td>\n      <td>2021.12.20</td>\n      <td>댄스</td>\n    </tr>\n    <tr>\n      <th>3</th>\n      <td>Next Level</td>\n      <td>aespa</td>\n      <td>Next Level</td>\n      <td>2021.05.17</td>\n      <td>댄스</td>\n    </tr>\n    <tr>\n      <th>4</th>\n      <td>SMILEY (Feat. BIBI)</td>\n      <td>YENA (최예나)</td>\n      <td>ˣ‿ˣ (SMiLEY)</td>\n      <td>2022.01.17</td>\n      <td>댄스</td>\n    </tr>\n    <tr>\n      <th>5</th>\n      <td>Savage</td>\n      <td>aespa</td>\n      <td>Savage - The 1st Mini Album</td>\n      <td>2021.10.05</td>\n      <td>댄스</td>\n    </tr>\n    <tr>\n      <th>6</th>\n      <td>Butter</td>\n      <td>방탄소년단</td>\n      <td>Butter</td>\n      <td>2021.05.21</td>\n      <td>댄스</td>\n    </tr>\n    <tr>\n      <th>7</th>\n      <td>Dynamite</td>\n      <td>방탄소년단</td>\n      <td>Dynamite (DayTime Version)</td>\n      <td>2020.08.24</td>\n      <td>댄스</td>\n    </tr>\n    <tr>\n      <th>8</th>\n      <td>Permission to Dance</td>\n      <td>방탄소년단</td>\n      <td>Butter / Permission to Dance</td>\n      <td>2021.07.09</td>\n      <td>댄스</td>\n    </tr>\n    <tr>\n      <th>9</th>\n      <td>Weekend</td>\n      <td>태연 (TAEYEON)</td>\n      <td>Weekend</td>\n      <td>2021.07.06</td>\n      <td>댄스</td>\n    </tr>\n    <tr>\n      <th>10</th>\n      <td>Celebrity</td>\n      <td>아이유</td>\n      <td>IU 5th Album 'LILAC'</td>\n      <td>2021.03.25</td>\n      <td>댄스</td>\n    </tr>\n    <tr>\n      <th>11</th>\n      <td>라일락</td>\n      <td>아이유</td>\n      <td>IU 5th Album 'LILAC'</td>\n      <td>2021.03.25</td>\n      <td>댄스</td>\n    </tr>\n    <tr>\n      <th>12</th>\n      <td>DM</td>\n      <td>프로미스나인</td>\n      <td>Midnight Guest</td>\n      <td>2022.01.17</td>\n      <td>댄스</td>\n    </tr>\n    <tr>\n      <th>13</th>\n      <td>롤린 (Rollin')</td>\n      <td>브레이브걸스</td>\n      <td>Rollin'</td>\n      <td>2017.03.07</td>\n      <td>댄스</td>\n    </tr>\n    <tr>\n      <th>14</th>\n      <td>Dun Dun Dance</td>\n      <td>오마이걸 (OH MY GIRL)</td>\n      <td>Dear OHMYGIRL</td>\n      <td>2021.05.10</td>\n      <td>댄스</td>\n    </tr>\n    <tr>\n      <th>15</th>\n      <td>작은 것들을 위한 시 (Boy With Luv) (Feat. Halsey)</td>\n      <td>방탄소년단</td>\n      <td>MAP OF THE SOUL : PERSONA</td>\n      <td>2019.04.12</td>\n      <td>댄스</td>\n    </tr>\n    <tr>\n      <th>16</th>\n      <td>Queendom</td>\n      <td>Red Velvet (레드벨벳)</td>\n      <td>Queendom - The 6th Mini Album</td>\n      <td>2021.08.16</td>\n      <td>댄스</td>\n    </tr>\n    <tr>\n      <th>17</th>\n      <td>WA DA DA</td>\n      <td>Kep1er (케플러)</td>\n      <td>FIRST IMPACT</td>\n      <td>2022.01.03</td>\n      <td>댄스</td>\n    </tr>\n  </tbody>\n</table>\n</div>"
     },
     "execution_count": 88,
     "metadata": {},
     "output_type": "execute_result"
    }
   ],
   "source": [
    "# 장르가 댄스인 행과 곡명 부터 장르까지의 열을 선택\n",
    "song_df.loc[song_df['장르'] == '댄스', '곡명':'장르'].reset_index(drop=True)"
   ],
   "metadata": {
    "collapsed": false,
    "pycharm": {
     "name": "#%%\n"
    }
   }
  },
  {
   "cell_type": "code",
   "execution_count": 92,
   "outputs": [
    {
     "name": "stdout",
     "output_type": "stream",
     "text": [
      "117363.55\n",
      "like Max 555843\n",
      "like Min 3130\n",
      "like Median 79254.0\n"
     ]
    }
   ],
   "source": [
    "# '좋아요' 건수가 평균보다 높은 행을 선택\n",
    "\n",
    "like_mean = song_df['좋아요'].mean()\n",
    "print(like_mean)\n",
    "\n",
    "print('like Max',song_df['좋아요'].max())\n",
    "print('like Min',song_df['좋아요'].min())\n",
    "print('like Median',song_df['좋아요'].median())"
   ],
   "metadata": {
    "collapsed": false,
    "pycharm": {
     "name": "#%%\n"
    }
   }
  },
  {
   "cell_type": "code",
   "execution_count": 94,
   "outputs": [
    {
     "data": {
      "text/plain": "    곡명     가수                    앨범         발매일    장르     좋아요  \\\n77  봄날  방탄소년단  YOU NEVER WALK ALONE  2017.02.13  랩/힙합  555843   \n\n                                                   가사  \n77  보고 싶다이렇게 말하니까 더 보고 싶다너희 사진을 보고 있어도보고 싶다너무 야속한 ...  ",
      "text/html": "<div>\n<style scoped>\n    .dataframe tbody tr th:only-of-type {\n        vertical-align: middle;\n    }\n\n    .dataframe tbody tr th {\n        vertical-align: top;\n    }\n\n    .dataframe thead th {\n        text-align: right;\n    }\n</style>\n<table border=\"1\" class=\"dataframe\">\n  <thead>\n    <tr style=\"text-align: right;\">\n      <th></th>\n      <th>곡명</th>\n      <th>가수</th>\n      <th>앨범</th>\n      <th>발매일</th>\n      <th>장르</th>\n      <th>좋아요</th>\n      <th>가사</th>\n    </tr>\n  </thead>\n  <tbody>\n    <tr>\n      <th>77</th>\n      <td>봄날</td>\n      <td>방탄소년단</td>\n      <td>YOU NEVER WALK ALONE</td>\n      <td>2017.02.13</td>\n      <td>랩/힙합</td>\n      <td>555843</td>\n      <td>보고 싶다이렇게 말하니까 더 보고 싶다너희 사진을 보고 있어도보고 싶다너무 야속한 ...</td>\n    </tr>\n  </tbody>\n</table>\n</div>"
     },
     "execution_count": 94,
     "metadata": {},
     "output_type": "execute_result"
    }
   ],
   "source": [
    "like_max = song_df['좋아요'].max()\n",
    "song_df.loc[song_df['좋아요'] == like_max]"
   ],
   "metadata": {
    "collapsed": false,
    "pycharm": {
     "name": "#%%\n"
    }
   }
  },
  {
   "cell_type": "code",
   "execution_count": 97,
   "outputs": [
    {
     "data": {
      "text/plain": "                                               곡명                 가수     좋아요\n0                                       사랑은 늘 도망가                임영웅  123990\n1          회전목마 (Feat. Zion.T, 원슈타인) (Prod. Slom)           sokodomo  186557\n2                   리무진 (Feat. MINO) (Prod. GRAY)          BE'O (비오)  162366\n3                 Counting Stars (Feat. Beenzino)          BE'O (비오)  147753\n4                                       이제 나만 믿어요                임영웅  146420\n5                                             신호등                이무진  256451\n6                                            STAY      The Kid LAROI  202790\n7                                      Next Level              aespa  235360\n8                                 strawberry moon                아이유  179840\n9                                          Savage              aespa  139539\n10                                         Butter              방탄소년단  263255\n11                                 OHAYO MY NIGHT        디핵 (D-Hack)  172686\n12                                       Dynamite              방탄소년단  428692\n13                            Permission to Dance              방탄소년단  195014\n14                                         바라만 본다      MSG워너비(M.O.M)  168910\n15                                    My Universe           Coldplay  147798\n16                                        Weekend       태연 (TAEYEON)  159195\n17                                      Celebrity                아이유  312340\n18                                  낙하 (with 아이유)          AKMU (악뮤)  164606\n19                                            라일락                아이유  230177\n20                                  밤하늘의 별을(2020)                 경서  179973\n21                                          헤픈 우연        헤이즈 (Heize)  168424\n22  사이렌 Remix (Feat. UNEDUCATED KID, Paul Blanco)                호미들  130256\n23                      어떻게 이별까지 사랑하겠어, 널 사랑하는 거지          AKMU (악뮤)  373840\n24          모든 날, 모든 순간 (Every day, Every Moment)                 폴킴  385891\n25                                        내 손을 잡아                아이유  180666\n26                                       너의 모든 순간                성시경  189486\n27                                   롤린 (Rollin')             브레이브걸스  290787\n28                                             봄날              방탄소년단  555843\n29                                  Dun Dun Dance  오마이걸 (OH MY GIRL)  151767\n30                                       Blueming                아이유  328419\n31       오늘도 빛나는 너에게 (To You My Light) (Feat.이라온)       마크툽 (MAKTUB)  255436\n32      작은 것들을 위한 시 (Boy With Luv) (Feat. Halsey)              방탄소년단  431668\n33                          취기를 빌려 (취향저격 그녀 X 산들)                 산들  209290\n34   Savage Love (Laxed - Siren Beat) (BTS Remix)          Jawsh 685  192769\n35                                            멜로디         ASH ISLAND  125376\n36                                   Life Goes On              방탄소년단  233287",
      "text/html": "<div>\n<style scoped>\n    .dataframe tbody tr th:only-of-type {\n        vertical-align: middle;\n    }\n\n    .dataframe tbody tr th {\n        vertical-align: top;\n    }\n\n    .dataframe thead th {\n        text-align: right;\n    }\n</style>\n<table border=\"1\" class=\"dataframe\">\n  <thead>\n    <tr style=\"text-align: right;\">\n      <th></th>\n      <th>곡명</th>\n      <th>가수</th>\n      <th>좋아요</th>\n    </tr>\n  </thead>\n  <tbody>\n    <tr>\n      <th>0</th>\n      <td>사랑은 늘 도망가</td>\n      <td>임영웅</td>\n      <td>123990</td>\n    </tr>\n    <tr>\n      <th>1</th>\n      <td>회전목마 (Feat. Zion.T, 원슈타인) (Prod. Slom)</td>\n      <td>sokodomo</td>\n      <td>186557</td>\n    </tr>\n    <tr>\n      <th>2</th>\n      <td>리무진 (Feat. MINO) (Prod. GRAY)</td>\n      <td>BE'O (비오)</td>\n      <td>162366</td>\n    </tr>\n    <tr>\n      <th>3</th>\n      <td>Counting Stars (Feat. Beenzino)</td>\n      <td>BE'O (비오)</td>\n      <td>147753</td>\n    </tr>\n    <tr>\n      <th>4</th>\n      <td>이제 나만 믿어요</td>\n      <td>임영웅</td>\n      <td>146420</td>\n    </tr>\n    <tr>\n      <th>5</th>\n      <td>신호등</td>\n      <td>이무진</td>\n      <td>256451</td>\n    </tr>\n    <tr>\n      <th>6</th>\n      <td>STAY</td>\n      <td>The Kid LAROI</td>\n      <td>202790</td>\n    </tr>\n    <tr>\n      <th>7</th>\n      <td>Next Level</td>\n      <td>aespa</td>\n      <td>235360</td>\n    </tr>\n    <tr>\n      <th>8</th>\n      <td>strawberry moon</td>\n      <td>아이유</td>\n      <td>179840</td>\n    </tr>\n    <tr>\n      <th>9</th>\n      <td>Savage</td>\n      <td>aespa</td>\n      <td>139539</td>\n    </tr>\n    <tr>\n      <th>10</th>\n      <td>Butter</td>\n      <td>방탄소년단</td>\n      <td>263255</td>\n    </tr>\n    <tr>\n      <th>11</th>\n      <td>OHAYO MY NIGHT</td>\n      <td>디핵 (D-Hack)</td>\n      <td>172686</td>\n    </tr>\n    <tr>\n      <th>12</th>\n      <td>Dynamite</td>\n      <td>방탄소년단</td>\n      <td>428692</td>\n    </tr>\n    <tr>\n      <th>13</th>\n      <td>Permission to Dance</td>\n      <td>방탄소년단</td>\n      <td>195014</td>\n    </tr>\n    <tr>\n      <th>14</th>\n      <td>바라만 본다</td>\n      <td>MSG워너비(M.O.M)</td>\n      <td>168910</td>\n    </tr>\n    <tr>\n      <th>15</th>\n      <td>My Universe</td>\n      <td>Coldplay</td>\n      <td>147798</td>\n    </tr>\n    <tr>\n      <th>16</th>\n      <td>Weekend</td>\n      <td>태연 (TAEYEON)</td>\n      <td>159195</td>\n    </tr>\n    <tr>\n      <th>17</th>\n      <td>Celebrity</td>\n      <td>아이유</td>\n      <td>312340</td>\n    </tr>\n    <tr>\n      <th>18</th>\n      <td>낙하 (with 아이유)</td>\n      <td>AKMU (악뮤)</td>\n      <td>164606</td>\n    </tr>\n    <tr>\n      <th>19</th>\n      <td>라일락</td>\n      <td>아이유</td>\n      <td>230177</td>\n    </tr>\n    <tr>\n      <th>20</th>\n      <td>밤하늘의 별을(2020)</td>\n      <td>경서</td>\n      <td>179973</td>\n    </tr>\n    <tr>\n      <th>21</th>\n      <td>헤픈 우연</td>\n      <td>헤이즈 (Heize)</td>\n      <td>168424</td>\n    </tr>\n    <tr>\n      <th>22</th>\n      <td>사이렌 Remix (Feat. UNEDUCATED KID, Paul Blanco)</td>\n      <td>호미들</td>\n      <td>130256</td>\n    </tr>\n    <tr>\n      <th>23</th>\n      <td>어떻게 이별까지 사랑하겠어, 널 사랑하는 거지</td>\n      <td>AKMU (악뮤)</td>\n      <td>373840</td>\n    </tr>\n    <tr>\n      <th>24</th>\n      <td>모든 날, 모든 순간 (Every day, Every Moment)</td>\n      <td>폴킴</td>\n      <td>385891</td>\n    </tr>\n    <tr>\n      <th>25</th>\n      <td>내 손을 잡아</td>\n      <td>아이유</td>\n      <td>180666</td>\n    </tr>\n    <tr>\n      <th>26</th>\n      <td>너의 모든 순간</td>\n      <td>성시경</td>\n      <td>189486</td>\n    </tr>\n    <tr>\n      <th>27</th>\n      <td>롤린 (Rollin')</td>\n      <td>브레이브걸스</td>\n      <td>290787</td>\n    </tr>\n    <tr>\n      <th>28</th>\n      <td>봄날</td>\n      <td>방탄소년단</td>\n      <td>555843</td>\n    </tr>\n    <tr>\n      <th>29</th>\n      <td>Dun Dun Dance</td>\n      <td>오마이걸 (OH MY GIRL)</td>\n      <td>151767</td>\n    </tr>\n    <tr>\n      <th>30</th>\n      <td>Blueming</td>\n      <td>아이유</td>\n      <td>328419</td>\n    </tr>\n    <tr>\n      <th>31</th>\n      <td>오늘도 빛나는 너에게 (To You My Light) (Feat.이라온)</td>\n      <td>마크툽 (MAKTUB)</td>\n      <td>255436</td>\n    </tr>\n    <tr>\n      <th>32</th>\n      <td>작은 것들을 위한 시 (Boy With Luv) (Feat. Halsey)</td>\n      <td>방탄소년단</td>\n      <td>431668</td>\n    </tr>\n    <tr>\n      <th>33</th>\n      <td>취기를 빌려 (취향저격 그녀 X 산들)</td>\n      <td>산들</td>\n      <td>209290</td>\n    </tr>\n    <tr>\n      <th>34</th>\n      <td>Savage Love (Laxed - Siren Beat) (BTS Remix)</td>\n      <td>Jawsh 685</td>\n      <td>192769</td>\n    </tr>\n    <tr>\n      <th>35</th>\n      <td>멜로디</td>\n      <td>ASH ISLAND</td>\n      <td>125376</td>\n    </tr>\n    <tr>\n      <th>36</th>\n      <td>Life Goes On</td>\n      <td>방탄소년단</td>\n      <td>233287</td>\n    </tr>\n  </tbody>\n</table>\n</div>"
     },
     "execution_count": 97,
     "metadata": {},
     "output_type": "execute_result"
    }
   ],
   "source": [
    "#좋아요 건수가 평균보다 높거나 같은 행과 곡명,가수,좋아요 열을 선택하고 index를 reset 하기\n",
    "\n",
    "song_df.loc[song_df['좋아요'] >= like_mean, ['곡명','가수','좋아요']].reset_index(drop=True)"
   ],
   "metadata": {
    "collapsed": false,
    "pycharm": {
     "name": "#%%\n"
    }
   }
  },
  {
   "cell_type": "code",
   "execution_count": 99,
   "outputs": [
    {
     "data": {
      "text/plain": "                                               곡명                 가수     좋아요\n0                                       사랑은 늘 도망가                임영웅  123990\n92                                            멜로디         ASH ISLAND  125376\n62  사이렌 Remix (Feat. UNEDUCATED KID, Paul Blanco)                호미들  130256\n26                                         Savage              aespa  139539\n10                                      이제 나만 믿어요                임영웅  146420\n7                 Counting Stars (Feat. Beenzino)          BE'O (비오)  147753\n49                                    My Universe           Coldplay  147798\n78                                  Dun Dun Dance  오마이걸 (OH MY GIRL)  151767\n50                                        Weekend       태연 (TAEYEON)  159195\n6                   리무진 (Feat. MINO) (Prod. GRAY)          BE'O (비오)  162366\n53                                  낙하 (with 아이유)          AKMU (악뮤)  164606\n60                                          헤픈 우연        헤이즈 (Heize)  168424\n48                                         바라만 본다      MSG워너비(M.O.M)  168910\n40                                 OHAYO MY NIGHT        디핵 (D-Hack)  172686\n20                                strawberry moon                아이유  179840\n59                                  밤하늘의 별을(2020)                 경서  179973\n68                                        내 손을 잡아                아이유  180666\n4          회전목마 (Feat. Zion.T, 원슈타인) (Prod. Slom)           sokodomo  186557\n73                                       너의 모든 순간                성시경  189486\n88   Savage Love (Laxed - Siren Beat) (BTS Remix)          Jawsh 685  192769\n45                            Permission to Dance              방탄소년단  195014\n16                                           STAY      The Kid LAROI  202790\n84                          취기를 빌려 (취향저격 그녀 X 산들)                 산들  209290\n58                                            라일락                아이유  230177\n94                                   Life Goes On              방탄소년단  233287\n19                                     Next Level              aespa  235360\n81       오늘도 빛나는 너에게 (To You My Light) (Feat.이라온)       마크툽 (MAKTUB)  255436\n14                                            신호등                이무진  256451\n35                                         Butter              방탄소년단  263255\n76                                   롤린 (Rollin')             브레이브걸스  290787\n52                                      Celebrity                아이유  312340\n80                                       Blueming                아이유  328419\n65                      어떻게 이별까지 사랑하겠어, 널 사랑하는 거지          AKMU (악뮤)  373840\n66          모든 날, 모든 순간 (Every day, Every Moment)                 폴킴  385891\n41                                       Dynamite              방탄소년단  428692\n82      작은 것들을 위한 시 (Boy With Luv) (Feat. Halsey)              방탄소년단  431668\n77                                             봄날              방탄소년단  555843",
      "text/html": "<div>\n<style scoped>\n    .dataframe tbody tr th:only-of-type {\n        vertical-align: middle;\n    }\n\n    .dataframe tbody tr th {\n        vertical-align: top;\n    }\n\n    .dataframe thead th {\n        text-align: right;\n    }\n</style>\n<table border=\"1\" class=\"dataframe\">\n  <thead>\n    <tr style=\"text-align: right;\">\n      <th></th>\n      <th>곡명</th>\n      <th>가수</th>\n      <th>좋아요</th>\n    </tr>\n  </thead>\n  <tbody>\n    <tr>\n      <th>0</th>\n      <td>사랑은 늘 도망가</td>\n      <td>임영웅</td>\n      <td>123990</td>\n    </tr>\n    <tr>\n      <th>92</th>\n      <td>멜로디</td>\n      <td>ASH ISLAND</td>\n      <td>125376</td>\n    </tr>\n    <tr>\n      <th>62</th>\n      <td>사이렌 Remix (Feat. UNEDUCATED KID, Paul Blanco)</td>\n      <td>호미들</td>\n      <td>130256</td>\n    </tr>\n    <tr>\n      <th>26</th>\n      <td>Savage</td>\n      <td>aespa</td>\n      <td>139539</td>\n    </tr>\n    <tr>\n      <th>10</th>\n      <td>이제 나만 믿어요</td>\n      <td>임영웅</td>\n      <td>146420</td>\n    </tr>\n    <tr>\n      <th>7</th>\n      <td>Counting Stars (Feat. Beenzino)</td>\n      <td>BE'O (비오)</td>\n      <td>147753</td>\n    </tr>\n    <tr>\n      <th>49</th>\n      <td>My Universe</td>\n      <td>Coldplay</td>\n      <td>147798</td>\n    </tr>\n    <tr>\n      <th>78</th>\n      <td>Dun Dun Dance</td>\n      <td>오마이걸 (OH MY GIRL)</td>\n      <td>151767</td>\n    </tr>\n    <tr>\n      <th>50</th>\n      <td>Weekend</td>\n      <td>태연 (TAEYEON)</td>\n      <td>159195</td>\n    </tr>\n    <tr>\n      <th>6</th>\n      <td>리무진 (Feat. MINO) (Prod. GRAY)</td>\n      <td>BE'O (비오)</td>\n      <td>162366</td>\n    </tr>\n    <tr>\n      <th>53</th>\n      <td>낙하 (with 아이유)</td>\n      <td>AKMU (악뮤)</td>\n      <td>164606</td>\n    </tr>\n    <tr>\n      <th>60</th>\n      <td>헤픈 우연</td>\n      <td>헤이즈 (Heize)</td>\n      <td>168424</td>\n    </tr>\n    <tr>\n      <th>48</th>\n      <td>바라만 본다</td>\n      <td>MSG워너비(M.O.M)</td>\n      <td>168910</td>\n    </tr>\n    <tr>\n      <th>40</th>\n      <td>OHAYO MY NIGHT</td>\n      <td>디핵 (D-Hack)</td>\n      <td>172686</td>\n    </tr>\n    <tr>\n      <th>20</th>\n      <td>strawberry moon</td>\n      <td>아이유</td>\n      <td>179840</td>\n    </tr>\n    <tr>\n      <th>59</th>\n      <td>밤하늘의 별을(2020)</td>\n      <td>경서</td>\n      <td>179973</td>\n    </tr>\n    <tr>\n      <th>68</th>\n      <td>내 손을 잡아</td>\n      <td>아이유</td>\n      <td>180666</td>\n    </tr>\n    <tr>\n      <th>4</th>\n      <td>회전목마 (Feat. Zion.T, 원슈타인) (Prod. Slom)</td>\n      <td>sokodomo</td>\n      <td>186557</td>\n    </tr>\n    <tr>\n      <th>73</th>\n      <td>너의 모든 순간</td>\n      <td>성시경</td>\n      <td>189486</td>\n    </tr>\n    <tr>\n      <th>88</th>\n      <td>Savage Love (Laxed - Siren Beat) (BTS Remix)</td>\n      <td>Jawsh 685</td>\n      <td>192769</td>\n    </tr>\n    <tr>\n      <th>45</th>\n      <td>Permission to Dance</td>\n      <td>방탄소년단</td>\n      <td>195014</td>\n    </tr>\n    <tr>\n      <th>16</th>\n      <td>STAY</td>\n      <td>The Kid LAROI</td>\n      <td>202790</td>\n    </tr>\n    <tr>\n      <th>84</th>\n      <td>취기를 빌려 (취향저격 그녀 X 산들)</td>\n      <td>산들</td>\n      <td>209290</td>\n    </tr>\n    <tr>\n      <th>58</th>\n      <td>라일락</td>\n      <td>아이유</td>\n      <td>230177</td>\n    </tr>\n    <tr>\n      <th>94</th>\n      <td>Life Goes On</td>\n      <td>방탄소년단</td>\n      <td>233287</td>\n    </tr>\n    <tr>\n      <th>19</th>\n      <td>Next Level</td>\n      <td>aespa</td>\n      <td>235360</td>\n    </tr>\n    <tr>\n      <th>81</th>\n      <td>오늘도 빛나는 너에게 (To You My Light) (Feat.이라온)</td>\n      <td>마크툽 (MAKTUB)</td>\n      <td>255436</td>\n    </tr>\n    <tr>\n      <th>14</th>\n      <td>신호등</td>\n      <td>이무진</td>\n      <td>256451</td>\n    </tr>\n    <tr>\n      <th>35</th>\n      <td>Butter</td>\n      <td>방탄소년단</td>\n      <td>263255</td>\n    </tr>\n    <tr>\n      <th>76</th>\n      <td>롤린 (Rollin')</td>\n      <td>브레이브걸스</td>\n      <td>290787</td>\n    </tr>\n    <tr>\n      <th>52</th>\n      <td>Celebrity</td>\n      <td>아이유</td>\n      <td>312340</td>\n    </tr>\n    <tr>\n      <th>80</th>\n      <td>Blueming</td>\n      <td>아이유</td>\n      <td>328419</td>\n    </tr>\n    <tr>\n      <th>65</th>\n      <td>어떻게 이별까지 사랑하겠어, 널 사랑하는 거지</td>\n      <td>AKMU (악뮤)</td>\n      <td>373840</td>\n    </tr>\n    <tr>\n      <th>66</th>\n      <td>모든 날, 모든 순간 (Every day, Every Moment)</td>\n      <td>폴킴</td>\n      <td>385891</td>\n    </tr>\n    <tr>\n      <th>41</th>\n      <td>Dynamite</td>\n      <td>방탄소년단</td>\n      <td>428692</td>\n    </tr>\n    <tr>\n      <th>82</th>\n      <td>작은 것들을 위한 시 (Boy With Luv) (Feat. Halsey)</td>\n      <td>방탄소년단</td>\n      <td>431668</td>\n    </tr>\n    <tr>\n      <th>77</th>\n      <td>봄날</td>\n      <td>방탄소년단</td>\n      <td>555843</td>\n    </tr>\n  </tbody>\n</table>\n</div>"
     },
     "execution_count": 99,
     "metadata": {},
     "output_type": "execute_result"
    }
   ],
   "source": [
    "#좋아요 건수가 평균보다 높거나 같은 행과 곡명,가수,좋아요 열을 선택하고 좋아요 건수가 높은 순서대로 정렬하고, index를 reset 하기\n",
    "\n",
    "song_df.loc[song_df['좋아요'] >= like_mean, ['곡명','가수','좋아요']].sort_values(by='좋아요')"
   ],
   "metadata": {
    "collapsed": false,
    "pycharm": {
     "name": "#%%\n"
    }
   }
  },
  {
   "cell_type": "code",
   "execution_count": 100,
   "outputs": [
    {
     "data": {
      "text/plain": "                                               곡명                 가수     좋아요\n0                                              봄날              방탄소년단  555843\n1       작은 것들을 위한 시 (Boy With Luv) (Feat. Halsey)              방탄소년단  431668\n2                                        Dynamite              방탄소년단  428692\n3           모든 날, 모든 순간 (Every day, Every Moment)                 폴킴  385891\n4                       어떻게 이별까지 사랑하겠어, 널 사랑하는 거지          AKMU (악뮤)  373840\n5                                        Blueming                아이유  328419\n6                                       Celebrity                아이유  312340\n7                                    롤린 (Rollin')             브레이브걸스  290787\n8                                          Butter              방탄소년단  263255\n9                                             신호등                이무진  256451\n10       오늘도 빛나는 너에게 (To You My Light) (Feat.이라온)       마크툽 (MAKTUB)  255436\n11                                     Next Level              aespa  235360\n12                                   Life Goes On              방탄소년단  233287\n13                                            라일락                아이유  230177\n14                          취기를 빌려 (취향저격 그녀 X 산들)                 산들  209290\n15                                           STAY      The Kid LAROI  202790\n16                            Permission to Dance              방탄소년단  195014\n17   Savage Love (Laxed - Siren Beat) (BTS Remix)          Jawsh 685  192769\n18                                       너의 모든 순간                성시경  189486\n19         회전목마 (Feat. Zion.T, 원슈타인) (Prod. Slom)           sokodomo  186557\n20                                        내 손을 잡아                아이유  180666\n21                                  밤하늘의 별을(2020)                 경서  179973\n22                                strawberry moon                아이유  179840\n23                                 OHAYO MY NIGHT        디핵 (D-Hack)  172686\n24                                         바라만 본다      MSG워너비(M.O.M)  168910\n25                                          헤픈 우연        헤이즈 (Heize)  168424\n26                                  낙하 (with 아이유)          AKMU (악뮤)  164606\n27                  리무진 (Feat. MINO) (Prod. GRAY)          BE'O (비오)  162366\n28                                        Weekend       태연 (TAEYEON)  159195\n29                                  Dun Dun Dance  오마이걸 (OH MY GIRL)  151767\n30                                    My Universe           Coldplay  147798\n31                Counting Stars (Feat. Beenzino)          BE'O (비오)  147753\n32                                      이제 나만 믿어요                임영웅  146420\n33                                         Savage              aespa  139539\n34  사이렌 Remix (Feat. UNEDUCATED KID, Paul Blanco)                호미들  130256\n35                                            멜로디         ASH ISLAND  125376\n36                                      사랑은 늘 도망가                임영웅  123990",
      "text/html": "<div>\n<style scoped>\n    .dataframe tbody tr th:only-of-type {\n        vertical-align: middle;\n    }\n\n    .dataframe tbody tr th {\n        vertical-align: top;\n    }\n\n    .dataframe thead th {\n        text-align: right;\n    }\n</style>\n<table border=\"1\" class=\"dataframe\">\n  <thead>\n    <tr style=\"text-align: right;\">\n      <th></th>\n      <th>곡명</th>\n      <th>가수</th>\n      <th>좋아요</th>\n    </tr>\n  </thead>\n  <tbody>\n    <tr>\n      <th>0</th>\n      <td>봄날</td>\n      <td>방탄소년단</td>\n      <td>555843</td>\n    </tr>\n    <tr>\n      <th>1</th>\n      <td>작은 것들을 위한 시 (Boy With Luv) (Feat. Halsey)</td>\n      <td>방탄소년단</td>\n      <td>431668</td>\n    </tr>\n    <tr>\n      <th>2</th>\n      <td>Dynamite</td>\n      <td>방탄소년단</td>\n      <td>428692</td>\n    </tr>\n    <tr>\n      <th>3</th>\n      <td>모든 날, 모든 순간 (Every day, Every Moment)</td>\n      <td>폴킴</td>\n      <td>385891</td>\n    </tr>\n    <tr>\n      <th>4</th>\n      <td>어떻게 이별까지 사랑하겠어, 널 사랑하는 거지</td>\n      <td>AKMU (악뮤)</td>\n      <td>373840</td>\n    </tr>\n    <tr>\n      <th>5</th>\n      <td>Blueming</td>\n      <td>아이유</td>\n      <td>328419</td>\n    </tr>\n    <tr>\n      <th>6</th>\n      <td>Celebrity</td>\n      <td>아이유</td>\n      <td>312340</td>\n    </tr>\n    <tr>\n      <th>7</th>\n      <td>롤린 (Rollin')</td>\n      <td>브레이브걸스</td>\n      <td>290787</td>\n    </tr>\n    <tr>\n      <th>8</th>\n      <td>Butter</td>\n      <td>방탄소년단</td>\n      <td>263255</td>\n    </tr>\n    <tr>\n      <th>9</th>\n      <td>신호등</td>\n      <td>이무진</td>\n      <td>256451</td>\n    </tr>\n    <tr>\n      <th>10</th>\n      <td>오늘도 빛나는 너에게 (To You My Light) (Feat.이라온)</td>\n      <td>마크툽 (MAKTUB)</td>\n      <td>255436</td>\n    </tr>\n    <tr>\n      <th>11</th>\n      <td>Next Level</td>\n      <td>aespa</td>\n      <td>235360</td>\n    </tr>\n    <tr>\n      <th>12</th>\n      <td>Life Goes On</td>\n      <td>방탄소년단</td>\n      <td>233287</td>\n    </tr>\n    <tr>\n      <th>13</th>\n      <td>라일락</td>\n      <td>아이유</td>\n      <td>230177</td>\n    </tr>\n    <tr>\n      <th>14</th>\n      <td>취기를 빌려 (취향저격 그녀 X 산들)</td>\n      <td>산들</td>\n      <td>209290</td>\n    </tr>\n    <tr>\n      <th>15</th>\n      <td>STAY</td>\n      <td>The Kid LAROI</td>\n      <td>202790</td>\n    </tr>\n    <tr>\n      <th>16</th>\n      <td>Permission to Dance</td>\n      <td>방탄소년단</td>\n      <td>195014</td>\n    </tr>\n    <tr>\n      <th>17</th>\n      <td>Savage Love (Laxed - Siren Beat) (BTS Remix)</td>\n      <td>Jawsh 685</td>\n      <td>192769</td>\n    </tr>\n    <tr>\n      <th>18</th>\n      <td>너의 모든 순간</td>\n      <td>성시경</td>\n      <td>189486</td>\n    </tr>\n    <tr>\n      <th>19</th>\n      <td>회전목마 (Feat. Zion.T, 원슈타인) (Prod. Slom)</td>\n      <td>sokodomo</td>\n      <td>186557</td>\n    </tr>\n    <tr>\n      <th>20</th>\n      <td>내 손을 잡아</td>\n      <td>아이유</td>\n      <td>180666</td>\n    </tr>\n    <tr>\n      <th>21</th>\n      <td>밤하늘의 별을(2020)</td>\n      <td>경서</td>\n      <td>179973</td>\n    </tr>\n    <tr>\n      <th>22</th>\n      <td>strawberry moon</td>\n      <td>아이유</td>\n      <td>179840</td>\n    </tr>\n    <tr>\n      <th>23</th>\n      <td>OHAYO MY NIGHT</td>\n      <td>디핵 (D-Hack)</td>\n      <td>172686</td>\n    </tr>\n    <tr>\n      <th>24</th>\n      <td>바라만 본다</td>\n      <td>MSG워너비(M.O.M)</td>\n      <td>168910</td>\n    </tr>\n    <tr>\n      <th>25</th>\n      <td>헤픈 우연</td>\n      <td>헤이즈 (Heize)</td>\n      <td>168424</td>\n    </tr>\n    <tr>\n      <th>26</th>\n      <td>낙하 (with 아이유)</td>\n      <td>AKMU (악뮤)</td>\n      <td>164606</td>\n    </tr>\n    <tr>\n      <th>27</th>\n      <td>리무진 (Feat. MINO) (Prod. GRAY)</td>\n      <td>BE'O (비오)</td>\n      <td>162366</td>\n    </tr>\n    <tr>\n      <th>28</th>\n      <td>Weekend</td>\n      <td>태연 (TAEYEON)</td>\n      <td>159195</td>\n    </tr>\n    <tr>\n      <th>29</th>\n      <td>Dun Dun Dance</td>\n      <td>오마이걸 (OH MY GIRL)</td>\n      <td>151767</td>\n    </tr>\n    <tr>\n      <th>30</th>\n      <td>My Universe</td>\n      <td>Coldplay</td>\n      <td>147798</td>\n    </tr>\n    <tr>\n      <th>31</th>\n      <td>Counting Stars (Feat. Beenzino)</td>\n      <td>BE'O (비오)</td>\n      <td>147753</td>\n    </tr>\n    <tr>\n      <th>32</th>\n      <td>이제 나만 믿어요</td>\n      <td>임영웅</td>\n      <td>146420</td>\n    </tr>\n    <tr>\n      <th>33</th>\n      <td>Savage</td>\n      <td>aespa</td>\n      <td>139539</td>\n    </tr>\n    <tr>\n      <th>34</th>\n      <td>사이렌 Remix (Feat. UNEDUCATED KID, Paul Blanco)</td>\n      <td>호미들</td>\n      <td>130256</td>\n    </tr>\n    <tr>\n      <th>35</th>\n      <td>멜로디</td>\n      <td>ASH ISLAND</td>\n      <td>125376</td>\n    </tr>\n    <tr>\n      <th>36</th>\n      <td>사랑은 늘 도망가</td>\n      <td>임영웅</td>\n      <td>123990</td>\n    </tr>\n  </tbody>\n</table>\n</div>"
     },
     "execution_count": 100,
     "metadata": {},
     "output_type": "execute_result"
    }
   ],
   "source": [
    "#좋아요 건수가 평균보다 높은 행과 곡명,가수,좋아요 열을 선택하고 좋아요 건수가 높은 순서대로 정렬하고, index를 reset 하기\n",
    "song_df.loc[song_df['좋아요'] >= like_mean,['곡명','가수','좋아요']].sort_values(by='좋아요',ascending=False).reset_index(drop=True)"
   ],
   "metadata": {
    "collapsed": false,
    "pycharm": {
     "name": "#%%\n"
    }
   }
  }
 ],
 "metadata": {
  "kernelspec": {
   "name": "pycharm-51793e15",
   "language": "python",
   "display_name": "PyCharm (webscrap_source)"
  },
  "language_info": {
   "codemirror_mode": {
    "name": "ipython",
    "version": 2
   },
   "file_extension": ".py",
   "mimetype": "text/x-python",
   "name": "python",
   "nbconvert_exporter": "python",
   "pygments_lexer": "ipython2",
   "version": "2.7.6"
  }
 },
 "nbformat": 4,
 "nbformat_minor": 0
}