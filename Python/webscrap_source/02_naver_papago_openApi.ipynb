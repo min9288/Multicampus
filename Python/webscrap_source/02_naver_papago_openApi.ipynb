{
 "cells": [
  {
   "cell_type": "markdown",
   "id": "242d3de1-3291-4b2e-8ab4-36ae54c6a670",
   "metadata": {},
   "source": [
    "### Urllib을 사용한 Papago 번역 API 예제"
   ]
  },
  {
   "cell_type": "code",
   "execution_count": 1,
   "id": "8521a7fe-f963-41dc-8b2e-9fc2a400ed8a",
   "metadata": {},
   "outputs": [
    {
     "name": "stdout",
     "output_type": "stream",
     "text": [
      "{\"message\":{\"@type\":\"response\",\"@service\":\"naverservice.nmt.proxy\",\"@version\":\"1.0.0\",\"result\":{\"srcLangType\":\"en\",\"tarLangType\":\"ko\",\"translatedText\":\"어제는 내 모든 고민이 너무 멀리 있는 것 같았어.\",\"engineType\":\"N2MT\",\"pivot\":null}}}\n"
     ]
    }
   ],
   "source": [
    "import os\n",
    "import sys\n",
    "import urllib.request\n",
    "\n",
    "client_id = \"stw5fZx5eucmFwssLSEJ\" # 개발자센터에서 발급받은 Client ID 값\n",
    "client_secret = \"0kTHnH8nDr\" # 개발자센터에서 발급받은 Client Secret 값\n",
    "encText = urllib.parse.quote(\"Yesterday all my troubles seemed so far away.\")\n",
    "data = \"source=en&target=ko&text=\" + encText\n",
    "url = \"https://openapi.naver.com/v1/papago/n2mt\"\n",
    "\n",
    "request = urllib.request.Request(url)\n",
    "request.add_header(\"X-Naver-Client-Id\",client_id)\n",
    "request.add_header(\"X-Naver-Client-Secret\",client_secret)\n",
    "response = urllib.request.urlopen(request, data=data.encode(\"utf-8\"))\n",
    "rescode = response.getcode()\n",
    "if(rescode==200):\n",
    "    response_body = response.read()\n",
    "    print(response_body.decode('utf-8'))\n",
    "else:\n",
    "    print(\"Error Code:\" + rescode)"
   ]
  },
  {
   "cell_type": "markdown",
   "id": "113642d8-c93c-4ae8-bab5-4315def0658c",
   "metadata": {},
   "source": [
    "### Requests를 사용한 Papago 번역 API 예제"
   ]
  },
  {
   "cell_type": "code",
   "execution_count": 12,
   "id": "9ff6340f-12b6-4a54-a6ce-9f544367feae",
   "metadata": {},
   "outputs": [
    {
     "name": "stdout",
     "output_type": "stream",
     "text": [
      "200 True\n",
      "<class 'dict'> {'message': {'@type': 'response', '@service': 'naverservice.nmt.proxy', '@version': '1.0.0', 'result': {'srcLangType': 'en', 'tarLangType': 'ja', 'translatedText': '昨日私のすべての問題は遠く離れているようだった.', 'engineType': 'N2MT', 'pivot': None}}}\n",
      "昨日私のすべての問題は遠く離れているようだった.\n"
     ]
    }
   ],
   "source": [
    "import requests\n",
    "\n",
    "client_id = \"stw5fZx5eucmFwssLSEJ\" # 개발자센터에서 발급받은 Client ID 값\n",
    "client_secret = \"0kTHnH8nDr\" # 개발자센터에서 발급받은 Client Secret 값\n",
    "url = \"https://openapi.naver.com/v1/papago/n2mt\"\n",
    "source_txt = \"Yesterday all my troubles seemed so far away.\"\n",
    "\n",
    "#요청 헤더\n",
    "req_header = {\"X-Naver-Client-Id\":client_id, \"X-Naver-Client-Secret\":client_secret}\n",
    "#요청 파라미터\n",
    "req_param = {\"source\":\"en\", \"target\":\"ja\", \"text\":source_txt}\n",
    "\n",
    "res = requests.post(url, headers=req_header,data=req_param)\n",
    "print(res.status_code, res.ok)\n",
    "if res.ok:\n",
    "    #print(type(res.text), res.text)\n",
    "    print(type(res.json()), res.json())\n",
    "    trans_txt = res.json()['message']['result']['translatedText']\n",
    "    print(trans_txt)\n",
    "else:\n",
    "    print('Error Code ', res.status_code)"
   ]
  },
  {
   "cell_type": "code",
   "execution_count": 2,
   "id": "a2007462-3c22-4a30-a490-26299d574e56",
   "metadata": {},
   "outputs": [],
   "source": [
    "# 번역을 하는 함수 정의하기\n",
    "# source_txt, source, target 를 입력으로 받기\n",
    "def translate(source_txt, source_lang, target_lang):\n",
    "    print(source_txt, source_lang, target_lang)\n",
    "    \n",
    "    import requests\n",
    "    client_id = \"stw5fZx5eucmFwssLSEJ\" # 개발자센터에서 발급받은 Client ID 값\n",
    "    client_secret = \"0kTHnH8nDr\" # 개발자센터에서 발급받은 Client Secret 값\n",
    "    urls = \"https://openapi.naver.com/v1/papago/n2mt\"\n",
    "    #요청 헤더\n",
    "    req_header = {\"X-Naver-Client-Id\":client_id, \"X-Naver-Client-Secret\":client_secret}\n",
    "    #요청 파라미터\n",
    "    req_param = {\"source\":source_lang, \"target\":target_lang, \"text\":source_txt}\n",
    "    print(req_param)\n",
    "    \n",
    "    #POST방식으로 요청을 보내기\n",
    "    res = requests.post(urls, headers=req_header,data=req_param)\n",
    "    print(res.status_code, res.ok)\n",
    "    #if res.status_code == 200:\n",
    "    if res.ok:\n",
    "        print('aaa')\n",
    "        print(type(res.json()))\n",
    "        # print(res.json())\n",
    "        trans_txt = res.json()['message']['result']['translatedText']\n",
    "        print(trans_txt)"
   ]
  },
  {
   "cell_type": "code",
   "execution_count": 4,
   "id": "7d5b4645-b0c0-4532-a4d8-7de77021ce5f",
   "metadata": {},
   "outputs": [
    {
     "name": "stdout",
     "output_type": "stream",
     "text": [
      "안녕하세요. ko ja\n",
      "{'source': 'ko', 'target': 'ja', 'text': '안녕하세요.'}\n",
      "200 True\n",
      "aaa\n",
      "<class 'dict'>\n",
      "おはようございます\n"
     ]
    }
   ],
   "source": [
    "translate('안녕하세요.','ko','ja')"
   ]
  },
  {
   "cell_type": "code",
   "execution_count": 10,
   "outputs": [
    {
     "name": "stdout",
     "output_type": "stream",
     "text": [
      "어제는 내 모든 고민이 너무 멀리 있는 것 같았어.\n",
      "이제 그들은 여기 머물려고 온 것처럼 보인다.\n",
      "오, 나는 어제를 다시 그리게 돼.\n",
      "갑자기 나는 예전의 절반도 되지 않았다.\n",
      "그림자가 드리워져 있어요.\n",
      "아, 어제가 갑자기 왔네요.\n",
      "왜 그녀가 가야만 했는지, 모르겠어요, 그녀는 말하려 하지 않았어요.\n",
      "내가 잘못 말했는데, 어제가 그리워요.\n",
      "어제는 사랑이 정말 쉬운 게임이었다.\n",
      "이제 숨을 곳이 필요해\n",
      "오, 나는 어제를 다시 그리게 돼.\n",
      "왜 그녀가 가야만 했는지, 모르겠어요, 그녀는 말하려 하지 않았어요.\n",
      "내가 잘못 말했는데, 어제가 그리워요.\n",
      "어제는 사랑이 정말 쉬운 게임이었다.\n",
      "이제 숨을 곳이 필요해\n",
      "오, 나는 어제를 다시 그리게 돼.\n",
      "mm mm mm mm mm mm\n",
      "['Yesterday all my troubles seemed so far away.\\n', '어제는 내 모든 고민이 너무 멀리 있는 것 같았어.\\n', \"Now it looks as though they're here to stay.\\n\", '이제 그들은 여기 머물려고 온 것처럼 보인다.\\n', 'Oh, I believe in yesterday.\\n', '오, 나는 어제를 다시 그리게 돼.\\n', \"Suddenly I'm not half the man I used to be.\\n\", '갑자기 나는 예전의 절반도 되지 않았다.\\n', \"There's a shadow hanging over me.\\n\", '그림자가 드리워져 있어요.\\n', 'Oh, yesterday came suddenly.\\n', '아, 어제가 갑자기 왔네요.\\n', \"Why she had to go, I don't know, she wouldn't say.\\n\", '왜 그녀가 가야만 했는지, 모르겠어요, 그녀는 말하려 하지 않았어요.\\n', 'I said something wrong, now I long for yesterday.\\n', '내가 잘못 말했는데, 어제가 그리워요.\\n', 'Yesterday love was such an easy game to play.\\n', '어제는 사랑이 정말 쉬운 게임이었다.\\n', 'Now I need a place to hide away.\\n', '이제 숨을 곳이 필요해\\n', 'Oh, I believe in yesterday.\\n', '오, 나는 어제를 다시 그리게 돼.\\n', \"Why she had to go, I don't know, she wouldn't say.\\n\", '왜 그녀가 가야만 했는지, 모르겠어요, 그녀는 말하려 하지 않았어요.\\n', 'I said something wrong, now I long for yesterday.\\n', '내가 잘못 말했는데, 어제가 그리워요.\\n', 'Yesterday love was such an easy game to play.\\n', '어제는 사랑이 정말 쉬운 게임이었다.\\n', 'Now I need a place to hide away.\\n', '이제 숨을 곳이 필요해\\n', 'Oh, I believe in yesterday.\\n', '오, 나는 어제를 다시 그리게 돼.\\n', 'Mm mm mm mm mm mm mm\\n', 'mm mm mm mm mm mm\\n']\n",
      "===> End\n"
     ]
    }
   ],
   "source": [
    "from requests import Request, Session\n",
    "\n",
    "client_id = \"stw5fZx5eucmFwssLSEJ\" # 개발자센터에서 발급받은 Client ID 값\n",
    "client_secret = \"0kTHnH8nDr\" # 개발자센터에서 발급받은 Client Secret 값\n",
    "urls = \"https://openapi.naver.com/v1/papago/n2mt\"\n",
    "\n",
    "#요청 헤더\n",
    "req_header = {\"X-Naver-Client-Id\":client_id, \"X-Naver-Client-Secret\":client_secret}\n",
    "\n",
    "def get_text_file():\n",
    "    with open('data/yesterday.txt','r',encoding='utf-8') as file:\n",
    "        contents = file.read()\n",
    "        result_list = contents.split(\"\\n\")\n",
    "        return result_list\n",
    "\n",
    "def save_to_file(my_list):\n",
    "    with open('data/yesterday_trans.txt','w',encoding='utf-8') as file:\n",
    "        file.writelines(my_list)\n",
    "\n",
    "def main():\n",
    "    # Session 객체생성\n",
    "    session = Session()\n",
    "    source_list = get_text_file()\n",
    "    # list comprehension 으로 empty string 문자열을 제거하기\n",
    "    source_list = [source for source in source_list if len(source) != 0]\n",
    "    #요청 파라미터\n",
    "    req_param = {\"source\":\"en\", \"target\":\"ko\"}\n",
    "\n",
    "    result_list = []\n",
    "    for source_txt in source_list:\n",
    "        req_param['text'] = source_txt\n",
    "\n",
    "        req = Request('POST',urls, headers=req_header, data=req_param)\n",
    "        prepepped = req.prepare()\n",
    "\n",
    "        res = session.send(prepepped)\n",
    "        #print(type(res), res.status_code)\n",
    "        if res.ok:\n",
    "            try:\n",
    "                trans_txt = res.json()['message']['result']['translatedText']\n",
    "                print(trans_txt)\n",
    "                result_list.append(source_txt + \"\\n\")\n",
    "                result_list.append(trans_txt + \"\\n\")\n",
    "            except Exception as ex:\n",
    "                print('Error 발생', res.status_code, ex)\n",
    "                break\n",
    "    print(result_list)\n",
    "    save_to_file(result_list)\n",
    "\n",
    "    print('===> End')\n",
    "\n",
    "main()"
   ],
   "metadata": {
    "collapsed": false,
    "pycharm": {
     "name": "#%%\n"
    }
   }
  },
  {
   "cell_type": "code",
   "source": [],
   "metadata": {
    "collapsed": false,
    "pycharm": {
     "name": "#%%\n"
    }
   },
   "execution_count": null,
   "outputs": []
  }
 ],
 "metadata": {
  "kernelspec": {
   "name": "pycharm-96fd260c",
   "language": "python",
   "display_name": "PyCharm (webscrap_source)"
  },
  "language_info": {
   "codemirror_mode": {
    "name": "ipython",
    "version": 3
   },
   "file_extension": ".py",
   "mimetype": "text/x-python",
   "name": "python",
   "nbconvert_exporter": "python",
   "pygments_lexer": "ipython3",
   "version": "3.9.7"
  }
 },
 "nbformat": 4,
 "nbformat_minor": 5
}