{
 "cells": [
  {
   "cell_type": "code",
   "execution_count": null,
   "id": "e1fd93d9-70ce-499f-a659-9d90e28a0a93",
   "metadata": {},
   "outputs": [],
   "source": [
    "### Urllib을 사용한 Papago 번역 API 예제"
   ]
  },
  {
   "cell_type": "code",
   "execution_count": 5,
   "id": "37fbf9f2-ff49-44b4-89ff-2bc748f2d5ef",
   "metadata": {},
   "outputs": [
    {
     "name": "stdout",
     "output_type": "stream",
     "text": [
      "{\"message\":{\"@type\":\"response\",\"@service\":\"naverservice.nmt.proxy\",\"@version\":\"1.0.0\",\"result\":{\"srcLangType\":\"en\",\"tarLangType\":\"ko\",\"translatedText\":\"어제는 내 모든 고민이 너무 멀리 있는 것 같았어.\",\"engineType\":\"N2MT\",\"pivot\":null}}}\n"
     ]
    }
   ],
   "source": [
    "import os\n",
    "import sys\n",
    "import urllib.request\n",
    "\n",
    "client_id = \"kkSTDddgYJG94PPnhqxw\" # 개발자센터에서 발급받은 Client ID 값\n",
    "client_secret = \"NwezpLEUAc\" # 개발자센터에서 발급받은 Client Secret 값\n",
    "encText = urllib.parse.quote(\"Yesterday all my troubles seemed so far away.\")\n",
    "data = \"source=en&target=ko&text=\" + encText\n",
    "url = \"https://openapi.naver.com/v1/papago/n2mt\"\n",
    "\n",
    "request = urllib.request.Request(url)\n",
    "request.add_header(\"X-Naver-Client-Id\",client_id)\n",
    "request.add_header(\"X-Naver-Client-Secret\",client_secret)\n",
    "response = urllib.request.urlopen(request, data=data.encode(\"utf-8\"))\n",
    "rescode = response.getcode()\n",
    "if(rescode==200):\n",
    "    response_body = response.read()\n",
    "    print(response_body.decode('utf-8'))\n",
    "else:\n",
    "    print(\"Error Code:\" + rescode)"
   ]
  },
  {
   "cell_type": "markdown",
   "id": "c746df5f-8298-4ab1-8617-18cc30e95c0f",
   "metadata": {},
   "source": [
    "### Requests를 사용한 Papago 번역 API 예제"
   ]
  },
  {
   "cell_type": "code",
   "execution_count": 16,
   "id": "f6a0adf0-f6d5-43e7-be37-4ecb8d42baf9",
   "metadata": {},
   "outputs": [
    {
     "name": "stdout",
     "output_type": "stream",
     "text": [
      "어제는 내 모든 고민이 너무 멀리 있는 것 같았어.\n"
     ]
    }
   ],
   "source": [
    "import requests\n",
    "\n",
    "client_id = \"kkSTDddgYJG94PPnhqxw\" # 개발자센터에서 발급받은 Client ID 값\n",
    "client_secret = \"NwezpLEUAc\" # 개발자센터에서 발급받은 Client Secret 값 \n",
    "url = \"https://openapi.naver.com/v1/papago/n2mt\"\n",
    "source_txt = \"Yesterday all my troubles seemed so far away.\"\n",
    "\n",
    "# 요청 헤더\n",
    "req_header = {\"X-Naver-Client-Id\" : client_id, \"X-Naver-Client-Secret\" : client_secret}\n",
    "# 요청 파라미터\n",
    "req_param = {\"source\" : \"en\", \"target\" : \"ko\", \"text\" : source_txt}\n",
    "\n",
    "res = requests.post(url, headers = req_header, data = req_param)\n",
    "# print(res.status_code, res.ok)\n",
    "if res.ok:\n",
    "    # print(type(res.text), res.text)\n",
    "    # print(type(res.json()), res.json())\n",
    "    trans_txt = res.json()['message']['result']['translatedText']\n",
    "    print(trans_txt)\n",
    "else:\n",
    "    print('Error Code ', res.status_code)"
   ]
  }
 ],
 "metadata": {
  "kernelspec": {
   "display_name": "Python 3 (ipykernel)",
   "language": "python",
   "name": "python3"
  },
  "language_info": {
   "codemirror_mode": {
    "name": "ipython",
    "version": 3
   },
   "file_extension": ".py",
   "mimetype": "text/x-python",
   "name": "python",
   "nbconvert_exporter": "python",
   "pygments_lexer": "ipython3",
   "version": "3.9.7"
  }
 },
 "nbformat": 4,
 "nbformat_minor": 5
}
