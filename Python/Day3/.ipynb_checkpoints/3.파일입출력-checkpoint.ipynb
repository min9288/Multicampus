{
 "cells": [
  {
   "cell_type": "code",
   "execution_count": 2,
   "id": "6991a739",
   "metadata": {},
   "outputs": [
    {
     "name": "stdout",
     "output_type": "stream",
     "text": [
      "테스트다요\n"
     ]
    }
   ],
   "source": [
    "f = open(\"memo.txt\", \"r\", encoding='utf-8')\n",
    "line = f.readline()\n",
    "print(line)\n",
    "f.close()"
   ]
  },
  {
   "cell_type": "code",
   "execution_count": 7,
   "id": "7248be53",
   "metadata": {},
   "outputs": [
    {
     "data": {
      "text/plain": [
       "['테스트다요\\\\n\\n', 'ㄴㅇㅁㄴㅇㅁㄴㅇ\\\\n\\n', 'ㅁㄴㅇ\\\\n\\n', 'ㄴㅁㅇㅁㄴㅇ']"
      ]
     },
     "execution_count": 7,
     "metadata": {},
     "output_type": "execute_result"
    }
   ],
   "source": [
    "f = open(\"memo.txt\", \"r\", encoding='utf-8')\n",
    "line = f.readlines()\n",
    "f.close()\n",
    "line"
   ]
  },
  {
   "cell_type": "code",
   "execution_count": 8,
   "id": "45f3b383",
   "metadata": {
    "scrolled": true
   },
   "outputs": [
    {
     "data": {
      "text/plain": [
       "['테스트다요\\n', 'ㄴㅇㅁㄴㅇㅁㄴㅇ\\n', 'ㅁㄴㅇ\\n', 'ㄴㅁㅇㅁㄴㅇ']"
      ]
     },
     "execution_count": 8,
     "metadata": {},
     "output_type": "execute_result"
    }
   ],
   "source": [
    "f = open(\"memo.txt\", \"r\", encoding='utf-8')\n",
    "txt = []\n",
    "while True:\n",
    "    line = f.readline()\n",
    "    if not line:\n",
    "        break\n",
    "    txt.append(line)\n",
    "f.close()\n",
    "txt"
   ]
  },
  {
   "cell_type": "code",
   "execution_count": 12,
   "id": "731df8e3",
   "metadata": {},
   "outputs": [
    {
     "data": {
      "text/plain": [
       "(str, '테')"
      ]
     },
     "execution_count": 12,
     "metadata": {},
     "output_type": "execute_result"
    }
   ],
   "source": [
    "f = open(\"memo.txt\", \"r\", encoding='utf-8')\n",
    "lines = f.read()\n",
    "f.close()\n",
    "type(lines),lines[0]\n"
   ]
  },
  {
   "cell_type": "code",
   "execution_count": 11,
   "id": "2729e801",
   "metadata": {},
   "outputs": [
    {
     "data": {
      "text/plain": [
       "(list, '테스트다요\\n')"
      ]
     },
     "execution_count": 11,
     "metadata": {},
     "output_type": "execute_result"
    }
   ],
   "source": [
    "f = open(\"memo.txt\", \"r\", encoding='utf-8')\n",
    "lines = f.readlines()\n",
    "f.close()\n",
    "type(lines),lines[0]\n"
   ]
  },
  {
   "cell_type": "code",
   "execution_count": 13,
   "id": "96421992",
   "metadata": {},
   "outputs": [
    {
     "data": {
      "text/plain": [
       "'테스트다요\\nㄴㅇㅁㄴㅇㅁㄴㅇ\\nㅁㄴㅇ\\nㄴㅁㅇㅁㄴㅇ'"
      ]
     },
     "execution_count": 13,
     "metadata": {},
     "output_type": "execute_result"
    }
   ],
   "source": [
    "f = open(\"memo.txt\", \"r\", encoding='utf-8')\n",
    "lines = f.read()\n",
    "f.close()\n",
    "line = lines.strip()\n",
    "line"
   ]
  },
  {
   "cell_type": "code",
   "execution_count": 15,
   "id": "b7ad5171",
   "metadata": {},
   "outputs": [
    {
     "ename": "AttributeError",
     "evalue": "'list' object has no attribute 'strip'",
     "output_type": "error",
     "traceback": [
      "\u001b[1;31m---------------------------------------------------------------------------\u001b[0m",
      "\u001b[1;31mAttributeError\u001b[0m                            Traceback (most recent call last)",
      "Input \u001b[1;32mIn [15]\u001b[0m, in \u001b[0;36m<module>\u001b[1;34m\u001b[0m\n\u001b[0;32m      2\u001b[0m lines \u001b[38;5;241m=\u001b[39m f\u001b[38;5;241m.\u001b[39mreadlines()\n\u001b[0;32m      3\u001b[0m f\u001b[38;5;241m.\u001b[39mclose()\n\u001b[1;32m----> 4\u001b[0m lines \u001b[38;5;241m=\u001b[39m \u001b[43mlines\u001b[49m\u001b[38;5;241;43m.\u001b[39;49m\u001b[43mstrip\u001b[49m()\n\u001b[0;32m      5\u001b[0m lines\n",
      "\u001b[1;31mAttributeError\u001b[0m: 'list' object has no attribute 'strip'"
     ]
    }
   ],
   "source": [
    "f = open(\"memo.txt\", \"r\", encoding='utf-8')\n",
    "lines = f.readlines()\n",
    "f.close()\n",
    "lines = lines.strip()\n",
    "lines"
   ]
  }
 ],
 "metadata": {
  "kernelspec": {
   "display_name": "Python 3 (ipykernel)",
   "language": "python",
   "name": "python3"
  },
  "language_info": {
   "codemirror_mode": {
    "name": "ipython",
    "version": 3
   },
   "file_extension": ".py",
   "mimetype": "text/x-python",
   "name": "python",
   "nbconvert_exporter": "python",
   "pygments_lexer": "ipython3",
   "version": "3.9.5"
  }
 },
 "nbformat": 4,
 "nbformat_minor": 5
}
