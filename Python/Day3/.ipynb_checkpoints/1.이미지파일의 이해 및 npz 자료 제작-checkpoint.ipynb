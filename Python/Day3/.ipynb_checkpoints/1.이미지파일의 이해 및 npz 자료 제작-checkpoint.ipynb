{
 "cells": [
  {
   "cell_type": "markdown",
   "id": "92a79821",
   "metadata": {},
   "source": [
    "### [Part1] 이미지 기본 작업\n",
    "**1-1. glob 명령에 대해 검색 정리**"
   ]
  },
  {
   "cell_type": "code",
   "execution_count": 1,
   "id": "ae1ed684",
   "metadata": {},
   "outputs": [
    {
     "name": "stdout",
     "output_type": "stream",
     "text": [
      "['1.이미지파일의 이해 및 npz 자료 제작.ipynb']\n"
     ]
    }
   ],
   "source": [
    "# 파이썬에서 이미지 자료는 PIL 또는 openCV를 이용하여 작업함.\n",
    "import matplotlib.pyplot as plt\n",
    "from PIL import Image\n",
    "from glob import glob   # https://wikidocs.net/83\n",
    "\n",
    "\n",
    "find=glob('*')  # ['강아지','고양이']\n",
    "print(find)"
   ]
  },
  {
   "cell_type": "markdown",
   "id": "425057b8",
   "metadata": {},
   "source": [
    "**1-2. glob & for 를 이용한 구문 이해**"
   ]
  },
  {
   "cell_type": "code",
   "execution_count": null,
   "id": "5856e871",
   "metadata": {},
   "outputs": [],
   "source": [
    "for findName in find:\n",
    "  fileList=glob('./'+ findName +'/*.jpg')\n",
    "  \n",
    "  for fileName in fileList:     # fileList에 있는 모든 자료를 한개씩 fileName에 주자\n",
    "    print(fileName)\n",
    "    img=Image.open(fileName)  # 사진 열기\n",
    "    img=img.resize((50,50))\n",
    "    print(img.size)             # 사진의 크기를 확인\n",
    "    plt.imshow(img)\n",
    "    plt.show()                  # 이내용없으면 마지막 한개만 나옴"
   ]
  },
  {
   "cell_type": "markdown",
   "id": "4e2da325",
   "metadata": {},
   "source": [
    "### [Part2] 이미지 배열의 이해\n",
    "- 배열 및 사진작업.html 참고"
   ]
  },
  {
   "cell_type": "code",
   "execution_count": 2,
   "id": "6122d060",
   "metadata": {},
   "outputs": [
    {
     "name": "stdout",
     "output_type": "stream",
     "text": [
      "(2, 3)\n"
     ]
    },
    {
     "data": {
      "text/plain": [
       "<matplotlib.image.AxesImage at 0x190883026a0>"
      ]
     },
     "execution_count": 2,
     "metadata": {},
     "output_type": "execute_result"
    },
    {
     "data": {
      "image/png": "[encoded data removed]",
      "text/plain": [
       "<Figure size 432x288 with 1 Axes>"
      ]
     },
     "metadata": {
      "needs_background": "light"
     },
     "output_type": "display_data"
    }
   ],
   "source": [
    "# 흑백이미지 한장\n",
    "import numpy as np\n",
    "tmp=[[0,255,0],\n",
    "     [255,0,255]]\n",
    "print(np.shape(tmp))   # 출력물은 (3,)  이미지는 최소한 행과열(가로세로를 갖고있어야함)\n",
    "plt.imshow(tmp,cmap='gray')"
   ]
  },
  {
   "cell_type": "code",
   "execution_count": 3,
   "id": "bd327108",
   "metadata": {
    "scrolled": true
   },
   "outputs": [
    {
     "name": "stdout",
     "output_type": "stream",
     "text": [
      "(2, 2, 3)\n"
     ]
    },
    {
     "data": {
      "text/plain": [
       "<matplotlib.image.AxesImage at 0x1908840b070>"
      ]
     },
     "execution_count": 3,
     "metadata": {},
     "output_type": "execute_result"
    },
    {
     "data": {
      "image/png": "[encoded data removed]",
      "text/plain": [
       "<Figure size 432x288 with 1 Axes>"
      ]
     },
     "metadata": {
      "needs_background": "light"
     },
     "output_type": "display_data"
    }
   ],
   "source": [
    "# 흑백이미지 두장\n",
    "import numpy as np\n",
    "tmp=[\n",
    "     [[0,255,0],[255,0,255]],     # 첫번째사진\n",
    "     [[0,0,255],[255,0,255]]     # 두번째 사진\n",
    "]\n",
    "\n",
    "print(np.shape(tmp))   # 출력물은 (3,)  이미지는 최소한 행과열(가로세로를 갖고있어야함)\n",
    "plt.imshow(tmp[0],cmap='gray')"
   ]
  },
  {
   "cell_type": "code",
   "execution_count": 4,
   "id": "4bb779ce",
   "metadata": {},
   "outputs": [
    {
     "name": "stdout",
     "output_type": "stream",
     "text": [
      "(2, 3, 3)\n"
     ]
    },
    {
     "data": {
      "text/plain": [
       "<matplotlib.image.AxesImage at 0x19088470b20>"
      ]
     },
     "execution_count": 4,
     "metadata": {},
     "output_type": "execute_result"
    },
    {
     "data": {
      "image/png": "[encoded data removed]",
      "text/plain": [
       "<Figure size 432x288 with 1 Axes>"
      ]
     },
     "metadata": {
      "needs_background": "light"
     },
     "output_type": "display_data"
    }
   ],
   "source": [
    "# 컬러이미지 1장\n",
    "\n",
    "tmp=[ [[255,0,0],[0,255,0],[0,0,255]],     #1번행\n",
    "[[255,255,0],[255,255,255],[0,0,0]] ]      #2번행\n",
    "\n",
    "print(np.shape(tmp))\n",
    "plt.imshow(tmp)"
   ]
  },
  {
   "cell_type": "code",
   "execution_count": 5,
   "id": "30cbb57a",
   "metadata": {
    "scrolled": true
   },
   "outputs": [
    {
     "name": "stdout",
     "output_type": "stream",
     "text": [
      "(2, 2, 3, 3)\n"
     ]
    },
    {
     "data": {
      "text/plain": [
       "<matplotlib.image.AxesImage at 0x190884d9400>"
      ]
     },
     "execution_count": 5,
     "metadata": {},
     "output_type": "execute_result"
    },
    {
     "data": {
      "image/png": "[encoded data removed]",
      "text/plain": [
       "<Figure size 432x288 with 1 Axes>"
      ]
     },
     "metadata": {
      "needs_background": "light"
     },
     "output_type": "display_data"
    }
   ],
   "source": [
    "# 컬러이미지 2장\n",
    "\n",
    "tmp=[\n",
    "[ [[255,0,0],[0,255,0],[0,0,255]],     #1번사진의 1번행\n",
    "[[255,255,0],[255,255,255],[0,0,0]] ] ,#1번사진의 2번행\n",
    "\n",
    "[ [[0,0,0],[0,255,0],[0,0,255]],      #2번사진의 1번행\n",
    "[[255,255,0],[255,255,255],[0,0,0]] ]  #2번사진의 2번행\n",
    "\n",
    "]\n",
    "     #2번행\n",
    "\n",
    "print(np.shape(tmp))\n",
    "plt.imshow(tmp[0])"
   ]
  },
  {
   "cell_type": "markdown",
   "id": "2660db99",
   "metadata": {},
   "source": [
    "### [Part2] 이미지 배열의 이해\n",
    "- 배열형식의 이미지 파일 X변수와 Y레이블값으로 저장\n",
    "\n",
    "**3-1. 레이블 제작에 대하여서 학습**"
   ]
  },
  {
   "cell_type": "code",
   "execution_count": 9,
   "id": "edb51530",
   "metadata": {},
   "outputs": [
    {
     "name": "stdout",
     "output_type": "stream",
     "text": [
      "(0,)\n",
      "(0,)\n"
     ]
    }
   ],
   "source": [
    "from PIL import Image\n",
    "from glob import glob   # https://wikidocs.net/83\n",
    "import numpy as np\n",
    "\n",
    "folderList=['강아지','고양이']  # 사진이 들어가 있는 폴더명... # 직접명시하지 않아도 됨.\n",
    "folderList=['pic1','pic2','pic3','pic4'] # 본인폴더자료로 작업하세요...\n",
    "Xdata=[] ; Ydata=[]\n",
    "\n",
    "folderNumber=0\n",
    "for folderName in folderList:\n",
    "    fileList=glob('./'+ folderName +'/*')\n",
    "    \n",
    "    for fileName in fileList:\n",
    "    #print(fileName)\n",
    "    \n",
    "        img=Image.open(fileName)\n",
    "        img1=img.resize((100,100))\n",
    "        img2=np.array(img1)/255\n",
    "        Xdata.append(img2)\n",
    "        Ydata.append(folderNumber) # 레이블 제작과정\n",
    "    folderNumber+=1\n",
    "    \n",
    "print(np.shape(Xdata))\n",
    "print(np.shape(Ydata))"
   ]
  },
  {
   "cell_type": "code",
   "execution_count": 7,
   "id": "9a559604",
   "metadata": {},
   "outputs": [
    {
     "data": {
      "text/plain": [
       "[]"
      ]
     },
     "execution_count": 7,
     "metadata": {},
     "output_type": "execute_result"
    }
   ],
   "source": [
    "Ydata #폴더명 저장"
   ]
  },
  {
   "cell_type": "code",
   "execution_count": 10,
   "id": "8a5bba95",
   "metadata": {},
   "outputs": [],
   "source": [
    "np.savez('test.npz', X=Xdata, Y=Ydata)\n",
    "\n",
    "# npz는 배열을 기억하는 압축자료\n",
    "# npy는 배열을 기억하는 한개의 자료"
   ]
  },
  {
   "cell_type": "markdown",
   "id": "b8e6d43e",
   "metadata": {},
   "source": [
    "### [npz로 저장된 자료 보는법]"
   ]
  },
  {
   "cell_type": "code",
   "execution_count": 11,
   "id": "0d733c31",
   "metadata": {},
   "outputs": [
    {
     "data": {
      "text/plain": [
       "['X', 'Y']"
      ]
     },
     "execution_count": 11,
     "metadata": {},
     "output_type": "execute_result"
    }
   ],
   "source": [
    "import numpy as np\n",
    "npList=np.load('test.npz')\n",
    "list(npList)"
   ]
  },
  {
   "cell_type": "code",
   "execution_count": 12,
   "id": "a6ba121b",
   "metadata": {},
   "outputs": [],
   "source": [
    "X_data=npList['X']\n",
    "Y_data=npList['Y']"
   ]
  },
  {
   "cell_type": "code",
   "execution_count": 13,
   "id": "275e555c",
   "metadata": {},
   "outputs": [
    {
     "ename": "IndexError",
     "evalue": "index 0 is out of bounds for axis 0 with size 0",
     "output_type": "error",
     "traceback": [
      "\u001b[1;31m---------------------------------------------------------------------------\u001b[0m",
      "\u001b[1;31mIndexError\u001b[0m                                Traceback (most recent call last)",
      "Input \u001b[1;32mIn [13]\u001b[0m, in \u001b[0;36m<module>\u001b[1;34m\u001b[0m\n\u001b[0;32m      1\u001b[0m \u001b[38;5;28;01mimport\u001b[39;00m \u001b[38;5;21;01mmatplotlib\u001b[39;00m\u001b[38;5;21;01m.\u001b[39;00m\u001b[38;5;21;01mpyplot\u001b[39;00m \u001b[38;5;28;01mas\u001b[39;00m \u001b[38;5;21;01mplt\u001b[39;00m\n\u001b[1;32m----> 2\u001b[0m plt\u001b[38;5;241m.\u001b[39mimshow(\u001b[43mX_data\u001b[49m\u001b[43m[\u001b[49m\u001b[38;5;241;43m0\u001b[39;49m\u001b[43m]\u001b[49m)\n",
      "\u001b[1;31mIndexError\u001b[0m: index 0 is out of bounds for axis 0 with size 0"
     ]
    }
   ],
   "source": [
    "import matplotlib.pyplot as plt\n",
    "plt.imshow(X_data[0])"
   ]
  }
 ],
 "metadata": {
  "kernelspec": {
   "display_name": "Python 3 (ipykernel)",
   "language": "python",
   "name": "python3"
  },
  "language_info": {
   "codemirror_mode": {
    "name": "ipython",
    "version": 3
   },
   "file_extension": ".py",
   "mimetype": "text/x-python",
   "name": "python",
   "nbconvert_exporter": "python",
   "pygments_lexer": "ipython3",
   "version": "3.9.5"
  }
 },
 "nbformat": 4,
 "nbformat_minor": 5
}
