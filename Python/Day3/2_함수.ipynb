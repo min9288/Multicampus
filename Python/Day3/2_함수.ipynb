{
 "cells": [
  {
   "cell_type": "markdown",
   "id": "5a2f2204",
   "metadata": {},
   "source": [
    "## 함수정의"
   ]
  },
  {
   "cell_type": "code",
   "execution_count": 23,
   "id": "474fe4ba",
   "metadata": {
    "scrolled": false
   },
   "outputs": [],
   "source": [
    "def myCal(choice, data):\n",
    "    result = 0\n",
    "    \n",
    "    if choice == '+':   # 2+7+1\n",
    "        for i in data:\n",
    "            result = result + i\n",
    "    elif choice == '*':  # 2*7*1\n",
    "        result = 1\n",
    "        for i in data:\n",
    "            result = result * i\n",
    "    elif choice == '-':  # 2-7-1\n",
    "        for i in data:\n",
    "            result = result - i\n",
    "    else:\n",
    "        print('해당되는 명령없음 (+, *, - 만 가능)')\n",
    "        \n",
    "    return result"
   ]
  },
  {
   "cell_type": "code",
   "execution_count": 30,
   "id": "009d1652",
   "metadata": {},
   "outputs": [
    {
     "name": "stdout",
     "output_type": "stream",
     "text": [
      "해당되는 명령없음 (+, *, - 만 가능)\n"
     ]
    },
    {
     "data": {
      "text/plain": [
       "0"
      ]
     },
     "execution_count": 30,
     "metadata": {},
     "output_type": "execute_result"
    }
   ],
   "source": [
    "aa = [2,7,1]\n",
    "\n",
    "myCal('##', aa)"
   ]
  },
  {
   "cell_type": "code",
   "execution_count": 10,
   "id": "45478253",
   "metadata": {},
   "outputs": [
    {
     "data": {
      "text/plain": [
       "-10"
      ]
     },
     "execution_count": 10,
     "metadata": {},
     "output_type": "execute_result"
    }
   ],
   "source": [
    "choice = '-'\n",
    "\n",
    "result = 0\n",
    "data = [2,7,1]\n",
    "if choice == '+':   # 2+7+1    \n",
    "    for i in data:\n",
    "        result = result + i\n",
    "elif choice == '*':  # 2*7*1\n",
    "    result = 1\n",
    "    for i in data:\n",
    "        result = result * i\n",
    "elif choice == '-':  # 2-7-1\n",
    "    for i in data:\n",
    "        result = result - i\n",
    "else:\n",
    "    print('해당되는 명령없음 (+, *, - 만 가능)')\n",
    "result"
   ]
  },
  {
   "cell_type": "code",
   "execution_count": null,
   "id": "4f115336",
   "metadata": {},
   "outputs": [],
   "source": [
    "data = [2,7,1]\n",
    "\n",
    "result = 2\n",
    "result = "
   ]
  },
  {
   "cell_type": "code",
   "execution_count": 32,
   "id": "7469f439",
   "metadata": {},
   "outputs": [
    {
     "data": {
      "text/plain": [
       "[22, 53, 64]"
      ]
     },
     "execution_count": 32,
     "metadata": {},
     "output_type": "execute_result"
    }
   ],
   "source": [
    "var1 = [2,3,4]\n",
    "var2 = [20,50,60]\n",
    "re = []\n",
    "\n",
    "for tmp in zip(var1, var2):\n",
    "    re.append(tmp[0]+tmp[1])\n",
    "re"
   ]
  },
  {
   "cell_type": "code",
   "execution_count": null,
   "id": "3f1bc324",
   "metadata": {},
   "outputs": [],
   "source": [
    "def myNumAdd(a,b):\n",
    "    re = []\n",
    "\n",
    "    for tmp in zip(a, b):\n",
    "        re.append(tmp[0]+tmp[1])\n",
    "    return re"
   ]
  },
  {
   "cell_type": "code",
   "execution_count": 33,
   "id": "8edcf554",
   "metadata": {},
   "outputs": [
    {
     "data": {
      "text/plain": [
       "array([ 40, 150, 240])"
      ]
     },
     "execution_count": 33,
     "metadata": {},
     "output_type": "execute_result"
    }
   ],
   "source": [
    "import numpy as np\n",
    "arrVar1=np.array(var1) ; arrVar2=np.array(var2)\n",
    "#arrVar1+arrVar2\n",
    "np.multiply(arrVar1,arrVar2)"
   ]
  },
  {
   "cell_type": "markdown",
   "id": "16d59e0c",
   "metadata": {},
   "source": [
    "## 기술통계\n",
    "- 합, 평균, 최대, 최소, 카운트, 편차, 분산\n",
    "- 편차 : 평균과의 차이"
   ]
  },
  {
   "cell_type": "code",
   "execution_count": 38,
   "id": "b8c08935",
   "metadata": {},
   "outputs": [
    {
     "data": {
      "text/plain": [
       "5"
      ]
     },
     "execution_count": 38,
     "metadata": {},
     "output_type": "execute_result"
    }
   ],
   "source": [
    "var = [1,5,2,3]    # 이중 가장 큰 값은 \n",
    "\n",
    "max = var[0]\n",
    "for i in var:\n",
    "    if max < i:\n",
    "        max = i\n",
    "max"
   ]
  },
  {
   "cell_type": "code",
   "execution_count": 39,
   "id": "bae48917",
   "metadata": {},
   "outputs": [],
   "source": [
    "def myMax(var):\n",
    "    max = var[0]\n",
    "    for i in var:\n",
    "        if max < i:\n",
    "            max = i\n",
    "    print(max)"
   ]
  },
  {
   "cell_type": "code",
   "execution_count": 49,
   "id": "cf6af299",
   "metadata": {},
   "outputs": [],
   "source": [
    "def myargMax(var):\n",
    "    maxx = var[0]\n",
    "    cnt = 0\n",
    "    maxCnt = 0\n",
    "    for i in var:\n",
    "        if maxx < i:\n",
    "            maxx = i\n",
    "            maxCnt = cnt\n",
    "        cnt += 1\n",
    "    return maxCnt"
   ]
  },
  {
   "cell_type": "code",
   "execution_count": 50,
   "id": "7a14a883",
   "metadata": {
    "scrolled": true
   },
   "outputs": [
    {
     "name": "stdout",
     "output_type": "stream",
     "text": [
      "5\n"
     ]
    },
    {
     "data": {
      "text/plain": [
       "1"
      ]
     },
     "execution_count": 50,
     "metadata": {},
     "output_type": "execute_result"
    }
   ],
   "source": [
    "var = [1,5,2,3] \n",
    "myMax(var)\n",
    "maxindex = myargMax(var)\n",
    "maxindex\n"
   ]
  },
  {
   "cell_type": "code",
   "execution_count": 43,
   "id": "f002896f",
   "metadata": {},
   "outputs": [
    {
     "data": {
      "text/plain": [
       "'시계'"
      ]
     },
     "execution_count": 43,
     "metadata": {},
     "output_type": "execute_result"
    }
   ],
   "source": [
    "label = ['신발','티셔츠','시계']\n",
    "y_hat=[0.0002, 0.000002, 0.999992]   # 예측분석할때 softmax 라는 함수로 계산\n",
    "indexNumber = np.argmax(y_hat)    # np.array(var).argmax()\n",
    "label[indexNumber]\n",
    "\n",
    "label = ['암', '정상']\n",
    "y_hat = [0.1, 0.9]\n",
    "indexNumber"
   ]
  }
 ],
 "metadata": {
  "kernelspec": {
   "display_name": "Python 3 (ipykernel)",
   "language": "python",
   "name": "python3"
  },
  "language_info": {
   "codemirror_mode": {
    "name": "ipython",
    "version": 3
   },
   "file_extension": ".py",
   "mimetype": "text/x-python",
   "name": "python",
   "nbconvert_exporter": "python",
   "pygments_lexer": "ipython3",
   "version": "3.9.5"
  }
 },
 "nbformat": 4,
 "nbformat_minor": 5
}
