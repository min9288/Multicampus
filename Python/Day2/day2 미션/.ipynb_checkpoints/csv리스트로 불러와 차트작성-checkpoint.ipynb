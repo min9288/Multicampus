{
 "cells": [
  {
   "cell_type": "markdown",
   "metadata": {},
   "source": [
    "### 차트"
   ]
  },
  {
   "cell_type": "code",
   "execution_count": 2,
   "metadata": {},
   "outputs": [
    {
     "name": "stdout",
     "output_type": "stream",
     "text": [
      "['서울', '977', '강남', '동대문', '강동', '']\n",
      "['제주', '63', '서귀포', '제주시', '', '']\n",
      "['강원', '156', '속초', '양양', '강릉', '철원']\n"
     ]
    }
   ],
   "source": [
    "import csv\n",
    "listData=[]\n",
    "file=open('지역.csv','r')\n",
    "csvfile=csv.reader(file)\n",
    "\n",
    "for item in csvfile:\n",
    "    listData.append(item)\n",
    "\n",
    "listData\n",
    "print(listData[0])\n",
    "print(listData[1])\n",
    "print(listData[2])\n"
   ]
  },
  {
   "cell_type": "code",
   "execution_count": 19,
   "metadata": {},
   "outputs": [
    {
     "name": "stdout",
     "output_type": "stream",
     "text": [
      "('서울', '제주', '강원')\n",
      "('977', '63', '156')\n",
      "('강남', '서귀포', '속초')\n"
     ]
    },
    {
     "data": {
      "text/plain": [
       "[977, 63, 156]"
      ]
     },
     "execution_count": 19,
     "metadata": {},
     "output_type": "execute_result"
    }
   ],
   "source": [
    "#리스트 전치\n",
    "#https://chrisjune-13837.medium.com/%ED%8C%8C%EC%9D%B4%EC%8D%AC-%EC%88%A8%EC%9D%80-%EA%B8%B0%EB%8A%A5-17%EA%B0%80%EC%A7%80-f85a36a73899\n",
    "\n",
    "re=list(zip(*listData))\n",
    "print(re[0])\n",
    "print(re[1])\n",
    "print(re[2])\n",
    "\n",
    "re[1]= list(map(int, re[1]))\n",
    "\n",
    "re[1]\n",
    "\n"
   ]
  },
  {
   "cell_type": "code",
   "execution_count": 28,
   "metadata": {},
   "outputs": [
    {
     "data": {
      "image/png": "[encoded data removed]",
      "text/plain": [
       "<Figure size 432x288 with 1 Axes>"
      ]
     },
     "metadata": {
      "needs_background": "light"
     },
     "output_type": "display_data"
    }
   ],
   "source": [
    "import matplotlib.pyplot as plt\n",
    "import matplotlib.font_manager as fm\n",
    "\n",
    "font_path = 'malgunsl.ttf' \n",
    "fontprop = fm.FontProperties(fname=font_path, size=18)\n",
    "\n",
    "plt.plot(re[1])\n",
    "plt.title('인구수',fontproperties=fontprop)\n",
    "plt.ylabel('pop')\n",
    "plt.show()"
   ]
  },
  {
   "cell_type": "code",
   "execution_count": null,
   "metadata": {},
   "outputs": [],
   "source": []
  }
 ],
 "metadata": {
  "kernelspec": {
   "display_name": "Python 3 (ipykernel)",
   "language": "python",
   "name": "python3"
  },
  "language_info": {
   "codemirror_mode": {
    "name": "ipython",
    "version": 3
   },
   "file_extension": ".py",
   "mimetype": "text/x-python",
   "name": "python",
   "nbconvert_exporter": "python",
   "pygments_lexer": "ipython3",
   "version": "3.9.5"
  }
 },
 "nbformat": 4,
 "nbformat_minor": 4
}
