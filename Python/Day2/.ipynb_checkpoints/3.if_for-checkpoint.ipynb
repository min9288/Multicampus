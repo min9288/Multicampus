{
 "cells": [
  {
   "cell_type": "markdown",
   "id": "9a723ec5",
   "metadata": {},
   "source": [
    "## 제어문\n",
    "- 결과값이 true(참)이거나 false(거짓)이 나오는 경우에 사용\n",
    "- true(조건에 대한 결과가 일치함) / false(조건에 대한 결과가 불일치)\n",
    "- 구문구성 (if 조건 true 일때 할 작업 false 일때 할 작업)\n",
    "- 단, 파이썬,자바,C 등의 언어에 따라 구문구성의 문법이 다를 뿐\n",
    "\n",
    "<pre><code class=\"python\">if 조건문:\n",
    "    수행할 문장1\n",
    "    수행할 문장2\n",
    "    ...\n",
    "else:\n",
    "    수행할 문장A\n",
    "    수행할 문장B\n",
    "    ...\n",
    "</code></pre>\n",
    "\n",
    "## 반복문(for)\n",
    "- 프로그램 언어에 따라 for 구문은 다름\n",
    "- 파이썬에서는 숫자값이 생성되면서 할당 할때는 <br>\n",
    "     for 변수 in range(숫자) :    # 파이썬 2 와 3 버전에서 해당 구문이 다름\n",
    "- 리스트 자료에 있는 값을 직접 할당 할 때는 <br>\n",
    "    for 변수 in zip (자료1, 자료2)"
   ]
  },
  {
   "cell_type": "code",
   "execution_count": 2,
   "id": "83f1fc8a",
   "metadata": {},
   "outputs": [
    {
     "name": "stdout",
     "output_type": "stream",
     "text": [
      "정답\n"
     ]
    }
   ],
   "source": [
    "number = [2,3,2,3,25,3,2,3,2,3,25,3,2,3,2,3,25,3]\n",
    "\n",
    "# 사용자가 입력한 숫자가 number에 있는지를 확인\n",
    "x = 3\n",
    "if x in number:\n",
    "    print('정답')\n",
    "else:\n",
    "    print('오답')"
   ]
  },
  {
   "cell_type": "code",
   "execution_count": 4,
   "id": "046a890b",
   "metadata": {},
   "outputs": [
    {
     "name": "stdout",
     "output_type": "stream",
     "text": [
      "xxx\n"
     ]
    }
   ],
   "source": [
    "number = [2,3,2,3,25,3,2,3,2,3,25,3,2,3,2,3,25,3]\n",
    "x = 3\n",
    "for y in number:\n",
    "    if x != y:\n",
    "        print('xxx')\n",
    "        break\n",
    "    else:\n",
    "        print('ooo')\n",
    "        break"
   ]
  },
  {
   "cell_type": "code",
   "execution_count": null,
   "id": "0ff86278",
   "metadata": {},
   "outputs": [],
   "source": [
    "# 사용자가 입력한 숫자가 number에 있는지를 확인\n",
    "# if ~ in이 없을때\n",
    "\n",
    "number = [2,3,2,3,25,3,2,3,2,3,25,3,2,3,2,3,25,3]\n",
    "x = 3; sw = 0\n",
    "for y in number:\n",
    "    sw = 1\n",
    "#     if x != y:\n",
    "#         print('xxx')\n",
    "#         break\n",
    "#     else:\n",
    "#         print('ooo')\n",
    "#         break\n",
    "txt - ['xxx', 'ooo']\n",
    "txt[sw]"
   ]
  },
  {
   "cell_type": "code",
   "execution_count": 10,
   "id": "1ae7f745",
   "metadata": {},
   "outputs": [
    {
     "name": "stdout",
     "output_type": "stream",
     "text": [
      "{25, 2, 3}\n",
      "1\n"
     ]
    }
   ],
   "source": [
    "# 중복제거한 단일 집합을 만들어 봅시다\n",
    "# 그 숫자값이 몇 번 나왔나\n",
    "\n",
    "number = [2,3,2,3,25,3,2,3,2,3,25,3,2,3,2,3,25,3]\n",
    "\n",
    "unique = set(number)\n",
    "print(unique)\n",
    "x = 3\n",
    "cnt = 0\n",
    "if x in unique:\n",
    "    cnt = cnt + 1\n",
    "print(cnt)"
   ]
  },
  {
   "cell_type": "code",
   "execution_count": 16,
   "id": "e192a1f4",
   "metadata": {},
   "outputs": [
    {
     "name": "stdout",
     "output_type": "stream",
     "text": [
      "[25, 2, 3]\n",
      "<class 'list'>\n",
      "------------------\n",
      "[6, 9, 6, 9, 3, 9, 6, 9, 6, 9, 3, 9, 6, 9, 6, 9, 3, 9]\n",
      "('사과', 6)\n",
      "('배', 9)\n",
      "('귤', 6)\n"
     ]
    }
   ],
   "source": [
    "number = [2,3,2,3,25,3,2,3,2,3,25,3,2,3,2,3,25,3]\n",
    "\n",
    "unique = list(set(number))\n",
    "print(unique)\n",
    "print(type(unique))\n",
    "\n",
    "unique = ['사과', '배', '귤']\n",
    "cntList = []\n",
    "for i in number:\n",
    "    count = 0\n",
    "    for j in number:\n",
    "        if i == j:\n",
    "            count += 1    # count = count + 1\n",
    "    cntList.append(count)\n",
    "print('------------------')\n",
    "print(cntList)\n",
    "\n",
    "for result in zip(unique, cntList):\n",
    "    print(result)"
   ]
  },
  {
   "cell_type": "code",
   "execution_count": 21,
   "id": "f3380056",
   "metadata": {},
   "outputs": [
    {
     "data": {
      "text/plain": [
       "(('사과', 6), ('배', 9), ('귤', 6))"
      ]
     },
     "execution_count": 21,
     "metadata": {},
     "output_type": "execute_result"
    }
   ],
   "source": [
    "aa = unique, cntList\n",
    "aa\n",
    "\n",
    "t1 = aa[0][0], aa[1][0]\n",
    "t2 = aa[0][1], aa[1][1]\n",
    "t3 = aa[0][2], aa[1][2]\n",
    "\n",
    "xxx = t1, t2, t3\n",
    "xxx"
   ]
  },
  {
   "cell_type": "code",
   "execution_count": null,
   "id": "bd570588",
   "metadata": {},
   "outputs": [],
   "source": []
  }
 ],
 "metadata": {
  "kernelspec": {
   "display_name": "Python 3 (ipykernel)",
   "language": "python",
   "name": "python3"
  },
  "language_info": {
   "codemirror_mode": {
    "name": "ipython",
    "version": 3
   },
   "file_extension": ".py",
   "mimetype": "text/x-python",
   "name": "python",
   "nbconvert_exporter": "python",
   "pygments_lexer": "ipython3",
   "version": "3.9.5"
  }
 },
 "nbformat": 4,
 "nbformat_minor": 5
}
