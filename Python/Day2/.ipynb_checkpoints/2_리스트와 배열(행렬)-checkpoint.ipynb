{
 "cells": [
  {
   "cell_type": "markdown",
   "id": "a65c0aa6",
   "metadata": {},
   "source": [
    "**리스트와 배열**\n",
    "   - 공통점 : 행(가로)과 열(세로)의 인덱싱을 가짐 (인덱싱과 슬라이싱 기법 같음)\n",
    "   - 차이점 : 배열은 반드시 원소가 같아야하고, 원소의 type이 같아야함\n",
    "   - 배열은 원소끼리의 연산이 필요할때 사용하는 구조임\n",
    "   - 배열을 전문적으로 처리하는 모듈이 numpy 임\n",
    "   - https://wikidocs.net/14\n",
    "  "
   ]
  },
  {
   "cell_type": "code",
   "execution_count": 1,
   "id": "a9c0ac9d",
   "metadata": {},
   "outputs": [
    {
     "data": {
      "text/plain": [
       "[]"
      ]
     },
     "execution_count": 1,
     "metadata": {},
     "output_type": "execute_result"
    }
   ],
   "source": [
    "odd = [1, 3, 5, 7, 9]\n",
    "a = list()  # a = list()\n",
    "a"
   ]
  },
  {
   "cell_type": "code",
   "execution_count": 2,
   "id": "36b21968",
   "metadata": {
    "scrolled": true
   },
   "outputs": [
    {
     "name": "stdout",
     "output_type": "stream",
     "text": [
      "2\n",
      "['Life', 'is']\n"
     ]
    }
   ],
   "source": [
    "e = [1, 2, ['Life', 'is']]\n",
    "e1 = [[1, 2], ['Life', 'is']]\n",
    "\n",
    "print(e[1])\n",
    "print(e1[1])"
   ]
  },
  {
   "cell_type": "code",
   "execution_count": 7,
   "id": "3391c759",
   "metadata": {
    "scrolled": true
   },
   "outputs": [
    {
     "name": "stdout",
     "output_type": "stream",
     "text": [
      "[1, 2, 3, 1, 2, 3, 1, 2, 3]\n",
      "Collecting numpy\n",
      "  Using cached numpy-1.22.1-cp39-cp39-win_amd64.whl (14.7 MB)\n",
      "Installing collected packages: numpy\n",
      "Successfully installed numpy-1.22.1\n"
     ]
    },
    {
     "data": {
      "text/plain": [
       "(3,)"
      ]
     },
     "execution_count": 7,
     "metadata": {},
     "output_type": "execute_result"
    }
   ],
   "source": [
    "# 리스트 자료형은 연산이 불가능함 (+는 연결, *는 반복임)\n",
    "tmp1 = [1,2,3]\n",
    "print(tmp1 * 3)\n",
    "type(tmp1)\n",
    "\n",
    "#행렬(배열)과 관련한 함수를 갖고있는 모듈을 as np해서 별명을 부여함\n",
    "!pip install numpy\n",
    "import numpy as np\n",
    "np.shape(tmp1)"
   ]
  },
  {
   "cell_type": "code",
   "execution_count": 9,
   "id": "78e7702f",
   "metadata": {
    "scrolled": true
   },
   "outputs": [
    {
     "name": "stdout",
     "output_type": "stream",
     "text": [
      "[1 2 3]\n",
      "---------------------\n",
      "[3 6 9]\n"
     ]
    },
    {
     "data": {
      "text/plain": [
       "(3,)"
      ]
     },
     "execution_count": 9,
     "metadata": {},
     "output_type": "execute_result"
    }
   ],
   "source": [
    "# 리스트 자료형을 배열자료형으로 변환\n",
    "tmp2 = np.array(tmp1)\n",
    "type(tmp2)\n",
    "print(tmp2)\n",
    "print('---------------------')\n",
    "print(tmp2 * 3)   # 브로드캐스트\n",
    "\n",
    "tmp2.shape"
   ]
  },
  {
   "cell_type": "code",
   "execution_count": 12,
   "id": "16aeebbe",
   "metadata": {},
   "outputs": [
    {
     "name": "stdout",
     "output_type": "stream",
     "text": [
      "(3,)\n",
      "(2,)\n"
     ]
    },
    {
     "name": "stderr",
     "output_type": "stream",
     "text": [
      "C:\\Users\\admin\\AppData\\Local\\Temp\\ipykernel_29436\\1052959944.py:11: VisibleDeprecationWarning: Creating an ndarray from ragged nested sequences (which is a list-or-tuple of lists-or-tuples-or ndarrays with different lengths or shapes) is deprecated. If you meant to do this, you must specify 'dtype=object' when creating the ndarray.\n",
      "  np.array(a) - [10,100,1000]\n"
     ]
    },
    {
     "ename": "ValueError",
     "evalue": "operands could not be broadcast together with shapes (2,) (3,) ",
     "output_type": "error",
     "traceback": [
      "\u001b[1;31m---------------------------------------------------------------------------\u001b[0m",
      "\u001b[1;31mValueError\u001b[0m                                Traceback (most recent call last)",
      "Input \u001b[1;32mIn [12]\u001b[0m, in \u001b[0;36m<module>\u001b[1;34m\u001b[0m\n\u001b[0;32m      9\u001b[0m \u001b[38;5;28mprint\u001b[39m(np\u001b[38;5;241m.\u001b[39mshape(a[\u001b[38;5;241m0\u001b[39m]))\n\u001b[0;32m     10\u001b[0m \u001b[38;5;28mprint\u001b[39m(np\u001b[38;5;241m.\u001b[39mshape(a[\u001b[38;5;241m1\u001b[39m]))\n\u001b[1;32m---> 11\u001b[0m \u001b[43mnp\u001b[49m\u001b[38;5;241;43m.\u001b[39;49m\u001b[43marray\u001b[49m\u001b[43m(\u001b[49m\u001b[43ma\u001b[49m\u001b[43m)\u001b[49m\u001b[43m \u001b[49m\u001b[38;5;241;43m-\u001b[39;49m\u001b[43m \u001b[49m\u001b[43m[\u001b[49m\u001b[38;5;241;43m10\u001b[39;49m\u001b[43m,\u001b[49m\u001b[38;5;241;43m100\u001b[39;49m\u001b[43m,\u001b[49m\u001b[38;5;241;43m1000\u001b[39;49m\u001b[43m]\u001b[49m\n",
      "\u001b[1;31mValueError\u001b[0m: operands could not be broadcast together with shapes (2,) (3,) "
     ]
    }
   ],
   "source": [
    "## 리스트와 배열의 각각 문제점\n",
    "# 리스트는 각 스칼라별 연산 불가능\n",
    "# 배열은 스칼라의 성격이 같아야함, 스칼라나 백터의 갯수가 같아야함.\n",
    "\n",
    "a = [[1,2,3],[1,2]]\n",
    "# np.array(a) - 3\n",
    "\n",
    "type(a)\n",
    "print(np.shape(a[0]))\n",
    "print(np.shape(a[1]))\n",
    "np.array(a) - [10,100,1000]"
   ]
  },
  {
   "cell_type": "code",
   "execution_count": 13,
   "id": "12976dd6",
   "metadata": {},
   "outputs": [
    {
     "name": "stdout",
     "output_type": "stream",
     "text": [
      "<class 'numpy.ndarray'>\n",
      "(3,)\n",
      "(3,)\n",
      "[[0.25 0.5  0.75]\n",
      " [4.75 5.   7.5 ]]\n"
     ]
    },
    {
     "data": {
      "text/plain": [
       "array([[  -9,  -98, -997],\n",
       "       [   9,  -80, -970]])"
      ]
     },
     "execution_count": 13,
     "metadata": {},
     "output_type": "execute_result"
    }
   ],
   "source": [
    "a = [[1,2,3],[19,20,30]]\n",
    "b = np.array(a)\n",
    "b - 3\n",
    "\n",
    "print(type(b))\n",
    "print(np.shape(b[0]))\n",
    "print(np.shape(b[1]))\n",
    "\n",
    "print(b/4)\n",
    "b-[10,100,1000]"
   ]
  },
  {
   "cell_type": "code",
   "execution_count": 16,
   "id": "33441309",
   "metadata": {},
   "outputs": [
    {
     "name": "stdout",
     "output_type": "stream",
     "text": [
      "[5, 6, 7]\n",
      "[5, 6, 7]\n"
     ]
    },
    {
     "data": {
      "text/plain": [
       "array([5, 6, 7])"
      ]
     },
     "execution_count": 16,
     "metadata": {},
     "output_type": "execute_result"
    }
   ],
   "source": [
    "## 리스트 연산은 두가지임, 사용자가 스칼라값을 직접 인덱싱해서 하거나\n",
    "# 배열로 전환해서 하거나\n",
    "# a에 +4를 해서 5,6,7이 되게 하고자 하면\n",
    "a = [1,2,3]\n",
    "a[0] = a[0] + 4;\n",
    "a[1] = a[1] + 4;\n",
    "a[2] = a[2] + 4;\n",
    "print(a)\n",
    "\n",
    "a=[1,2,3]\n",
    "for i in range(len(a)):\n",
    "    a[i] = a[i] + 4\n",
    "print(a)\n",
    "\n",
    "a = [1, 2, 3]\n",
    "np.array(a) + 4"
   ]
  },
  {
   "cell_type": "code",
   "execution_count": 17,
   "id": "49cc0764",
   "metadata": {},
   "outputs": [
    {
     "ename": "TypeError",
     "evalue": "'int' object is not iterable",
     "output_type": "error",
     "traceback": [
      "\u001b[1;31m---------------------------------------------------------------------------\u001b[0m",
      "\u001b[1;31mTypeError\u001b[0m                                 Traceback (most recent call last)",
      "Input \u001b[1;32mIn [17]\u001b[0m, in \u001b[0;36m<module>\u001b[1;34m\u001b[0m\n\u001b[1;32m----> 1\u001b[0m \u001b[38;5;28;01mfor\u001b[39;00m i,j,k \u001b[38;5;129;01min\u001b[39;00m \u001b[38;5;28;43mzip\u001b[39;49m\u001b[43m(\u001b[49m\u001b[38;5;241;43m3\u001b[39;49m\u001b[43m,\u001b[49m\u001b[38;5;241;43m4\u001b[39;49m\u001b[43m,\u001b[49m\u001b[38;5;241;43m5\u001b[39;49m\u001b[43m)\u001b[49m:\n\u001b[0;32m      2\u001b[0m     \u001b[38;5;28mprint\u001b[39m(i)\n\u001b[0;32m      3\u001b[0m     \u001b[38;5;28mprint\u001b[39m(j)\n",
      "\u001b[1;31mTypeError\u001b[0m: 'int' object is not iterable"
     ]
    }
   ],
   "source": [
    "for i,j,k in zip(3,4,5):\n",
    "    print(i)\n",
    "    print(j)\n",
    "    print(k)"
   ]
  }
 ],
 "metadata": {
  "kernelspec": {
   "display_name": "Python 3 (ipykernel)",
   "language": "python",
   "name": "python3"
  },
  "language_info": {
   "codemirror_mode": {
    "name": "ipython",
    "version": 3
   },
   "file_extension": ".py",
   "mimetype": "text/x-python",
   "name": "python",
   "nbconvert_exporter": "python",
   "pygments_lexer": "ipython3",
   "version": "3.9.5"
  }
 },
 "nbformat": 4,
 "nbformat_minor": 5
}
