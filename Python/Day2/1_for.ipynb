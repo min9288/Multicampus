{
 "cells": [
  {
   "cell_type": "code",
   "execution_count": 12,
   "id": "da667feb",
   "metadata": {},
   "outputs": [
    {
     "data": {
      "text/plain": [
       "['200pic1.jpg', '300pic1.jpg', 'pic1.jpg', 'pic2.jpg', 'pic3.jpg']"
      ]
     },
     "execution_count": 12,
     "metadata": {},
     "output_type": "execute_result"
    }
   ],
   "source": [
    "import os\n",
    "folderName = './picture/'\n",
    "fileName = os.listdir(folderName)\n",
    "fileName\n",
    "# folderName 에 있는 디렉토리(폴더)의 파일리스트를 자동으로 작성하는 파이썬 기본\n",
    "#fileName = ['pic1.jpg', 'pic2.jpg', 'pic3.jpg']"
   ]
  },
  {
   "cell_type": "code",
   "execution_count": 20,
   "id": "00af0f01",
   "metadata": {},
   "outputs": [
    {
     "data": {
      "text/plain": [
       "'jpg'"
      ]
     },
     "execution_count": 20,
     "metadata": {},
     "output_type": "execute_result"
    }
   ],
   "source": [
    "txt = fileName[0]\n",
    "tmp = txt.split('.')\n",
    "tmp[1]"
   ]
  },
  {
   "cell_type": "code",
   "execution_count": 9,
   "id": "08f54f22",
   "metadata": {},
   "outputs": [
    {
     "name": "stdout",
     "output_type": "stream",
     "text": [
      "pic1.jpg\n"
     ]
    },
    {
     "data": {
      "text/plain": [
       "3"
      ]
     },
     "execution_count": 9,
     "metadata": {},
     "output_type": "execute_result"
    }
   ],
   "source": [
    "from PIL import Image   # PIL 이라는 폴더에서 image.py 를 연결\n",
    "\n",
    "#openFileName = 0\n",
    "#mage.opne(openFileName)\n",
    "\n",
    "i = 0\n",
    "#print(folderName)\n",
    "#print(folderName[0])\n",
    "print(fileName[0])\n",
    "Image.open(folderName + fileName[i])"
   ]
  },
  {
   "cell_type": "code",
   "execution_count": 23,
   "id": "e36086f2",
   "metadata": {
    "scrolled": true
   },
   "outputs": [
    {
     "name": "stdout",
     "output_type": "stream",
     "text": [
      "./picture/200pic1.jpg\n",
      "./picture/300pic1.jpg\n",
      "./picture/pic1.jpg\n",
      "./picture/pic2.jpg\n",
      "./picture/pic3.jpg\n"
     ]
    }
   ],
   "source": [
    "cnt = len(fileName)\n",
    "for i in range(cnt):     # for 매개변수 in range(0 : 3 - 1)\n",
    "    tmp = fileName[i].split('.')[1]\n",
    "    if tmp == 'jpg':\n",
    "        print(folderName + fileName[i])"
   ]
  },
  {
   "cell_type": "code",
   "execution_count": 14,
   "id": "9f133cee",
   "metadata": {},
   "outputs": [
    {
     "name": "stdout",
     "output_type": "stream",
     "text": [
      "c1.j\n",
      "c1.j\n",
      "jpg\n",
      "jpg\n",
      "jpg\n"
     ]
    }
   ],
   "source": [
    "#txt = 'pic1.jpg'\n",
    "for txt in fileName:\n",
    "    print(txt[5:9])"
   ]
  },
  {
   "cell_type": "code",
   "execution_count": 17,
   "id": "2b530fca",
   "metadata": {},
   "outputs": [],
   "source": [
    "def rightSplit(txt):\n",
    "    start = len(txt) - 3\n",
    "    end = len(txt)\n",
    "    print(start, '~', end)\n",
    "    print(txt)\n",
    "    print(txt[start : end])\n"
   ]
  },
  {
   "cell_type": "code",
   "execution_count": 19,
   "id": "90558442",
   "metadata": {},
   "outputs": [
    {
     "name": "stdout",
     "output_type": "stream",
     "text": [
      "8 ~ 11\n",
      "200pic1.jpg\n",
      "jpg\n"
     ]
    }
   ],
   "source": [
    "aa = fileName[0]\n",
    "rightSplit(aa)"
   ]
  }
 ],
 "metadata": {
  "kernelspec": {
   "display_name": "Python 3 (ipykernel)",
   "language": "python",
   "name": "python3"
  },
  "language_info": {
   "codemirror_mode": {
    "name": "ipython",
    "version": 3
   },
   "file_extension": ".py",
   "mimetype": "text/x-python",
   "name": "python",
   "nbconvert_exporter": "python",
   "pygments_lexer": "ipython3",
   "version": "3.9.5"
  }
 },
 "nbformat": 4,
 "nbformat_minor": 5
}
