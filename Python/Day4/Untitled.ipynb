{
 "cells": [
  {
   "cell_type": "markdown",
   "id": "c348b998",
   "metadata": {},
   "source": [
    "## https://wikidocs.net/28"
   ]
  },
  {
   "cell_type": "code",
   "execution_count": 3,
   "id": "07721db8",
   "metadata": {},
   "outputs": [
    {
     "data": {
      "text/plain": [
       "17"
      ]
     },
     "execution_count": 3,
     "metadata": {},
     "output_type": "execute_result"
    }
   ],
   "source": [
    "result = 0\n",
    "\n",
    "def add(num):\n",
    "    global result    # 전역변수 (함수외에서도 계속 기억하는 변수)\n",
    "    result += num\n",
    "    return result\n",
    "\n",
    "x = [1,2,3,3,4,4]\n",
    "\n",
    "for i in x:\n",
    "    add(i)\n",
    "result"
   ]
  },
  {
   "cell_type": "code",
   "execution_count": null,
   "id": "1dcc1f16",
   "metadata": {},
   "outputs": [],
   "source": []
  },
  {
   "cell_type": "code",
   "execution_count": 6,
   "id": "57b52a2d",
   "metadata": {},
   "outputs": [],
   "source": [
    "class myPrint:\n",
    "    def _init_(self):\n",
    "        self.result = 0\n",
    "        \n",
    "    def title(self, num):\n",
    "        print('---------------')\n",
    "        \n",
    "\n",
    "    def userInfo():\n",
    "        print('ver:1 ,0/ data:222')\n",
    "        \n",
    "    def add(self, num):\n",
    "        self.result += num\n",
    "        title()\n",
    "        return self.result\n",
    "    \n",
    "        "
   ]
  },
  {
   "cell_type": "code",
   "execution_count": 7,
   "id": "c9c9f78c",
   "metadata": {},
   "outputs": [
    {
     "ename": "AttributeError",
     "evalue": "'myPrint' object has no attribute 'result'",
     "output_type": "error",
     "traceback": [
      "\u001b[1;31m---------------------------------------------------------------------------\u001b[0m",
      "\u001b[1;31mAttributeError\u001b[0m                            Traceback (most recent call last)",
      "Input \u001b[1;32mIn [7]\u001b[0m, in \u001b[0;36m<module>\u001b[1;34m\u001b[0m\n\u001b[0;32m      1\u001b[0m tmp \u001b[38;5;241m=\u001b[39m myPrint()\n\u001b[1;32m----> 2\u001b[0m \u001b[43mtmp\u001b[49m\u001b[38;5;241;43m.\u001b[39;49m\u001b[43madd\u001b[49m\u001b[43m(\u001b[49m\u001b[38;5;241;43m3\u001b[39;49m\u001b[43m)\u001b[49m\n\u001b[0;32m      3\u001b[0m tmp\u001b[38;5;241m.\u001b[39muserInfo()\n",
      "Input \u001b[1;32mIn [6]\u001b[0m, in \u001b[0;36mmyPrint.add\u001b[1;34m(self, num)\u001b[0m\n\u001b[0;32m     12\u001b[0m \u001b[38;5;28;01mdef\u001b[39;00m \u001b[38;5;21madd\u001b[39m(\u001b[38;5;28mself\u001b[39m, num):\n\u001b[1;32m---> 13\u001b[0m     \u001b[38;5;28mself\u001b[39m\u001b[38;5;241m.\u001b[39mresult \u001b[38;5;241m+\u001b[39m\u001b[38;5;241m=\u001b[39m num\n\u001b[0;32m     14\u001b[0m     title()\n\u001b[0;32m     15\u001b[0m     \u001b[38;5;28;01mreturn\u001b[39;00m \u001b[38;5;28mself\u001b[39m\u001b[38;5;241m.\u001b[39mresult\n",
      "\u001b[1;31mAttributeError\u001b[0m: 'myPrint' object has no attribute 'result'"
     ]
    }
   ],
   "source": [
    "tmp = myPrint()\n",
    "tmp.add(3)\n",
    "tmp.userInfo()"
   ]
  },
  {
   "cell_type": "code",
   "execution_count": 8,
   "id": "0b93d575",
   "metadata": {},
   "outputs": [],
   "source": [
    "class FourCal:\n",
    "    def setdata(self, first, second):\n",
    "        self.first = first\n",
    "        self.second = second\n",
    "    \n",
    "    def add(self):\n",
    "        result = self.first + self.second\n",
    "        return result\n",
    "    \n",
    "    def mul(self):\n",
    "        result = self.first * self.second\n",
    "        return result\n",
    "\n",
    "    def sub(self):\n",
    "        result = self.first - self.second\n",
    "        return result\n",
    "\n",
    "    def div(self):\n",
    "        result = self.first / self.second\n",
    "        return result\n"
   ]
  },
  {
   "cell_type": "code",
   "execution_count": 12,
   "id": "9482a514",
   "metadata": {
    "scrolled": true
   },
   "outputs": [
    {
     "data": {
      "text/plain": [
       "6"
      ]
     },
     "execution_count": 12,
     "metadata": {},
     "output_type": "execute_result"
    }
   ],
   "source": [
    "a = FourCal()\n",
    "a.setdata(4, 2)\n",
    "a.add()\n",
    "a.add()"
   ]
  },
  {
   "cell_type": "code",
   "execution_count": 13,
   "id": "3ba025ac",
   "metadata": {},
   "outputs": [
    {
     "name": "stdout",
     "output_type": "stream",
     "text": [
      "Package              Version\n",
      "-------------------- -------\n",
      "argon2-cffi          21.3.0\n",
      "argon2-cffi-bindings 21.2.0\n",
      "asttokens            2.0.5\n",
      "attrs                21.4.0\n",
      "backcall             0.2.0\n",
      "black                21.12b0\n",
      "bleach               4.1.0\n",
      "cffi                 1.15.0\n",
      "click                8.0.3\n",
      "colorama             0.4.4\n",
      "cycler               0.11.0\n",
      "debugpy              1.5.1\n",
      "decorator            5.1.1\n",
      "defusedxml           0.7.1\n",
      "entrypoints          0.3\n",
      "executing            0.8.2\n",
      "fonttools            4.28.5\n",
      "ipykernel            6.7.0\n",
      "ipython              8.0.0\n",
      "ipython-genutils     0.2.0\n",
      "ipywidgets           7.6.5\n",
      "jedi                 0.18.1\n",
      "Jinja2               3.0.3\n",
      "jsonschema           4.4.0\n",
      "jupyter              1.0.0\n",
      "jupyter-client       7.1.1\n",
      "jupyter-console      6.4.0\n",
      "jupyter-core         4.9.1\n",
      "jupyterlab-pygments  0.1.2\n",
      "jupyterlab-widgets   1.0.2\n",
      "kiwisolver           1.3.2\n",
      "MarkupSafe           2.0.1\n",
      "matplotlib           3.5.1\n",
      "matplotlib-inline    0.1.3\n",
      "mistune              0.8.4\n",
      "mypy-extensions      0.4.3\n",
      "nbclient             0.5.10\n",
      "nbconvert            6.4.0\n",
      "nbformat             5.1.3\n",
      "nest-asyncio         1.5.4\n",
      "notebook             6.4.7\n",
      "numpy                1.22.1\n",
      "packaging            21.3\n",
      "pandas               1.3.5\n",
      "pandocfilters        1.5.0\n",
      "parso                0.8.3\n",
      "pathspec             0.9.0\n",
      "pickleshare          0.7.5\n",
      "Pillow               8.2.0\n",
      "pip                  21.3.1\n",
      "platformdirs         2.4.1\n",
      "prometheus-client    0.12.0\n",
      "prompt-toolkit       3.0.24\n",
      "pure-eval            0.2.1\n",
      "pycparser            2.21\n",
      "Pygments             2.11.2\n",
      "pyparsing            3.0.6\n",
      "pyrsistent           0.18.1\n",
      "python-dateutil      2.8.2\n",
      "pytz                 2021.3\n",
      "pywin32              303\n",
      "pywinpty             1.1.6\n",
      "pyzmq                22.3.0\n",
      "qtconsole            5.2.2\n",
      "QtPy                 2.0.0\n",
      "scipy                1.7.3\n",
      "seaborn              0.11.2\n",
      "Send2Trash           1.8.0\n",
      "setuptools           56.0.0\n",
      "six                  1.16.0\n",
      "stack-data           0.1.4\n",
      "terminado            0.12.1\n",
      "testpath             0.5.0\n",
      "tomli                1.2.3\n",
      "tornado              6.1\n",
      "traitlets            5.1.1\n",
      "typing_extensions    4.0.1\n",
      "wcwidth              0.2.5\n",
      "webencodings         0.5.1\n",
      "widgetsnbextension   3.5.2\n"
     ]
    }
   ],
   "source": [
    "!pip list"
   ]
  }
 ],
 "metadata": {
  "kernelspec": {
   "display_name": "Python 3 (ipykernel)",
   "language": "python",
   "name": "python3"
  },
  "language_info": {
   "codemirror_mode": {
    "name": "ipython",
    "version": 3
   },
   "file_extension": ".py",
   "mimetype": "text/x-python",
   "name": "python",
   "nbconvert_exporter": "python",
   "pygments_lexer": "ipython3",
   "version": "3.9.5"
  }
 },
 "nbformat": 4,
 "nbformat_minor": 5
}
