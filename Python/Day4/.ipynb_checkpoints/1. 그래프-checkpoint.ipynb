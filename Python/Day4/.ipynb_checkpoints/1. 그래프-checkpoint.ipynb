{
 "cells": [
  {
   "cell_type": "markdown",
   "id": "ecbd8e4f",
   "metadata": {},
   "source": [
    "## https://rfriend.tistory.com/search/tips"
   ]
  },
  {
   "cell_type": "code",
   "execution_count": 1,
   "id": "ffb242e5",
   "metadata": {},
   "outputs": [
    {
     "name": "stdout",
     "output_type": "stream",
     "text": [
      "Collecting seaborn\n",
      "  Downloading seaborn-0.11.2-py3-none-any.whl (292 kB)\n",
      "Collecting pandas>=0.23\n",
      "  Using cached pandas-1.3.5-cp39-cp39-win_amd64.whl (10.2 MB)\n",
      "Requirement already satisfied: matplotlib>=2.2 in c:\\users\\admin\\appdata\\local\\programs\\python\\python39\\lib\\site-packages (from seaborn) (3.5.1)\n",
      "Collecting scipy>=1.0\n",
      "  Downloading scipy-1.7.3-cp39-cp39-win_amd64.whl (34.3 MB)\n",
      "Requirement already satisfied: numpy>=1.15 in c:\\users\\admin\\appdata\\local\\programs\\python\\python39\\lib\\site-packages (from seaborn) (1.22.1)\n",
      "Requirement already satisfied: python-dateutil>=2.7 in c:\\users\\admin\\appdata\\local\\programs\\python\\python39\\lib\\site-packages (from matplotlib>=2.2->seaborn) (2.8.2)\n",
      "Requirement already satisfied: fonttools>=4.22.0 in c:\\users\\admin\\appdata\\local\\programs\\python\\python39\\lib\\site-packages (from matplotlib>=2.2->seaborn) (4.28.5)\n",
      "Requirement already satisfied: cycler>=0.10 in c:\\users\\admin\\appdata\\local\\programs\\python\\python39\\lib\\site-packages (from matplotlib>=2.2->seaborn) (0.11.0)\n",
      "Requirement already satisfied: kiwisolver>=1.0.1 in c:\\users\\admin\\appdata\\local\\programs\\python\\python39\\lib\\site-packages (from matplotlib>=2.2->seaborn) (1.3.2)\n",
      "Requirement already satisfied: pillow>=6.2.0 in c:\\users\\admin\\appdata\\local\\programs\\python\\python39\\lib\\site-packages (from matplotlib>=2.2->seaborn) (8.2.0)\n",
      "Requirement already satisfied: packaging>=20.0 in c:\\users\\admin\\appdata\\local\\programs\\python\\python39\\lib\\site-packages (from matplotlib>=2.2->seaborn) (21.3)\n",
      "Requirement already satisfied: pyparsing>=2.2.1 in c:\\users\\admin\\appdata\\local\\programs\\python\\python39\\lib\\site-packages (from matplotlib>=2.2->seaborn) (3.0.6)\n",
      "Collecting pytz>=2017.3\n",
      "  Using cached pytz-2021.3-py2.py3-none-any.whl (503 kB)\n",
      "Requirement already satisfied: six>=1.5 in c:\\users\\admin\\appdata\\local\\programs\\python\\python39\\lib\\site-packages (from python-dateutil>=2.7->matplotlib>=2.2->seaborn) (1.16.0)\n",
      "Installing collected packages: pytz, scipy, pandas, seaborn\n",
      "Successfully installed pandas-1.3.5 pytz-2021.3 scipy-1.7.3 seaborn-0.11.2\n"
     ]
    }
   ],
   "source": [
    "!pip install seaborn"
   ]
  },
  {
   "cell_type": "code",
   "execution_count": 4,
   "id": "ab311fc2",
   "metadata": {},
   "outputs": [],
   "source": [
    "# importing packages\n",
    "import numpy as np\n",
    "import pandas as pd\n",
    "import matplotlib.pyplot as plt\n",
    "import seaborn as sns\n",
    "\n",
    "plt.rcParams['figure.figsize'] = [10, 6]"
   ]
  },
  {
   "cell_type": "code",
   "execution_count": 12,
   "id": "56ef63ee",
   "metadata": {
    "scrolled": false
   },
   "outputs": [
    {
     "data": {
      "text/html": [
       "<div>\n",
       "<style scoped>\n",
       "    .dataframe tbody tr th:only-of-type {\n",
       "        vertical-align: middle;\n",
       "    }\n",
       "\n",
       "    .dataframe tbody tr th {\n",
       "        vertical-align: top;\n",
       "    }\n",
       "\n",
       "    .dataframe thead th {\n",
       "        text-align: right;\n",
       "    }\n",
       "</style>\n",
       "<table border=\"1\" class=\"dataframe\">\n",
       "  <thead>\n",
       "    <tr style=\"text-align: right;\">\n",
       "      <th></th>\n",
       "      <th>total_bill</th>\n",
       "      <th>tip</th>\n",
       "      <th>size</th>\n",
       "    </tr>\n",
       "  </thead>\n",
       "  <tbody>\n",
       "    <tr>\n",
       "      <th>count</th>\n",
       "      <td>244.000000</td>\n",
       "      <td>244.000000</td>\n",
       "      <td>244.000000</td>\n",
       "    </tr>\n",
       "    <tr>\n",
       "      <th>mean</th>\n",
       "      <td>19.785943</td>\n",
       "      <td>2.998279</td>\n",
       "      <td>2.569672</td>\n",
       "    </tr>\n",
       "    <tr>\n",
       "      <th>std</th>\n",
       "      <td>8.902412</td>\n",
       "      <td>1.383638</td>\n",
       "      <td>0.951100</td>\n",
       "    </tr>\n",
       "    <tr>\n",
       "      <th>min</th>\n",
       "      <td>3.070000</td>\n",
       "      <td>1.000000</td>\n",
       "      <td>1.000000</td>\n",
       "    </tr>\n",
       "    <tr>\n",
       "      <th>25%</th>\n",
       "      <td>13.347500</td>\n",
       "      <td>2.000000</td>\n",
       "      <td>2.000000</td>\n",
       "    </tr>\n",
       "    <tr>\n",
       "      <th>50%</th>\n",
       "      <td>17.795000</td>\n",
       "      <td>2.900000</td>\n",
       "      <td>2.000000</td>\n",
       "    </tr>\n",
       "    <tr>\n",
       "      <th>75%</th>\n",
       "      <td>24.127500</td>\n",
       "      <td>3.562500</td>\n",
       "      <td>3.000000</td>\n",
       "    </tr>\n",
       "    <tr>\n",
       "      <th>max</th>\n",
       "      <td>50.810000</td>\n",
       "      <td>10.000000</td>\n",
       "      <td>6.000000</td>\n",
       "    </tr>\n",
       "  </tbody>\n",
       "</table>\n",
       "</div>"
      ],
      "text/plain": [
       "       total_bill         tip        size\n",
       "count  244.000000  244.000000  244.000000\n",
       "mean    19.785943    2.998279    2.569672\n",
       "std      8.902412    1.383638    0.951100\n",
       "min      3.070000    1.000000    1.000000\n",
       "25%     13.347500    2.000000    2.000000\n",
       "50%     17.795000    2.900000    2.000000\n",
       "75%     24.127500    3.562500    3.000000\n",
       "max     50.810000   10.000000    6.000000"
      ]
     },
     "execution_count": 12,
     "metadata": {},
     "output_type": "execute_result"
    }
   ],
   "source": [
    "tips = sns.load_dataset('tips') \n",
    "type(tips)\n",
    "tips[['tip', 'size']]\n",
    "\n",
    "tips.loc[:, ['tip', 'size']]\n",
    "tips.iloc[:,[2, 5]]\n",
    "\n",
    "# tips.info()    # 판다스 명령\n",
    "tips.describe()  # 숫자데이터 기본기술통계"
   ]
  },
  {
   "cell_type": "code",
   "execution_count": 28,
   "id": "b1048429",
   "metadata": {
    "scrolled": true
   },
   "outputs": [
    {
     "data": {
      "text/plain": [
       "total_bill     23.68\n",
       "tip             3.31\n",
       "sex             Male\n",
       "smoker            No\n",
       "day              Sun\n",
       "time          Dinner\n",
       "size               2\n",
       "Name: 3, dtype: object"
      ]
     },
     "execution_count": 28,
     "metadata": {},
     "output_type": "execute_result"
    }
   ],
   "source": [
    "tips.iloc[3, 2]\n",
    "tips.iloc[3, :]"
   ]
  },
  {
   "cell_type": "code",
   "execution_count": 31,
   "id": "53202495",
   "metadata": {
    "scrolled": true
   },
   "outputs": [
    {
     "data": {
      "image/png": "[encoded data removed]",
      "text/plain": [
       "<Figure size 720x432 with 1 Axes>"
      ]
     },
     "metadata": {
      "needs_background": "light"
     },
     "output_type": "display_data"
    }
   ],
   "source": [
    "label = ['Thur', 'Fri', 'Sat', 'Sun']\n",
    "index = np.arange(len(label))\n",
    "title = 'Sum of Tips by Day'\n",
    "\n",
    "plt.bar(index, tips_sum_by_day)\n",
    "plt.title(title, fontsize = 20)\n",
    "plt.xlabel('Day', fontsize = 15)\n",
    "plt.ylabel('Sum of Tips', fontsize = 18)\n",
    "plt.xticks(index, label, fontsize = 15)\n",
    "plt.show()"
   ]
  },
  {
   "cell_type": "code",
   "execution_count": 32,
   "id": "1833f1cb",
   "metadata": {
    "scrolled": true
   },
   "outputs": [
    {
     "data": {
      "image/png": "[encoded data removed]",
      "text/plain": [
       "<Figure size 720x432 with 1 Axes>"
      ]
     },
     "metadata": {
      "needs_background": "light"
     },
     "output_type": "display_data"
    }
   ],
   "source": [
    "plt.barh(index, tips_sum_by_day)\n",
    "plt.title(title, fontsize = 20)\n",
    "plt.xlabel('Day', fontsize = 15)\n",
    "plt.xlabel('Sum of Tips', fontsize = 18)\n",
    "plt.xticks(index, label, fontsize = 15)\n",
    "plt.show()"
   ]
  },
  {
   "cell_type": "code",
   "execution_count": 39,
   "id": "b60626bb",
   "metadata": {},
   "outputs": [],
   "source": [
    "def myChar(sel,tips_sum,title):\n",
    "    if sel==0:\n",
    "        plt.bar(index, tips_sum)\n",
    "    else:\n",
    "        plt.barh(index, tips_sum)    \n",
    "    plt.title(title,fontsize=20)\n",
    "    plt.xlabel('Day', fontsize=18)\n",
    "    plt.ylabel('Sum of Tips', fontsize=18)\n",
    "    \n",
    "    if sel==0:\n",
    "        plt.xticks(index, label, fontsize=15)\n",
    "    else:\n",
    "        plt.yticks(index, label, fontsize=15)\n",
    "    plt.show()\n"
   ]
  },
  {
   "cell_type": "code",
   "execution_count": 40,
   "id": "dc0e2b5e",
   "metadata": {},
   "outputs": [
    {
     "name": "stdout",
     "output_type": "stream",
     "text": [
      "time\n",
      "Lunch     185.51\n",
      "Dinner    546.07\n",
      "Name: tip, dtype: float64\n"
     ]
    },
    {
     "data": {
      "image/png": "[encoded data removed]",
      "text/plain": [
       "<Figure size 720x432 with 1 Axes>"
      ]
     },
     "metadata": {
      "needs_background": "light"
     },
     "output_type": "display_data"
    }
   ],
   "source": [
    "selFiled='time'\n",
    "tips_sum = tips.groupby('time').tip.sum()\n",
    "print(tips_sum)\n",
    "label = ['Lunch', 'Dinner']   # 인덱스값을 자동으로 가져올 수 있게 해야함.\n",
    "# label = ['Thur', 'Fri', 'Sat', 'Sun']\n",
    "index = np.arange(len(label))\n",
    "title='sum of tips by '+ selFiled    # sum of tips +  'time' 일지 'day' 일지\n",
    "\n",
    "myChar(1,tips_sum,title)"
   ]
  },
  {
   "cell_type": "code",
   "execution_count": 27,
   "id": "3a6e6365",
   "metadata": {},
   "outputs": [
    {
     "data": {
      "text/plain": [
       "(4,)"
      ]
     },
     "execution_count": 27,
     "metadata": {},
     "output_type": "execute_result"
    }
   ],
   "source": [
    "tips_sum_by_day = tips.groupby('day').tip.sum()\n",
    "tips_sum_by_day\n",
    "tips_sum_by_day.shape"
   ]
  },
  {
   "cell_type": "code",
   "execution_count": 18,
   "id": "ca8a5b2e",
   "metadata": {},
   "outputs": [],
   "source": [
    "def myDescribe(x):\n",
    "    print('최대값은 %d 입니다' %np.max(x))\n",
    "    print('최소값은 %d 입니다' %np.min(x))\n",
    "    print('편차는 %d 입니다' %np.std(x))"
   ]
  },
  {
   "cell_type": "code",
   "execution_count": 25,
   "id": "3258eb80",
   "metadata": {},
   "outputs": [
    {
     "name": "stdout",
     "output_type": "stream",
     "text": [
      "최대값은 6 입니다\n",
      "최소값은 1 입니다\n",
      "편차는 0 입니다\n"
     ]
    }
   ],
   "source": [
    "nptip = tips['size']\n",
    "type = (nptip)\n",
    "nptip.shape\n",
    "\n",
    "myDescribe(nptip)\n"
   ]
  },
  {
   "cell_type": "code",
   "execution_count": 14,
   "id": "d13597ea",
   "metadata": {
    "scrolled": true
   },
   "outputs": [
    {
     "data": {
      "text/plain": [
       "((3,), (3, 1))"
      ]
     },
     "execution_count": 14,
     "metadata": {},
     "output_type": "execute_result"
    }
   ],
   "source": [
    "a = [1,2,3]\n",
    "b = [[1],[2],[3]]\n",
    "np.shape(a), np.shape(b)"
   ]
  },
  {
   "cell_type": "code",
   "execution_count": null,
   "id": "23834c25",
   "metadata": {},
   "outputs": [],
   "source": [
    "tmp = [1,2,2,3,3]"
   ]
  }
 ],
 "metadata": {
  "kernelspec": {
   "display_name": "Python 3 (ipykernel)",
   "language": "python",
   "name": "python3"
  },
  "language_info": {
   "codemirror_mode": {
    "name": "ipython",
    "version": 3
   },
   "file_extension": ".py",
   "mimetype": "text/x-python",
   "name": "python",
   "nbconvert_exporter": "python",
   "pygments_lexer": "ipython3",
   "version": "3.9.5"
  }
 },
 "nbformat": 4,
 "nbformat_minor": 5
}
