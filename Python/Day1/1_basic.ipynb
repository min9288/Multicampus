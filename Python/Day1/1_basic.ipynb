{
 "cells": [
  {
   "cell_type": "markdown",
   "id": "1a04f302",
   "metadata": {},
   "source": [
    "###[파이썬기초]\n",
    "- 주피터 노트북에서 작성된 자료는 .ipynb 임 (file-save as)\n",
    "- 이 ipynb자료는 주피터를 실행하고 file-open으로 해야함.\n",
    "- 실행된 코드를 문서화하고 싶다면 [file-down load-html] 로 저장하면 됨\n",
    "- 변수 및 \n",
    "- 프로그램 작성시 실행안되는 부분을 주석이라하고 파이썬은 # 표시가 시작되면 주석임"
   ]
  },
  {
   "cell_type": "code",
   "execution_count": 5,
   "id": "cb84c71b",
   "metadata": {},
   "outputs": [
    {
     "name": "stdout",
     "output_type": "stream",
     "text": [
      "----출력----\n",
      "0\n",
      "----출력----\n",
      "1\n",
      "----출력----\n",
      "2\n"
     ]
    }
   ],
   "source": [
    "for i in range(3):\n",
    "    print(\"----출력----\")\n",
    "    print(i)"
   ]
  },
  {
   "cell_type": "code",
   "execution_count": 12,
   "id": "71b6a495",
   "metadata": {},
   "outputs": [],
   "source": [
    "# 파이썬에서는 2개 이상의 자료를 한공간에 넣을 때 리스트, 배열등의 구조 ([ ]) 를 사용할 수 있음.\n",
    "# 변수명 = 상수 : = 을 기준으로 하여서 우측의 상수값(숫자, 문자, 날짜 등의 값)을 왼쪽의 변수명에 넣자\n",
    "# 현재 작업은 메모리에 자료를 리스트의 형태로 넣기만 했음. 출력에 대한 구문이 없기 때문에 출력물 안나옴\n",
    "a=[5,2,2]     # a라는 이름을 갖고있는 공간을 메모리에 할당하자. 그 메모리는 3개의 공간을 갖고있음\n",
    "b=[2,2,3,3]"
   ]
  },
  {
   "cell_type": "code",
   "execution_count": 13,
   "id": "e8f436c6",
   "metadata": {},
   "outputs": [
    {
     "data": {
      "text/plain": [
       "2"
      ]
     },
     "execution_count": 13,
     "metadata": {},
     "output_type": "execute_result"
    }
   ],
   "source": [
    "# 주피터 노트북은 한개의 노트창에 print문을 안주면  가장 하단의 변수만 출력됨\n",
    "a[0]  # a변수의 0번 인덱싱에 있는 자료를 print 하자\n",
    "a[1]  # a변수의 1번 인덱싱에 있는 자료를 print 하자"
   ]
  },
  {
   "cell_type": "code",
   "execution_count": 14,
   "id": "98cabd03",
   "metadata": {},
   "outputs": [
    {
     "name": "stdout",
     "output_type": "stream",
     "text": [
      "5\n",
      "2\n"
     ]
    }
   ],
   "source": [
    "print(a[0])\n",
    "print(a[1])"
   ]
  },
  {
   "cell_type": "markdown",
   "id": "392e4193",
   "metadata": {},
   "source": [
    "### 예약어 (명령어 : 파이썬에서 미리 기능을 갖고 있는 단어 : 내장함수 또는 외부모듈 함수)\n",
    "### 를 변수명으로 잘못사용했다면 어떻게 될까?\n",
    "- 'list' object is not callable 또는 '000' object is not callable 이 나오면\n",
    "- 예약어가 변수로 사용되면서 예약어의 기능을 상실했다."
   ]
  },
  {
   "cell_type": "code",
   "execution_count": 15,
   "id": "5a2f9905",
   "metadata": {},
   "outputs": [
    {
     "data": {
      "text/plain": [
       "4"
      ]
     },
     "metadata": {},
     "output_type": "display_data"
    }
   ],
   "source": [
    "print=[4]    # 메모리에 print 이름을 갖고있는 리스트 공간을 새로 만들고, 그 공간의 0번지에 4라는 값을 할당\n",
    "display(print[0])  # print = 4, display(print[0]) 하면 에러나옴"
   ]
  },
  {
   "cell_type": "markdown",
   "id": "d10db444",
   "metadata": {},
   "source": [
    "### 변수로 사용된 예약어를 Kill 하여서 변수명을 메모리에서 제거\n",
    "### del 변수명 : 사용자가 정해서 변수를 메모리에서 제거하자"
   ]
  },
  {
   "cell_type": "code",
   "execution_count": 16,
   "id": "9afe25d5",
   "metadata": {},
   "outputs": [],
   "source": [
    "del print"
   ]
  },
  {
   "cell_type": "markdown",
   "id": "5a9381a0",
   "metadata": {},
   "source": [
    "## 참고 : 파이썬 작업할때 파이썬 에디터를 종료하지 않고\n",
    "## 새 에디터에서 작업을 하면 메모리 변수는 계속 할당된 상태임\n",
    "## 해결책 1 : 에디터에서 새 파일을 할때는 에디터를 종료하고 새로 start 해서함.\n",
    "## 해결책 2 : 코드의 가장 상단에 기존 메모리의 변수를 모두 제거하는 명령어 코드를 추가하면 됨."
   ]
  }
 ],
 "metadata": {
  "kernelspec": {
   "display_name": "Python 3 (ipykernel)",
   "language": "python",
   "name": "python3"
  },
  "language_info": {
   "codemirror_mode": {
    "name": "ipython",
    "version": 3
   },
   "file_extension": ".py",
   "mimetype": "text/x-python",
   "name": "python",
   "nbconvert_exporter": "python",
   "pygments_lexer": "ipython3",
   "version": "3.9.5"
  }
 },
 "nbformat": 4,
 "nbformat_minor": 5
}
