{
 "cells": [
  {
   "cell_type": "markdown",
   "id": "c8fcdee4",
   "metadata": {},
   "source": [
    "## 파이썬특징\n",
    "## +가 실제 덧셈이 아니라 연결의 개념이 되기도 함"
   ]
  },
  {
   "cell_type": "code",
   "execution_count": 3,
   "id": "4cd6ffb8",
   "metadata": {},
   "outputs": [
    {
     "name": "stdout",
     "output_type": "stream",
     "text": [
      "5\n",
      "[2, 3]\n",
      "5\n"
     ]
    }
   ],
   "source": [
    "########################################\n",
    "#\n",
    "########################################\n",
    "\n",
    "var1 = 2 ; var2 = 3\n",
    "print(var1+var2)\n",
    "var3=[2]; var4=[3]\n",
    "print(var3 + var4)\n",
    "print(var3[0] + var4[0])"
   ]
  },
  {
   "cell_type": "code",
   "execution_count": 4,
   "id": "cb452168",
   "metadata": {},
   "outputs": [
    {
     "name": "stdout",
     "output_type": "stream",
     "text": [
      "7\n",
      "[5, 7, 2]\n"
     ]
    }
   ],
   "source": [
    "var3=[2,5,7]; var4=[3,2,2,3]\n",
    "print(var3[1]+var4[2])\n",
    "print(var3[1:4]+var4[2:3])"
   ]
  },
  {
   "cell_type": "code",
   "execution_count": 6,
   "id": "e3b6e8ba",
   "metadata": {},
   "outputs": [
    {
     "data": {
      "text/plain": [
       "5"
      ]
     },
     "execution_count": 6,
     "metadata": {},
     "output_type": "execute_result"
    }
   ],
   "source": [
    "var3=[[2,5,7], [2,3]]\n",
    "var4=[[3,2,2,3]]\n",
    "var3[0][1]"
   ]
  },
  {
   "cell_type": "markdown",
   "id": "c448359f",
   "metadata": {},
   "source": [
    "### 문자열은 + 는 무조건 연결\n",
    "### a=3 인 a는 변수, 'a'는 문자열"
   ]
  },
  {
   "cell_type": "code",
   "execution_count": 7,
   "id": "11b50f63",
   "metadata": {},
   "outputs": [],
   "source": [
    "txt='python very good'\n",
    "txt='''python very \n",
    "\n",
    "good'''"
   ]
  },
  {
   "cell_type": "code",
   "execution_count": 8,
   "id": "511ce735",
   "metadata": {},
   "outputs": [
    {
     "data": {
      "text/plain": [
       "'pn'"
      ]
     },
     "execution_count": 8,
     "metadata": {},
     "output_type": "execute_result"
    }
   ],
   "source": [
    "txt[0]+txt[5]"
   ]
  },
  {
   "cell_type": "code",
   "execution_count": 9,
   "id": "d5b37a65",
   "metadata": {},
   "outputs": [
    {
     "data": {
      "text/plain": [
       "'hon vn'"
      ]
     },
     "execution_count": 9,
     "metadata": {},
     "output_type": "execute_result"
    }
   ],
   "source": [
    "txt[3:8] + txt[5]"
   ]
  },
  {
   "cell_type": "code",
   "execution_count": 10,
   "id": "6d31bc38",
   "metadata": {},
   "outputs": [
    {
     "data": {
      "text/plain": [
       "'ytytyt'"
      ]
     },
     "execution_count": 10,
     "metadata": {},
     "output_type": "execute_result"
    }
   ],
   "source": [
    "txt[1:3]*3"
   ]
  },
  {
   "cell_type": "code",
   "execution_count": 11,
   "id": "94e3d8a8",
   "metadata": {},
   "outputs": [
    {
     "data": {
      "text/plain": [
       "'**'"
      ]
     },
     "execution_count": 11,
     "metadata": {},
     "output_type": "execute_result"
    }
   ],
   "source": [
    "'*'*2"
   ]
  },
  {
   "cell_type": "code",
   "execution_count": 12,
   "id": "4f4ac733",
   "metadata": {},
   "outputs": [
    {
     "data": {
      "text/plain": [
       "'1p'"
      ]
     },
     "execution_count": 12,
     "metadata": {},
     "output_type": "execute_result"
    }
   ],
   "source": [
    "# 1+txt[0]\n",
    "a=1\n",
    "str(a)+txt[0]"
   ]
  },
  {
   "cell_type": "code",
   "execution_count": 15,
   "id": "e4396c24",
   "metadata": {},
   "outputs": [
    {
     "name": "stdout",
     "output_type": "stream",
     "text": [
      "안녕하세요파이썬 강좌는 30명입니다.\n",
      "('안녕하세요', '파이썬 강좌는 30명 입니다.')\n",
      "['안녕하세요', '파이썬 강좌는 30명 입니다.']\n",
      "[['안녕하세요', '파이썬 강좌는 30명 입니다'], ['환영합니다', '클라우드 강의는 20명']]\n"
     ]
    }
   ],
   "source": [
    "txt='안녕하세요'+'파이썬 강좌는 30명입니다.'\n",
    "txt0='안녕하세요', '파이썬 강좌는 30명 입니다.'\n",
    "txt1=['안녕하세요', '파이썬 강좌는 30명 입니다.']\n",
    "txt2=[\n",
    "    ['안녕하세요', '파이썬 강좌는 30명 입니다'],\n",
    "    ['환영합니다', '클라우드 강의는 20명']\n",
    "]\n",
    "print(txt)\n",
    "print(txt0)\n",
    "print(txt1)\n",
    "print(txt2)"
   ]
  },
  {
   "cell_type": "code",
   "execution_count": 16,
   "id": "67661237",
   "metadata": {},
   "outputs": [
    {
     "name": "stdout",
     "output_type": "stream",
     "text": [
      "안녕\n",
      "['안녕하세요', '파이썬 강좌는 30명 입니다.']\n",
      "[['안녕하세요', '파이썬 강좌는 30명 입니다'], ['환영합니다', '클라우드 강의는 20명']]\n"
     ]
    }
   ],
   "source": [
    "print(txt[0:2])\n",
    "print(txt1[0:2])\n",
    "print(txt2[0:2])"
   ]
  },
  {
   "cell_type": "code",
   "execution_count": null,
   "id": "0669bb1b",
   "metadata": {},
   "outputs": [],
   "source": [
    "## 정규표현식은 검색해보기\n",
    "a='python'"
   ]
  }
 ],
 "metadata": {
  "kernelspec": {
   "display_name": "Python 3 (ipykernel)",
   "language": "python",
   "name": "python3"
  },
  "language_info": {
   "codemirror_mode": {
    "name": "ipython",
    "version": 3
   },
   "file_extension": ".py",
   "mimetype": "text/x-python",
   "name": "python",
   "nbconvert_exporter": "python",
   "pygments_lexer": "ipython3",
   "version": "3.9.5"
  }
 },
 "nbformat": 4,
 "nbformat_minor": 5
}
