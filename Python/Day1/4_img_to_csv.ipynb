{
 "cells": [
  {
   "cell_type": "code",
   "execution_count": 2,
   "id": "d1f4952c",
   "metadata": {},
   "outputs": [
    {
     "name": "stdout",
     "output_type": "stream",
     "text": [
      "./picture/pic1.jpg\n",
      "JPEG\n",
      "RGB\n",
      "(740, 4000)\n",
      "740\n"
     ]
    }
   ],
   "source": [
    "from PIL import Image\n",
    "image = Image.open('./picture/pic1.jpg')\n",
    "print(image.filename)\n",
    "print(image.format)\n",
    "print(image.mode)\n",
    "print(image.size)\n",
    "print(image.size[0])\n"
   ]
  },
  {
   "cell_type": "markdown",
   "id": "a2e11e3d",
   "metadata": {},
   "source": [
    "### 사진의 정보를 리스트에 추가하고\n",
    "### 그 리스트를 제목과 내용의 쌍인 사전구조 (딕셔너리 구조로 제작)\n",
    "### csv 라는 테이블 형식의 자료로 내보내기"
   ]
  },
  {
   "cell_type": "code",
   "execution_count": 4,
   "id": "edd00783",
   "metadata": {},
   "outputs": [],
   "source": [
    "def add(var1, var2):\n",
    "    print('--------------------')\n",
    "    print(var1 + var2)\n",
    "    print('--------------------')"
   ]
  },
  {
   "cell_type": "code",
   "execution_count": 5,
   "id": "a514ae38",
   "metadata": {
    "scrolled": true
   },
   "outputs": [
    {
     "name": "stdout",
     "output_type": "stream",
     "text": [
      "--------------------\n",
      "15\n",
      "--------------------\n"
     ]
    }
   ],
   "source": [
    "add(7,8)"
   ]
  },
  {
   "cell_type": "code",
   "execution_count": 6,
   "id": "28ca3ef7",
   "metadata": {},
   "outputs": [],
   "source": [
    "# 아래는 빈 리스트를 작성하는 방법임\n",
    "imgName=[];\n",
    "imgHeight=[];\n",
    "imgWidth=[]"
   ]
  },
  {
   "cell_type": "code",
   "execution_count": 7,
   "id": "e3fe3bab",
   "metadata": {},
   "outputs": [
    {
     "name": "stdout",
     "output_type": "stream",
     "text": [
      "['./picture/pic1.jpg'] [4000] [740]\n"
     ]
    }
   ],
   "source": [
    "image = Image.open('./picture/pic1.jpg')\n",
    "imgName.append(image.filename)\n",
    "imgWidth.append(image.size[0])     # 너비, 높이\n",
    "imgHeight.append(image.size[1])    # 너비, 높이\n",
    "print(imgName, imgHeight, imgWidth)\n"
   ]
  },
  {
   "cell_type": "code",
   "execution_count": 8,
   "id": "1c4633ca",
   "metadata": {},
   "outputs": [
    {
     "name": "stdout",
     "output_type": "stream",
     "text": [
      "['./picture/pic1.jpg', './picture/pic2.jpg'] [4000, 338] [740, 265]\n"
     ]
    }
   ],
   "source": [
    "image = Image.open('./picture/pic2.jpg')\n",
    "imgName.append(image.filename)\n",
    "imgWidth.append(image.size[0])     # 너비, 높이\n",
    "imgHeight.append(image.size[1])    # 너비, 높이\n",
    "print(imgName, imgHeight, imgWidth)\n"
   ]
  },
  {
   "cell_type": "code",
   "execution_count": 9,
   "id": "e04a7ee4",
   "metadata": {},
   "outputs": [
    {
     "name": "stdout",
     "output_type": "stream",
     "text": [
      "['./picture/pic1.jpg', './picture/pic2.jpg', './picture/pic3.jpg'] [4000, 338, 512] [740, 265, 306]\n"
     ]
    }
   ],
   "source": [
    "image = Image.open('./picture/pic3.jpg')\n",
    "imgName.append(image.filename)\n",
    "imgWidth.append(image.size[0])     # 너비, 높이\n",
    "imgHeight.append(image.size[1])    # 너비, 높이\n",
    "print(imgName, imgHeight, imgWidth)"
   ]
  },
  {
   "cell_type": "code",
   "execution_count": null,
   "id": "cc39a6ac",
   "metadata": {},
   "outputs": [],
   "source": [
    "# [] 표시는 리스트이거나 배열임을 뜻함.\n",
    "# [] 가 안나와야 실제 val 값을 의미\n",
    "\n",
    "picInfor = [[imgName], [imgHeight], [imgWidth]]"
   ]
  },
  {
   "cell_type": "code",
   "execution_count": 10,
   "id": "71614eec",
   "metadata": {},
   "outputs": [],
   "source": [
    "from PIL import Image\n",
    "dic = [] # 변숭[ 리스트를 제작]"
   ]
  },
  {
   "cell_type": "code",
   "execution_count": 11,
   "id": "3b332dc2",
   "metadata": {},
   "outputs": [
    {
     "data": {
      "text/plain": [
       "[{'파일명': './picture/pic1.jpg', '높이': 4000, '너비': 740},\n",
       " {'파일명': './picture/pic2.jpg', '높이': 338, '너비': 265},\n",
       " {'파일명': './picture/pic3.jpg', '높이': 512, '너비': 306}]"
      ]
     },
     "execution_count": 11,
     "metadata": {},
     "output_type": "execute_result"
    }
   ],
   "source": [
    "# 딕셔너리 ({'key제목' : value} 로 한쌍으로 갖고 있는 자료구조)\n",
    "# 딕셔너리 구조는 pandas 라는 데이터프레임만 전문적으로 처리하는 모듈하고 연계하면 쉽게 데이터 프레임(csv)가 됨\n",
    "im = Image.open('./picture/pic1.jpg')\n",
    "dic.append({'파일명' : im.filename,\n",
    "            '높이' : im.height,\n",
    "            '너비' : im.width\n",
    "           })\n",
    "\n",
    "im = Image.open('./picture/pic2.jpg')\n",
    "dic.append({'파일명' : im.filename,\n",
    "            '높이' : im.height,\n",
    "            '너비' : im.width\n",
    "           })\n",
    "\n",
    "im = Image.open('./picture/pic3.jpg')\n",
    "dic.append({'파일명' : im.filename,\n",
    "            '높이' : im.height,\n",
    "            '너비' : im.width\n",
    "           })\n",
    "dic"
   ]
  },
  {
   "cell_type": "code",
   "execution_count": 14,
   "id": "c0314510",
   "metadata": {},
   "outputs": [
    {
     "name": "stdout",
     "output_type": "stream",
     "text": [
      "Requirement already satisfied: pandas in c:\\users\\admin\\miniconda3\\lib\\site-packages (1.3.5)\n",
      "Requirement already satisfied: python-dateutil>=2.7.3 in c:\\users\\admin\\miniconda3\\lib\\site-packages (from pandas) (2.8.2)\n",
      "Requirement already satisfied: pytz>=2017.3 in c:\\users\\admin\\miniconda3\\lib\\site-packages (from pandas) (2021.3)\n",
      "Requirement already satisfied: numpy>=1.17.3 in c:\\users\\admin\\miniconda3\\lib\\site-packages (from pandas) (1.22.1)\n",
      "Requirement already satisfied: six>=1.5 in c:\\users\\admin\\miniconda3\\lib\\site-packages (from python-dateutil>=2.7.3->pandas) (1.16.0)\n"
     ]
    }
   ],
   "source": [
    "!pip install pandas\n",
    "\n",
    "import pandas as pd  # as 뒤에는 맘대로, 거의 약속되어 있음\n",
    "df = pd.DataFrame(dic)\n",
    "df\n",
    "df.to_csv('사진자료정리.csv', encoding='euc-kr')"
   ]
  }
 ],
 "metadata": {
  "kernelspec": {
   "display_name": "Python 3 (ipykernel)",
   "language": "python",
   "name": "python3"
  },
  "language_info": {
   "codemirror_mode": {
    "name": "ipython",
    "version": 3
   },
   "file_extension": ".py",
   "mimetype": "text/x-python",
   "name": "python",
   "nbconvert_exporter": "python",
   "pygments_lexer": "ipython3",
   "version": "3.9.5"
  }
 },
 "nbformat": 4,
 "nbformat_minor": 5
}
